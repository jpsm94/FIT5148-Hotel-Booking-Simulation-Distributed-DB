{
 "cells": [
  {
   "cell_type": "markdown",
   "metadata": {},
   "source": [
    "# FIT5148 Assessment 1\n",
    "#### Student Name: John Paul Mariano\n",
    "#### Student ID: 28037537\n",
    "\n",
    "Date: 12/09/2017\n",
    "Version: 1.0\n",
    "Environment: Python 3 and Jupyter notebook\n",
    "\n",
    "Libraries used:\n",
    "* cx_oracle: to work with Oracle\n",
    "* pandas:for dataframe"
   ]
  },
  {
   "cell_type": "markdown",
   "metadata": {},
   "source": [
    "# Table of Contents\n",
    "1. Database<br/>\n",
    "  1.1. Inroduction<br/>\n",
    "  1.2. Database Objects Creation<br/>\n",
    "  1.3. ER Diagram<br/>\n",
    "  1.4. Indexing<br/>\n",
    "  1.5. Population<br/>\n",
    "2. Oracle Stored Procedure<br/>\n",
    "3. Triggers<br/>\n",
    "4. Fragmentation<br/>\n",
    "5. ETL Demonstration<br/>"
   ]
  },
  {
   "cell_type": "markdown",
   "metadata": {},
   "source": [
    "# Introduction\n",
    "Maximum one page that briefly lists which tasks you have completed and any additional functionality or features that you have done."
   ]
  },
  {
   "cell_type": "markdown",
   "metadata": {},
   "source": [
    "# Task 1- Database (max 8 marks)\n",
    "##  1.1 Introduction \n",
    "Explain attribute names and data types, and relationships between tables. You need to make decisions on using appropriate **PK**s and **FK**s. You will add integrity constraints, check constraints or triggers to achieve the requirements and conditions."
   ]
  },
  {
   "cell_type": "markdown",
   "metadata": {},
   "source": [
    "## 1.1.1 Establish Connections"
   ]
  },
  {
   "cell_type": "code",
   "execution_count": 1,
   "metadata": {
    "collapsed": true
   },
   "outputs": [],
   "source": [
    "# import required libraries\n",
    "import cx_Oracle\n",
    "import pandas as pd"
   ]
  },
  {
   "cell_type": "code",
   "execution_count": 2,
   "metadata": {
    "collapsed": true
   },
   "outputs": [],
   "source": [
    "# create function to connect to database\n",
    "def connect(db_name, user_id, password):\n",
    "    dsn = cx_Oracle.makedsn(host='hippo.its.monash.edu', port='1521', sid=db_name) # pass data source name\n",
    "    conn = cx_Oracle.connect(user=user_id, password=password, dsn=dsn) # connect to database\n",
    "    cur = conn.cursor() # cursor() methods opens a cursor for statements to use. \n",
    "    return cur, conn #return cursor and connection"
   ]
  },
  {
   "cell_type": "code",
   "execution_count": 3,
   "metadata": {
    "collapsed": true
   },
   "outputs": [],
   "source": [
    "# declare variables for credentials\n",
    "my_id = 'S28037537'\n",
    "my_pass = 'student'"
   ]
  },
  {
   "cell_type": "markdown",
   "metadata": {},
   "source": [
    "Now, we connect to **FIT5148A** and **FIT5148B**:"
   ]
  },
  {
   "cell_type": "code",
   "execution_count": 4,
   "metadata": {
    "collapsed": true
   },
   "outputs": [],
   "source": [
    "# connect to site A\n",
    "cur_a, conn_a = connect('FIT5148A', my_id, my_pass)"
   ]
  },
  {
   "cell_type": "code",
   "execution_count": 5,
   "metadata": {
    "collapsed": true
   },
   "outputs": [],
   "source": [
    "# connect to site B\n",
    "cur_b, conn_b = connect('FIT5148B', my_id, my_pass)"
   ]
  },
  {
   "cell_type": "markdown",
   "metadata": {},
   "source": [
    "## 1.1.2 Preparation\n",
    "To enable running of the codes in this notebook multiple times without issues, a cleanup of the database objects (if they exist) is done at this point."
   ]
  },
  {
   "cell_type": "markdown",
   "metadata": {
    "collapsed": true
   },
   "source": [
    "The following are helper functions used for database objects management:"
   ]
  },
  {
   "cell_type": "code",
   "execution_count": 6,
   "metadata": {
    "collapsed": true
   },
   "outputs": [],
   "source": [
    "# function to drop a table\n",
    "# exception when table does not exist is ignored\n",
    "def drop_table(cur, table_name):\n",
    "    sql = '''\n",
    "        BEGIN\n",
    "            EXECUTE IMMEDIATE 'DROP TABLE {}';\n",
    "        EXCEPTION\n",
    "            WHEN OTHERS THEN\n",
    "                IF SQLCODE != -942 THEN\n",
    "                    RAISE;\n",
    "                END IF;\n",
    "        END;'''.format(table_name)\n",
    "    cur.execute(sql)"
   ]
  },
  {
   "cell_type": "code",
   "execution_count": 7,
   "metadata": {
    "collapsed": true
   },
   "outputs": [],
   "source": [
    "def drop_constraint(cur, table_name, constraint_name):\n",
    "    sql = '''\n",
    "        BEGIN\n",
    "            EXECUTE IMMEDIATE 'ALTER TABLE {} DROP CONSTRAINT {}';\n",
    "        EXCEPTION\n",
    "            WHEN OTHERS THEN\n",
    "                IF (SQLCODE != -2443 AND SQLCODE = 942) THEN\n",
    "                    RAISE;\n",
    "                END IF;\n",
    "        END;'''.format(table_name, constraint_name)\n",
    "    cur.execute(sql)"
   ]
  },
  {
   "cell_type": "code",
   "execution_count": 8,
   "metadata": {
    "collapsed": true
   },
   "outputs": [],
   "source": [
    "def drop_sequence(cur, sequence_name):\n",
    "    sql = '''\n",
    "        BEGIN\n",
    "            EXECUTE IMMEDIATE 'DROP SEQUENCE {}';\n",
    "        EXCEPTION\n",
    "            WHEN OTHERS THEN\n",
    "                IF SQLCODE != -2289 THEN\n",
    "                    RAISE;\n",
    "                END IF;\n",
    "        END;'''.format(sequence_name)\n",
    "    cur.execute(sql)"
   ]
  },
  {
   "cell_type": "code",
   "execution_count": 9,
   "metadata": {
    "collapsed": true
   },
   "outputs": [],
   "source": [
    "def drop_index(cur, index_name):\n",
    "    sql = '''\n",
    "        BEGIN\n",
    "            EXECUTE IMMEDIATE 'DROP INDEX {}';\n",
    "        EXCEPTION\n",
    "            WHEN OTHERS THEN\n",
    "                IF SQLCODE != -1418 THEN\n",
    "                    RAISE;\n",
    "                END IF;\n",
    "        END;'''.format(index_name)\n",
    "    cur.execute(sql)"
   ]
  },
  {
   "cell_type": "markdown",
   "metadata": {},
   "source": [
    "First, cleanup objects (if existing) in **FIT5148A**"
   ]
  },
  {
   "cell_type": "code",
   "execution_count": 10,
   "metadata": {
    "collapsed": true
   },
   "outputs": [],
   "source": [
    "# Drop tables\n",
    "drop_table(cur_a, 'hotel')"
   ]
  },
  {
   "cell_type": "code",
   "execution_count": 11,
   "metadata": {
    "collapsed": true
   },
   "outputs": [],
   "source": [
    "# commit changes\n",
    "conn_a.commit()"
   ]
  },
  {
   "cell_type": "markdown",
   "metadata": {},
   "source": [
    "Next, cleanup objects (if existing) in **FIT5148B**"
   ]
  },
  {
   "cell_type": "code",
   "execution_count": 12,
   "metadata": {
    "collapsed": true
   },
   "outputs": [],
   "source": [
    "# Drop constraints\n",
    "# Need to drop foreign key constraints before dropping tables\n",
    "drop_constraint(cur_b, 'customer', 'customer_membership_fk')\n",
    "drop_constraint(cur_b, 'room', 'room_room_type_fk')\n",
    "drop_constraint(cur_b, 'booking', 'booking_customer_fk')\n",
    "drop_constraint(cur_b, 'booked_room', 'booked_room_booking_fk')\n",
    "drop_constraint(cur_b, 'booked_room', 'booked_room_room_fk')\n",
    "drop_constraint(cur_b, 'payment', 'payment_booking_fk')"
   ]
  },
  {
   "cell_type": "code",
   "execution_count": 13,
   "metadata": {
    "collapsed": true
   },
   "outputs": [],
   "source": [
    "# Drop indexes\n",
    "drop_index(cur_b, 'booked_room_dates_idx')\n",
    "drop_index(cur_b, 'room_attrib_idx')"
   ]
  },
  {
   "cell_type": "code",
   "execution_count": 14,
   "metadata": {
    "collapsed": true
   },
   "outputs": [],
   "source": [
    "# Drop sequences\n",
    "drop_sequence(cur_b, 'payment_seq')"
   ]
  },
  {
   "cell_type": "code",
   "execution_count": 15,
   "metadata": {
    "collapsed": true
   },
   "outputs": [],
   "source": [
    "# Drop tables\n",
    "drop_table(cur_b, 'room')\n",
    "drop_table(cur_b, 'room_type')\n",
    "drop_table(cur_b, 'customer')\n",
    "drop_table(cur_b, 'membership')\n",
    "drop_table(cur_b, 'booking')\n",
    "drop_table(cur_b, 'booked_room')\n",
    "drop_table(cur_b, 'payment')"
   ]
  },
  {
   "cell_type": "code",
   "execution_count": 16,
   "metadata": {
    "collapsed": true
   },
   "outputs": [],
   "source": [
    "# commit changes\n",
    "conn_b.commit()"
   ]
  },
  {
   "cell_type": "markdown",
   "metadata": {
    "collapsed": true
   },
   "source": [
    "## 1.2 Database Objects Creation\n",
    "Database tables will be distributed between two locations, **FIT5148A** and **FIT5148B**.<br/>\n",
    "<br/>\n",
    "The **Hotel** table will be created in **FIT5148A** while all the rest are in **FIT5148B**.<br/>\n",
    "<br/>\n",
    "First, create the table in site **FIT5148A**."
   ]
  },
  {
   "cell_type": "markdown",
   "metadata": {},
   "source": [
    "### 1.2.1 Tables\n",
    "### Hotel table\n",
    "The Hotel table stores information about hotels.<br/>\n",
    "The hotel_id column is set as the primary key."
   ]
  },
  {
   "cell_type": "code",
   "execution_count": 17,
   "metadata": {
    "collapsed": true
   },
   "outputs": [],
   "source": [
    "cur_a.execute('''\n",
    "CREATE TABLE hotel (\n",
    "    hotel_id NUMBER(10) NOT NULL,\n",
    "    hotel_name VARCHAR2(40) NOT NULL,\n",
    "    hotel_type VARCHAR2(10),\n",
    "    construct_year NUMBER(4),\n",
    "    country VARCHAR2(30),\n",
    "    city VARCHAR2(30),\n",
    "    address VARCHAR2(100),\n",
    "    contact_num VARCHAR2(30),\n",
    "    contact_email VARCHAR2(40),\n",
    "    CONSTRAINT hotel_pk PRIMARY KEY (hotel_id)\n",
    ")''')"
   ]
  },
  {
   "cell_type": "code",
   "execution_count": 18,
   "metadata": {
    "collapsed": true
   },
   "outputs": [],
   "source": [
    "# commit changes\n",
    "conn_a.commit()"
   ]
  },
  {
   "cell_type": "markdown",
   "metadata": {
    "collapsed": true
   },
   "source": [
    "Next, create the tables in site **FIT5148B**"
   ]
  },
  {
   "cell_type": "markdown",
   "metadata": {},
   "source": [
    "### Room table\n",
    "The Room table stores data about hotel rooms.<br/>\n",
    "The primary key is a compound key consisting of the hotel_id and room_num."
   ]
  },
  {
   "cell_type": "code",
   "execution_count": 19,
   "metadata": {
    "collapsed": true
   },
   "outputs": [],
   "source": [
    "cur_b.execute('''\n",
    "CREATE TABLE room (\n",
    "    hotel_id NUMBER(10) NOT NULL,\n",
    "    room_num NUMBER(6) NOT NULL,\n",
    "    room_type_code VARCHAR2(3),\n",
    "    occupancy NUMBER(2),\n",
    "    rate NUMBER(5,2),\n",
    "    description VARCHAR2(60),\n",
    "    CONSTRAINT room_pk PRIMARY KEY (hotel_id, room_num)\n",
    ")''')"
   ]
  },
  {
   "cell_type": "markdown",
   "metadata": {},
   "source": [
    "### Room_Type table\n",
    "The Room_Type table contains details about different room types.<br/>\n",
    "The room_type_code is the primary key, and is referenced by the Room table."
   ]
  },
  {
   "cell_type": "code",
   "execution_count": 20,
   "metadata": {
    "collapsed": true
   },
   "outputs": [],
   "source": [
    "cur_b.execute('''\n",
    "CREATE TABLE room_type (\n",
    "    room_type_code VARCHAR2(3) NOT NULL,\n",
    "    room_type_name VARCHAR2(20) NOT NULL,\n",
    "    CONSTRAINT room_type_pk PRIMARY KEY (room_type_code)\n",
    ")''')"
   ]
  },
  {
   "cell_type": "markdown",
   "metadata": {},
   "source": [
    "### Customer table\n",
    "The Customer table stores details about the customers who book for hotel rooms.<br/>\n",
    "The primary key is the cust_id."
   ]
  },
  {
   "cell_type": "code",
   "execution_count": 21,
   "metadata": {
    "collapsed": true
   },
   "outputs": [],
   "source": [
    "cur_b.execute('''\n",
    "CREATE TABLE customer (\n",
    "    cust_id NUMBER(10) NOT NULL,\n",
    "    first_name VARCHAR2(30) NOT NULL,\n",
    "    last_name VARCHAR2(30) NOT NULL,\n",
    "    title VARCHAR2(5),\n",
    "    member_tier_code VARCHAR2(3),\n",
    "    member_credit NUMBER(10),\n",
    "    contact_num VARCHAR2(30),\n",
    "    contact_email VARCHAR2(40),\n",
    "    CONSTRAINT customer_pk PRIMARY KEY (cust_id)\n",
    ")''')"
   ]
  },
  {
   "cell_type": "markdown",
   "metadata": {},
   "source": [
    "### Membership table\n",
    "The Membership table stores details about the membership tier levels.<br/>\n",
    "The member_tier_code is the primary key; and it is referenced by the Customer table."
   ]
  },
  {
   "cell_type": "code",
   "execution_count": 22,
   "metadata": {
    "collapsed": true
   },
   "outputs": [],
   "source": [
    "cur_b.execute('''\n",
    "CREATE TABLE membership (\n",
    "    member_tier_code VARCHAR2(3) NOT NULL,\n",
    "    member_tier_name VARCHAR2(30) NOT NULL,\n",
    "    tier_credit NUMBER(6),\n",
    "    discount NUMBER(5,2),\n",
    "    other_reward VARCHAR2(50),\n",
    "    CONSTRAINT membership_pk PRIMARY KEY (member_tier_code)\n",
    ")''')"
   ]
  },
  {
   "cell_type": "markdown",
   "metadata": {},
   "source": [
    "### Booking table\n",
    "The Booking table stores information about bookings made by customers.<br/>\n",
    "The primary key is a booking_id.<br/>\n",
    "Each booking entry can have one or more rooms so they are stored in a separate table, Booked_Room<br/>\n",
    "The Booking table also references the Customer table"
   ]
  },
  {
   "cell_type": "code",
   "execution_count": 23,
   "metadata": {
    "collapsed": true
   },
   "outputs": [],
   "source": [
    "cur_b.execute('''\n",
    "CREATE TABLE booking (\n",
    "    booking_id NUMBER(10) NOT NULL,\n",
    "    cust_id NUMBER(10) NOT NULL,\n",
    "    contact_name VARCHAR2(30),\n",
    "    contact_num VARCHAR2(30),\n",
    "    contact_email VARCHAR2(40),\n",
    "    total_amount NUMBER(12,2),\n",
    "    payment_status VARCHAR2(10),\n",
    "    CONSTRAINT booking_pk PRIMARY KEY (booking_id)\n",
    ")''')"
   ]
  },
  {
   "cell_type": "markdown",
   "metadata": {},
   "source": [
    "### Booked_Room\n",
    "The Booked_Room table contains records for the booked rooms.<br/>\n",
    "Each record in the Booking table can have one or more related records in the Booked_Room table.<br/>\n",
    "The primary key is a compound key.\n",
    "This table references the Booking table as well as the Room table. "
   ]
  },
  {
   "cell_type": "code",
   "execution_count": 24,
   "metadata": {
    "collapsed": true
   },
   "outputs": [],
   "source": [
    "cur_b.execute('''\n",
    "CREATE TABLE booked_room (\n",
    "    booking_id NUMBER(10) NOT NULL,\n",
    "    hotel_id NUMBER(10) NOT NULL,\n",
    "    room_num NUMBER(6) NOT NULL,\n",
    "    guest_num NUMBER(2),\n",
    "    checkin_date DATE NOT NULL,\n",
    "    checkout_date DATE NOT NULL,\n",
    "    CONSTRAINT booked_room_pk PRIMARY KEY (booking_id, hotel_id, room_num, checkin_date, checkout_date)\n",
    ")''')"
   ]
  },
  {
   "cell_type": "markdown",
   "metadata": {},
   "source": [
    "### Payment  table\n",
    "The Payment table contains records of payments.<br/>\n",
    "The primary key is the payment_id column and it is automatically generated using a sequence.<br/>\n",
    "It references the Booking table using the booking_id column."
   ]
  },
  {
   "cell_type": "code",
   "execution_count": 25,
   "metadata": {
    "collapsed": true
   },
   "outputs": [],
   "source": [
    "cur_b.execute('''\n",
    "CREATE TABLE payment (\n",
    "    payment_id NUMBER(10) NOT NULL,\n",
    "    booking_id NUMBER(10) NOT NULL,\n",
    "    payment_date DATE,\n",
    "    payment_method VARCHAR2(20),\n",
    "    payment_amount NUMBER(12,2),\n",
    "    CONSTRAINT payment_pk PRIMARY KEY (payment_id)\n",
    ")''')"
   ]
  },
  {
   "cell_type": "code",
   "execution_count": 26,
   "metadata": {
    "collapsed": true
   },
   "outputs": [],
   "source": [
    "# commit changes\n",
    "conn_b.commit()"
   ]
  },
  {
   "cell_type": "markdown",
   "metadata": {},
   "source": [
    "### 1.2.2 Create Foreign Keys\n",
    "To establish relationships between tables in **FIT5148B**, foreign keys will be created.<br/>\n",
    "<br/>\n",
    "Note that for the relationship and integrity between the **Hotel** table in **FIT5148A** and the related **Room** table in **FIT5148B**, triggers will be used and will be illustrated in a succeeding section below.<br/>\n",
    "This is because the two tables are in different locations."
   ]
  },
  {
   "cell_type": "code",
   "execution_count": 27,
   "metadata": {
    "collapsed": true
   },
   "outputs": [],
   "source": [
    "# the customer table references the membership table for the member_tier_code values\n",
    "cur_b.execute('''\n",
    "ALTER TABLE customer\n",
    "    ADD CONSTRAINT customer_membership_fk\n",
    "        FOREIGN KEY (member_tier_code)\n",
    "        REFERENCES membership(member_tier_code)\n",
    "''')"
   ]
  },
  {
   "cell_type": "code",
   "execution_count": 28,
   "metadata": {
    "collapsed": true
   },
   "outputs": [],
   "source": [
    "# the room table references the room_type table for the room_type_code values\n",
    "cur_b.execute('''\n",
    "ALTER TABLE room\n",
    "    ADD CONSTRAINT room_room_type_fk\n",
    "        FOREIGN KEY (room_type_code)\n",
    "        REFERENCES room_type(room_type_code)\n",
    "''')"
   ]
  },
  {
   "cell_type": "code",
   "execution_count": 29,
   "metadata": {
    "collapsed": true
   },
   "outputs": [],
   "source": [
    "# the booking table references the customer table for the cust_id customer identifier values\n",
    "cur_b.execute('''\n",
    "ALTER TABLE booking\n",
    "    ADD CONSTRAINT booking_customer_fk\n",
    "        FOREIGN KEY (cust_id)\n",
    "        REFERENCES customer(cust_id)\n",
    "''')"
   ]
  },
  {
   "cell_type": "code",
   "execution_count": 30,
   "metadata": {
    "collapsed": true
   },
   "outputs": [],
   "source": [
    "# the booked_room table references the booking table for the booking_id identifier values\n",
    "cur_b.execute('''\n",
    "ALTER TABLE booked_room\n",
    "    ADD CONSTRAINT booked_room_booking_fk\n",
    "        FOREIGN KEY (booking_id)\n",
    "        REFERENCES booking(booking_id)\n",
    "''')"
   ]
  },
  {
   "cell_type": "code",
   "execution_count": 31,
   "metadata": {
    "collapsed": true
   },
   "outputs": [],
   "source": [
    "# the booked_room table references the room table for the (hotel_id and room_num) identifier values\n",
    "cur_b.execute('''\n",
    "ALTER TABLE booked_room\n",
    "    ADD CONSTRAINT booked_room_room_fk\n",
    "        FOREIGN KEY (hotel_id, room_num)\n",
    "        REFERENCES room(hotel_id, room_num)\n",
    "''')"
   ]
  },
  {
   "cell_type": "code",
   "execution_count": 32,
   "metadata": {
    "collapsed": true
   },
   "outputs": [],
   "source": [
    "# the payment table references the booking table for the booking_id identifier values\n",
    "cur_b.execute('''\n",
    "ALTER TABLE payment\n",
    "    ADD CONSTRAINT payment_booking_fk\n",
    "        FOREIGN KEY (booking_id)\n",
    "        REFERENCES booking(booking_id)\n",
    "''')"
   ]
  },
  {
   "cell_type": "code",
   "execution_count": 33,
   "metadata": {
    "collapsed": true
   },
   "outputs": [],
   "source": [
    "# commit changes\n",
    "conn_b.commit()"
   ]
  },
  {
   "cell_type": "markdown",
   "metadata": {},
   "source": [
    "### 1.2.3 Triggers\n",
    "Triggers will be added to specific tables to implement some rules regarding bookings:<br/>\n",
    "- The number of guests in a booked room cannot exceed room occupancy."
   ]
  },
  {
   "cell_type": "code",
   "execution_count": 34,
   "metadata": {
    "collapsed": true
   },
   "outputs": [],
   "source": [
    "# trigger before an insert or update to the booked_room table\n",
    "# it should check that the number of guests does not exceed room occupancy\n",
    "cur_b.execute('''\n",
    "CREATE OR REPLACE TRIGGER booked_room_trigger_biu\n",
    "BEFORE INSERT OR UPDATE ON booked_room\n",
    "FOR EACH ROW\n",
    "DECLARE \n",
    "    maxOccupancy INTEGER;\n",
    "BEGIN\n",
    "    -- get max occupancy\n",
    "    SELECT occupancy INTO maxOccupancy FROM room WHERE hotel_id=:new.hotel_id AND room_num=:new.room_num;\n",
    "    -- raise an error if number of guests is greater than room occupancy\n",
    "    IF (:new.guest_num > maxOccupancy) THEN\n",
    "        RAISE_APPLICATION_ERROR(-20000, 'Number of guests is greater than room occupancy');\n",
    "    END IF;    \n",
    "END;\n",
    "''')\n",
    "conn_b.commit()"
   ]
  },
  {
   "cell_type": "markdown",
   "metadata": {},
   "source": [
    "- Total amount for booking will be computed automatically taking into account the membership discount."
   ]
  },
  {
   "cell_type": "code",
   "execution_count": 35,
   "metadata": {
    "collapsed": true
   },
   "outputs": [],
   "source": [
    "# We will create a view to help in accomplishing this\n",
    "# View for the customer discounts\n",
    "cur_b.execute('''\n",
    "CREATE OR REPLACE VIEW customer_discounts AS\n",
    "    SELECT c.cust_id, m.discount \n",
    "    FROM customer c INNER JOIN MEMBERSHIP m ON c.member_tier_code=m.member_tier_code''')\n",
    "conn_b.commit()"
   ]
  },
  {
   "cell_type": "code",
   "execution_count": 36,
   "metadata": {
    "collapsed": true
   },
   "outputs": [],
   "source": [
    "# trigger after an insert or update to the booked_room table\n",
    "# it will compute the total amount due and update the booking table\n",
    "# it also takes into account the membership discount\n",
    "cur_b.execute('''\n",
    "CREATE OR REPLACE TRIGGER booked_room_trigger_aiu\n",
    "AFTER INSERT OR UPDATE ON booked_room\n",
    "FOR EACH ROW\n",
    "DECLARE \n",
    "    baseRate NUMBER;\n",
    "    discount NUMBER;\n",
    "    discountedAmount NUMBER;\n",
    "BEGIN\n",
    "    -- get rate for booked room\n",
    "    SELECT rate INTO baseRate FROM room WHERE hotel_id=:new.hotel_id AND room_num=:new.room_num;\n",
    "    -- get discount rate for the customer\n",
    "    SELECT discount INTO discount FROM customer_discounts WHERE cust_id= \n",
    "        (SELECT cust_id FROM booking where booking_id=:new.booking_id);\n",
    "    -- compute amount\n",
    "    discountedAmount := baseRate * (100 - discount) / 100;\n",
    "    -- update booking table total amount\n",
    "    UPDATE booking SET total_amount = (total_amount + discountedAmount) WHERE booking_id=:new.booking_id;\n",
    "END;\n",
    "''')\n",
    "conn_b.commit()"
   ]
  },
  {
   "cell_type": "markdown",
   "metadata": {},
   "source": [
    "- Payment amount should be added to the membership credits of the customer\n",
    "- Payment should update the payment status to 'Received'"
   ]
  },
  {
   "cell_type": "code",
   "execution_count": 37,
   "metadata": {
    "collapsed": true
   },
   "outputs": [],
   "source": [
    "# trigger after an insert to the payment table\n",
    "# it will do the following:\n",
    "# - update the membership credits of the customer\n",
    "# - set the payment status of the booking to 'Received' (if payment)\n",
    "#   or set it to 'Cancelled' (if reverse is done, i.e. negative amount)\n",
    "cur_b.execute('''\n",
    "CREATE OR REPLACE TRIGGER payment_trigger_aiu\n",
    "AFTER INSERT OR UPDATE ON payment\n",
    "FOR EACH ROW\n",
    "BEGIN\n",
    "    IF (:new.payment_amount > 0) THEN\n",
    "        -- update payment status\n",
    "        UPDATE booking SET payment_status = 'Received' WHERE booking_id = :new.booking_id;\n",
    "    ELSIF (:new.payment_amount < 0) THEN\n",
    "        -- update payment status\n",
    "        UPDATE booking SET payment_status = 'Cancelled' WHERE booking_id = :new.booking_id;\n",
    "    END IF;\n",
    "    -- update customer credits\n",
    "    UPDATE customer SET member_credit = (member_credit + :new.payment_amount) WHERE cust_id =\n",
    "        (SELECT cust_id FROM booking WHERE booking_id = :new.booking_id);\n",
    "END;\n",
    "''')\n",
    "conn_b.commit()"
   ]
  },
  {
   "cell_type": "markdown",
   "metadata": {},
   "source": [
    "## 1.3 ER Diagram\n",
    "![ER Diagram](./hotel_booking_system_erd.png)"
   ]
  },
  {
   "cell_type": "markdown",
   "metadata": {},
   "source": [
    "#### ER Diagram details:\n",
    "The **Hotel** table is in **FIT548A** while all the rest are in **FIT5148B**.<br/>\n",
    "<br/>\n",
    "Each **Hotel** record can have one or more related records in the **Room** table. But each room can only be related to one hotel.<br/>\n",
    "<br/>\n",
    "Each **Room** record can have 0 or more **Booked_Room** related records. Each booked room can only be associated to one and only one room.<br/>\n",
    "<br/>\n",
    "Each **Room** entry should refer to exactly one **Room_Type**.<br/>\n",
    "<br/>\n",
    "Each **Booking** record can have one or more **Booked_Room** related records. Each booked room can only be associated to one booking record.<br/>\n",
    "<br/>\n",
    "Each **Booking** is associated with one **Customer** record. But each customer record can have 0 or multiple bookings.<br/>\n",
    "<br/>\n",
    "Each **Customer** record has exactly one **Membership** type. The membership types can be referenced by 0 or more customer records.<br/>\n",
    "<br/>\n",
    "Each **Booking** has one or more related **Payment** records. Each payment is associated to one booking record."
   ]
  },
  {
   "cell_type": "markdown",
   "metadata": {},
   "source": [
    "## 1.4 Indexing\n",
    "Create at least one index for an appropriate attribute and sequences where necessary and increment them by 1."
   ]
  },
  {
   "cell_type": "markdown",
   "metadata": {
    "collapsed": true
   },
   "source": [
    "#### Booking Table Index\n",
    "We will create an index in the **Booking** table for the **check-in** and **check-out** columns because queries against these columns are likely to be made when searching for available rooms.<br/>"
   ]
  },
  {
   "cell_type": "code",
   "execution_count": 38,
   "metadata": {
    "collapsed": true
   },
   "outputs": [],
   "source": [
    "cur_b.execute('''\n",
    "CREATE INDEX booked_room_dates_idx\n",
    "    ON booked_room (checkin_date, checkout_date)\n",
    "''')"
   ]
  },
  {
   "cell_type": "markdown",
   "metadata": {},
   "source": [
    "#### Room Table Index\n",
    "Indexes on the Room table are also added on the columns that will be likely used as criteria by users when searching for rooms, such as the **room type**, **occupancy/capacity** and **room rate**."
   ]
  },
  {
   "cell_type": "code",
   "execution_count": 39,
   "metadata": {
    "collapsed": true
   },
   "outputs": [],
   "source": [
    "cur_b.execute('''\n",
    "CREATE INDEX room_attrib_idx\n",
    "    ON room (room_type_code, occupancy, rate)\n",
    "''')"
   ]
  },
  {
   "cell_type": "code",
   "execution_count": 40,
   "metadata": {
    "collapsed": true
   },
   "outputs": [],
   "source": [
    "conn_b.commit()"
   ]
  },
  {
   "cell_type": "markdown",
   "metadata": {},
   "source": [
    "### Sequence"
   ]
  },
  {
   "cell_type": "markdown",
   "metadata": {},
   "source": [
    "#### Payment Sequence\n",
    "We can use a sequence as unique identifier for each booking transaction. It will be set using a trigger on the **Payment** table each time a new payment record is added."
   ]
  },
  {
   "cell_type": "code",
   "execution_count": 41,
   "metadata": {
    "collapsed": true
   },
   "outputs": [],
   "source": [
    "# create sequence\n",
    "cur_b.execute('''\n",
    "CREATE SEQUENCE payment_seq\n",
    "    START WITH     1\n",
    "    INCREMENT BY   1\n",
    "    NOCACHE\n",
    "    NOCYCLE    \n",
    "''')"
   ]
  },
  {
   "cell_type": "code",
   "execution_count": 42,
   "metadata": {
    "collapsed": true
   },
   "outputs": [],
   "source": [
    "# create trigger when record is inserted into table\n",
    "# set the payment_id to the next sequence value\n",
    "cur_b.execute('''\n",
    "CREATE OR REPLACE TRIGGER payment_trigger_bir\n",
    "    BEFORE INSERT ON payment\n",
    "    FOR EACH ROW\n",
    "    BEGIN\n",
    "        SELECT payment_seq.NEXTVAL\n",
    "        INTO :new.payment_id\n",
    "        FROM DUAL;\n",
    "    END;\n",
    "''')"
   ]
  },
  {
   "cell_type": "code",
   "execution_count": 43,
   "metadata": {
    "collapsed": true
   },
   "outputs": [],
   "source": [
    "conn_b.commit()"
   ]
  },
  {
   "cell_type": "markdown",
   "metadata": {},
   "source": [
    "## 1.5 Population \n",
    "Populate your tables with meaningful data. You will use this data to show the results of queries in Task 5. Therefore, make sure your data covers different scenarios so you can prove that your design work perfect in different scenarios (you may lose points otherwise)."
   ]
  },
  {
   "cell_type": "code",
   "execution_count": 44,
   "metadata": {
    "collapsed": true
   },
   "outputs": [],
   "source": [
    "# function to populate data into a table\n",
    "def insert_rows(cur, conn, table_name, data, col_names=None, date_format=None):\n",
    "    try:\n",
    "        col_count = len(data[0]) # column/values count \n",
    "        # set right number of column parameters for the table.\n",
    "        # it is based on the number of items in each tuple in the data list\n",
    "        col_params = ''\n",
    "        for i in range(1, col_count + 1):\n",
    "            col_params += ':{}'.format(i)\n",
    "            if (i < col_count):\n",
    "                col_params += ', '\n",
    "                \n",
    "        # if date format passed, set session date format\n",
    "        if (date_format):\n",
    "            cur.execute('ALTER SESSION SET NLS_DATE_FORMAT=\\'' + date_format + '\\'')\n",
    "\n",
    "        # prepare statement for inserting data\n",
    "        if (col_names):\n",
    "            sql = 'insert into ' + table_name + '(' + col_names + ') values (' + col_params + ')'\n",
    "        else:\n",
    "            sql = 'insert into ' + table_name + ' values (' + col_params + ')'\n",
    "        cur.prepare(sql)\n",
    "        \n",
    "        # execute the sql insert for all rows and commit\n",
    "        cur.executemany(None, data)\n",
    "        conn.commit()\n",
    "        \n",
    "    except Exception as ex:\n",
    "        print('Exception while inserting rows', ex)"
   ]
  },
  {
   "cell_type": "markdown",
   "metadata": {},
   "source": [
    "#### Hotel table data"
   ]
  },
  {
   "cell_type": "code",
   "execution_count": 45,
   "metadata": {
    "collapsed": true
   },
   "outputs": [],
   "source": [
    "# declare list of tuples for the data\n",
    "hotel_data = [\n",
    "    (1, 'ParkRoyal Darling Harbour', '4 Star', 1999, 'Australia', 'Sydney', '161 Elizabeth Street, Sydney, NSW 2000', '02-9286-6000', 'reservation@sheratonsyd.com'),\n",
    "    (2, 'Hyatt Regency Sydney', '5 Star', 1995, 'Australia', 'Sydney', '161 Sussex Street, Sydney, NSW 2000', '02-8069-5434', 'reservation@hyattsyd.com'),\n",
    "    (3, 'InterContinental Rialto', '5 Star', 2001, 'Australia', 'Melbourne', '495 Collins Street, Melbourne, VIC 3000' , '1800-760595', 'reservation@interconmelb.com'),\n",
    "    (4, 'Vibe Savoy Hotel', '3 Star', 2010, 'Australia', 'Melbourne', '630 Little Collins St, Melbourne, VIC 3000', '03-8797-5228', 'reservation@vibesavoy.com'),\n",
    "    (5, 'Hilton Brisbane', '4 Star', 2002, 'Australia', 'Brisbane', '190 Elizabeth St, Brisbane, QLD 4000', '07-3234-2000', 'reservation@hiltonqld.com'),\n",
    "    (6, 'Novotel Surfers Paradise', '4 Star', 2012, 'Australia' , 'Gold Coast', 'Cnr Surfers Paradise Blvd Hanlan Street, QLD 4217', '07-1234-2000', 'reservation@novotel.com')\n",
    "]\n",
    "\n",
    "# insert data into table\n",
    "insert_rows(cur_a, conn_a, 'hotel', hotel_data)"
   ]
  },
  {
   "cell_type": "code",
   "execution_count": 46,
   "metadata": {},
   "outputs": [
    {
     "data": {
      "text/html": [
       "<div>\n",
       "<style>\n",
       "    .dataframe thead tr:only-child th {\n",
       "        text-align: right;\n",
       "    }\n",
       "\n",
       "    .dataframe thead th {\n",
       "        text-align: left;\n",
       "    }\n",
       "\n",
       "    .dataframe tbody tr th {\n",
       "        vertical-align: top;\n",
       "    }\n",
       "</style>\n",
       "<table border=\"1\" class=\"dataframe\">\n",
       "  <thead>\n",
       "    <tr style=\"text-align: right;\">\n",
       "      <th></th>\n",
       "      <th>HOTEL_ID</th>\n",
       "      <th>HOTEL_NAME</th>\n",
       "      <th>HOTEL_TYPE</th>\n",
       "      <th>CONSTRUCT_YEAR</th>\n",
       "      <th>COUNTRY</th>\n",
       "      <th>CITY</th>\n",
       "      <th>ADDRESS</th>\n",
       "      <th>CONTACT_NUM</th>\n",
       "      <th>CONTACT_EMAIL</th>\n",
       "    </tr>\n",
       "  </thead>\n",
       "  <tbody>\n",
       "    <tr>\n",
       "      <th>0</th>\n",
       "      <td>1</td>\n",
       "      <td>ParkRoyal Darling Harbour</td>\n",
       "      <td>4 Star</td>\n",
       "      <td>1999</td>\n",
       "      <td>Australia</td>\n",
       "      <td>Sydney</td>\n",
       "      <td>161 Elizabeth Street, Sydney, NSW 2000</td>\n",
       "      <td>02-9286-6000</td>\n",
       "      <td>reservation@sheratonsyd.com</td>\n",
       "    </tr>\n",
       "    <tr>\n",
       "      <th>1</th>\n",
       "      <td>2</td>\n",
       "      <td>Hyatt Regency Sydney</td>\n",
       "      <td>5 Star</td>\n",
       "      <td>1995</td>\n",
       "      <td>Australia</td>\n",
       "      <td>Sydney</td>\n",
       "      <td>161 Sussex Street, Sydney, NSW 2000</td>\n",
       "      <td>02-8069-5434</td>\n",
       "      <td>reservation@hyattsyd.com</td>\n",
       "    </tr>\n",
       "    <tr>\n",
       "      <th>2</th>\n",
       "      <td>3</td>\n",
       "      <td>InterContinental Rialto</td>\n",
       "      <td>5 Star</td>\n",
       "      <td>2001</td>\n",
       "      <td>Australia</td>\n",
       "      <td>Melbourne</td>\n",
       "      <td>495 Collins Street, Melbourne, VIC 3000</td>\n",
       "      <td>1800-760595</td>\n",
       "      <td>reservation@interconmelb.com</td>\n",
       "    </tr>\n",
       "    <tr>\n",
       "      <th>3</th>\n",
       "      <td>4</td>\n",
       "      <td>Vibe Savoy Hotel</td>\n",
       "      <td>3 Star</td>\n",
       "      <td>2010</td>\n",
       "      <td>Australia</td>\n",
       "      <td>Melbourne</td>\n",
       "      <td>630 Little Collins St, Melbourne, VIC 3000</td>\n",
       "      <td>03-8797-5228</td>\n",
       "      <td>reservation@vibesavoy.com</td>\n",
       "    </tr>\n",
       "    <tr>\n",
       "      <th>4</th>\n",
       "      <td>5</td>\n",
       "      <td>Hilton Brisbane</td>\n",
       "      <td>4 Star</td>\n",
       "      <td>2002</td>\n",
       "      <td>Australia</td>\n",
       "      <td>Brisbane</td>\n",
       "      <td>190 Elizabeth St, Brisbane, QLD 4000</td>\n",
       "      <td>07-3234-2000</td>\n",
       "      <td>reservation@hiltonqld.com</td>\n",
       "    </tr>\n",
       "    <tr>\n",
       "      <th>5</th>\n",
       "      <td>6</td>\n",
       "      <td>Novotel Surfers Paradise</td>\n",
       "      <td>4 Star</td>\n",
       "      <td>2012</td>\n",
       "      <td>Australia</td>\n",
       "      <td>Gold Coast</td>\n",
       "      <td>Cnr Surfers Paradise Blvd Hanlan Street, QLD 4217</td>\n",
       "      <td>07-1234-2000</td>\n",
       "      <td>reservation@novotel.com</td>\n",
       "    </tr>\n",
       "  </tbody>\n",
       "</table>\n",
       "</div>"
      ],
      "text/plain": [
       "   HOTEL_ID                 HOTEL_NAME HOTEL_TYPE  CONSTRUCT_YEAR    COUNTRY  \\\n",
       "0         1  ParkRoyal Darling Harbour     4 Star            1999  Australia   \n",
       "1         2       Hyatt Regency Sydney     5 Star            1995  Australia   \n",
       "2         3    InterContinental Rialto     5 Star            2001  Australia   \n",
       "3         4           Vibe Savoy Hotel     3 Star            2010  Australia   \n",
       "4         5            Hilton Brisbane     4 Star            2002  Australia   \n",
       "5         6   Novotel Surfers Paradise     4 Star            2012  Australia   \n",
       "\n",
       "         CITY                                            ADDRESS  \\\n",
       "0      Sydney             161 Elizabeth Street, Sydney, NSW 2000   \n",
       "1      Sydney                161 Sussex Street, Sydney, NSW 2000   \n",
       "2   Melbourne            495 Collins Street, Melbourne, VIC 3000   \n",
       "3   Melbourne         630 Little Collins St, Melbourne, VIC 3000   \n",
       "4    Brisbane               190 Elizabeth St, Brisbane, QLD 4000   \n",
       "5  Gold Coast  Cnr Surfers Paradise Blvd Hanlan Street, QLD 4217   \n",
       "\n",
       "    CONTACT_NUM                 CONTACT_EMAIL  \n",
       "0  02-9286-6000   reservation@sheratonsyd.com  \n",
       "1  02-8069-5434      reservation@hyattsyd.com  \n",
       "2   1800-760595  reservation@interconmelb.com  \n",
       "3  03-8797-5228     reservation@vibesavoy.com  \n",
       "4  07-3234-2000     reservation@hiltonqld.com  \n",
       "5  07-1234-2000       reservation@novotel.com  "
      ]
     },
     "execution_count": 46,
     "metadata": {},
     "output_type": "execute_result"
    }
   ],
   "source": [
    "# check inserted records\n",
    "df = pd.read_sql('SELECT * from hotel', con=conn_a)\n",
    "df"
   ]
  },
  {
   "cell_type": "markdown",
   "metadata": {},
   "source": [
    "#### Room_Type table data"
   ]
  },
  {
   "cell_type": "code",
   "execution_count": 47,
   "metadata": {
    "collapsed": true
   },
   "outputs": [],
   "source": [
    "# declare list of tuples for the data\n",
    "room_type_data = [\n",
    "    ('SGL', 'Single room'),\n",
    "    ('DBL', 'Double room'),\n",
    "    ('TWN', 'Twin room'),\n",
    "    ('Q', 'Queen room'),\n",
    "    ('K', 'King room'),\n",
    "    ('STU', 'Studio room')\n",
    "]\n",
    "\n",
    "# insert data into table\n",
    "insert_rows(cur_b, conn_b, 'room_type', room_type_data)"
   ]
  },
  {
   "cell_type": "code",
   "execution_count": 48,
   "metadata": {},
   "outputs": [
    {
     "data": {
      "text/html": [
       "<div>\n",
       "<style>\n",
       "    .dataframe thead tr:only-child th {\n",
       "        text-align: right;\n",
       "    }\n",
       "\n",
       "    .dataframe thead th {\n",
       "        text-align: left;\n",
       "    }\n",
       "\n",
       "    .dataframe tbody tr th {\n",
       "        vertical-align: top;\n",
       "    }\n",
       "</style>\n",
       "<table border=\"1\" class=\"dataframe\">\n",
       "  <thead>\n",
       "    <tr style=\"text-align: right;\">\n",
       "      <th></th>\n",
       "      <th>ROOM_TYPE_CODE</th>\n",
       "      <th>ROOM_TYPE_NAME</th>\n",
       "    </tr>\n",
       "  </thead>\n",
       "  <tbody>\n",
       "    <tr>\n",
       "      <th>0</th>\n",
       "      <td>SGL</td>\n",
       "      <td>Single room</td>\n",
       "    </tr>\n",
       "    <tr>\n",
       "      <th>1</th>\n",
       "      <td>DBL</td>\n",
       "      <td>Double room</td>\n",
       "    </tr>\n",
       "    <tr>\n",
       "      <th>2</th>\n",
       "      <td>TWN</td>\n",
       "      <td>Twin room</td>\n",
       "    </tr>\n",
       "    <tr>\n",
       "      <th>3</th>\n",
       "      <td>Q</td>\n",
       "      <td>Queen room</td>\n",
       "    </tr>\n",
       "    <tr>\n",
       "      <th>4</th>\n",
       "      <td>K</td>\n",
       "      <td>King room</td>\n",
       "    </tr>\n",
       "    <tr>\n",
       "      <th>5</th>\n",
       "      <td>STU</td>\n",
       "      <td>Studio room</td>\n",
       "    </tr>\n",
       "  </tbody>\n",
       "</table>\n",
       "</div>"
      ],
      "text/plain": [
       "  ROOM_TYPE_CODE ROOM_TYPE_NAME\n",
       "0            SGL    Single room\n",
       "1            DBL    Double room\n",
       "2            TWN      Twin room\n",
       "3              Q     Queen room\n",
       "4              K      King room\n",
       "5            STU    Studio room"
      ]
     },
     "execution_count": 48,
     "metadata": {},
     "output_type": "execute_result"
    }
   ],
   "source": [
    "# check inserted records\n",
    "df = pd.read_sql('SELECT * from room_type', con=conn_b)\n",
    "df"
   ]
  },
  {
   "cell_type": "markdown",
   "metadata": {},
   "source": [
    "#### Room table data"
   ]
  },
  {
   "cell_type": "code",
   "execution_count": 49,
   "metadata": {
    "collapsed": true
   },
   "outputs": [],
   "source": [
    "# declare list of tuples for the data\n",
    "room_data = [\n",
    "    (1, 101, 'K', 3, 230.00, 'King room, smoking'),\n",
    "    (1, 102, 'K', 3, 230.00, 'King room, smoking'),\n",
    "    (1, 103, 'K', 3, 230.00, 'King room, smoking'),\n",
    "    (1, 104, 'K', 3, 230.00, 'King room, smoking'),\n",
    "    (1, 105, 'K', 3, 230.00, 'King room, smoking'),\n",
    "    (1, 106, 'K', 3, 230.00, 'King room, smoking'),\n",
    "    (1, 201, 'STU', 2, 310.00, 'Studio suite, non-smoking'),\n",
    "    (1, 202, 'STU', 2, 310.00, 'Studio suite, non-smoking'),\n",
    "    (1, 203, 'STU', 2, 310.00, 'Studio suite, non-smoking'),\n",
    "    (1, 204, 'STU', 2, 310.00, 'Studio suite, non-smoking'),\n",
    "    (1, 205, 'STU', 2, 310.00, 'Studio suite, non-smoking'),\n",
    "    (1, 206, 'STU', 2, 310.00, 'Studio suite, non-smoking'),\n",
    "    (2, 101, 'TWN', 2, 190.00, 'Twin room, non-smoking'),\n",
    "    (2, 102, 'TWN', 2, 190.00, 'Twin room, non-smoking'),\n",
    "    (2, 103, 'TWN', 2, 190.00, 'Twin room, non-smoking'),\n",
    "    (2, 104, 'TWN', 2, 190.00, 'Twin room, non-smoking'),\n",
    "    (2, 105, 'TWN', 2, 190.00, 'Twin room, non-smoking'),\n",
    "    (2, 106, 'TWN', 2, 190.00, 'Twin room, non-smoking'),\n",
    "    (2, 201, 'SGL', 1, 140.00, 'Single room, smoking'),\n",
    "    (2, 202, 'SGL', 1, 140.00, 'Single room, smoking'),\n",
    "    (2, 203, 'SGL', 1, 140.00, 'Single room, smoking'),\n",
    "    (2, 204, 'SGL', 1, 140.00, 'Single room, smoking'),\n",
    "    (2, 205, 'SGL', 1, 140.00, 'Single room, smoking'),\n",
    "    (2, 206, 'SGL', 1, 140.00, 'Single room, smoking'),\n",
    "    (3, 101, 'Q', 2, 185.50, 'Twin room, smoking'),\n",
    "    (3, 102, 'Q', 2, 185.50, 'Twin room, smoking'),\n",
    "    (3, 103, 'Q', 2, 185.50, 'Twin room, smoking'),\n",
    "    (3, 104, 'Q', 2, 185.50, 'Twin room, smoking'),\n",
    "    (3, 105, 'Q', 2, 185.50, 'Twin room, smoking'),\n",
    "    (3, 106, 'Q', 2, 185.50, 'Twin room, smoking'),\n",
    "    (3, 201, 'K', 2, 285.50, 'King room, smoking'),\n",
    "    (3, 202, 'K', 2, 285.50, 'King room, smoking'),\n",
    "    (3, 203, 'K', 2, 285.50, 'King room, smoking'),\n",
    "    (3, 204, 'K', 2, 285.50, 'King room, smoking'),\n",
    "    (3, 205, 'K', 2, 285.50, 'King room, smoking'),\n",
    "    (3, 206, 'K', 2, 285.50, 'King room, smoking'),\n",
    "    (4, 101, 'TWN', 2, 155.00, 'Twin room, non-smoking'),\n",
    "    (4, 102, 'TWN', 2, 155.00, 'Twin room, non-smoking'),\n",
    "    (4, 103, 'TWN', 2, 155.00, 'Twin room, non-smoking'),\n",
    "    (4, 104, 'TWN', 2, 155.00, 'Twin room, non-smoking'),\n",
    "    (4, 105, 'TWN', 2, 155.00, 'Twin room, non-smoking'),\n",
    "    (4, 106, 'TWN', 2, 155.00, 'Twin room, non-smoking'),\n",
    "    (4, 201, 'STU', 2, 295.00, 'Studio suite, non-smoking'),\n",
    "    (4, 202, 'STU', 2, 295.00, 'Studio suite, non-smoking'),\n",
    "    (4, 203, 'STU', 2, 295.00, 'Studio suite, non-smoking'),\n",
    "    (4, 204, 'STU', 2, 295.00, 'Studio suite, non-smoking'),\n",
    "    (4, 205, 'STU', 2, 295.00, 'Studio suite, non-smoking'),\n",
    "    (4, 206, 'STU', 2, 295.00, 'Studio suite, non-smoking'),\n",
    "    (5, 101, 'SGL', 1, 100.50, 'Single room, non-smoking'),\n",
    "    (5, 102, 'SGL', 1, 100.50, 'Single room, non-smoking'),\n",
    "    (5, 103, 'SGL', 1, 100.50, 'Single room, non-smoking'),\n",
    "    (5, 104, 'SGL', 1, 100.50, 'Single room, non-smoking'),\n",
    "    (5, 105, 'SGL', 1, 100.50, 'Single room, non-smoking'),\n",
    "    (5, 106, 'SGL', 1, 100.50, 'Single room, non-smoking'),\n",
    "    (5, 201, 'DBL', 2, 300.00, 'King room, non-smoking'),\n",
    "    (5, 202, 'DBL', 2, 300.00, 'King room, non-smoking'),\n",
    "    (5, 203, 'DBL', 2, 300.00, 'King room, non-smoking'),\n",
    "    (5, 204, 'DBL', 2, 300.00, 'King room, non-smoking'),\n",
    "    (5, 205, 'DBL', 2, 300.00, 'King room, non-smoking'),\n",
    "    (5, 206, 'DBL', 2, 300.00, 'King room, non-smoking'),\n",
    "    (6, 101, 'TWN', 2, 280.50, 'Twin room, smoking'),\n",
    "    (6, 102, 'TWN', 2, 280.50, 'Twin room, smoking'),\n",
    "    (6, 103, 'TWN', 2, 280.50, 'Twin room, smoking'),\n",
    "    (6, 104, 'TWN', 2, 280.50, 'Twin room, smoking'),\n",
    "    (6, 105, 'TWN', 2, 280.50, 'Twin room, smoking'),\n",
    "    (6, 106, 'TWN', 2, 280.50, 'Twin room, smoking'),\n",
    "    (6, 201, 'STU', 2, 390.50, 'Studio Suite, smoking'),\n",
    "    (6, 202, 'STU', 2, 390.50, 'Studio Suite, smoking'),\n",
    "    (6, 203, 'STU', 2, 390.50, 'Studio Suite, smoking'),\n",
    "    (6, 204, 'STU', 2, 390.50, 'Studio Suite, smoking'),\n",
    "    (6, 205, 'STU', 2, 390.50, 'Studio Suite, smoking'),\n",
    "    (6, 206, 'STU', 2, 390.50, 'Studio Suite, smoking')\n",
    "]\n",
    "\n",
    "# insert data into table\n",
    "insert_rows(cur_b, conn_b, 'room', room_data)"
   ]
  },
  {
   "cell_type": "code",
   "execution_count": 50,
   "metadata": {},
   "outputs": [
    {
     "data": {
      "text/html": [
       "<div>\n",
       "<style>\n",
       "    .dataframe thead tr:only-child th {\n",
       "        text-align: right;\n",
       "    }\n",
       "\n",
       "    .dataframe thead th {\n",
       "        text-align: left;\n",
       "    }\n",
       "\n",
       "    .dataframe tbody tr th {\n",
       "        vertical-align: top;\n",
       "    }\n",
       "</style>\n",
       "<table border=\"1\" class=\"dataframe\">\n",
       "  <thead>\n",
       "    <tr style=\"text-align: right;\">\n",
       "      <th></th>\n",
       "      <th>HOTEL_ID</th>\n",
       "      <th>ROOM_NUM</th>\n",
       "      <th>ROOM_TYPE_CODE</th>\n",
       "      <th>OCCUPANCY</th>\n",
       "      <th>RATE</th>\n",
       "      <th>DESCRIPTION</th>\n",
       "    </tr>\n",
       "  </thead>\n",
       "  <tbody>\n",
       "    <tr>\n",
       "      <th>0</th>\n",
       "      <td>1</td>\n",
       "      <td>101</td>\n",
       "      <td>K</td>\n",
       "      <td>3</td>\n",
       "      <td>230.0</td>\n",
       "      <td>King room, smoking</td>\n",
       "    </tr>\n",
       "    <tr>\n",
       "      <th>1</th>\n",
       "      <td>1</td>\n",
       "      <td>102</td>\n",
       "      <td>K</td>\n",
       "      <td>3</td>\n",
       "      <td>230.0</td>\n",
       "      <td>King room, smoking</td>\n",
       "    </tr>\n",
       "    <tr>\n",
       "      <th>2</th>\n",
       "      <td>1</td>\n",
       "      <td>103</td>\n",
       "      <td>K</td>\n",
       "      <td>3</td>\n",
       "      <td>230.0</td>\n",
       "      <td>King room, smoking</td>\n",
       "    </tr>\n",
       "    <tr>\n",
       "      <th>3</th>\n",
       "      <td>1</td>\n",
       "      <td>104</td>\n",
       "      <td>K</td>\n",
       "      <td>3</td>\n",
       "      <td>230.0</td>\n",
       "      <td>King room, smoking</td>\n",
       "    </tr>\n",
       "    <tr>\n",
       "      <th>4</th>\n",
       "      <td>1</td>\n",
       "      <td>105</td>\n",
       "      <td>K</td>\n",
       "      <td>3</td>\n",
       "      <td>230.0</td>\n",
       "      <td>King room, smoking</td>\n",
       "    </tr>\n",
       "    <tr>\n",
       "      <th>5</th>\n",
       "      <td>1</td>\n",
       "      <td>106</td>\n",
       "      <td>K</td>\n",
       "      <td>3</td>\n",
       "      <td>230.0</td>\n",
       "      <td>King room, smoking</td>\n",
       "    </tr>\n",
       "    <tr>\n",
       "      <th>6</th>\n",
       "      <td>1</td>\n",
       "      <td>201</td>\n",
       "      <td>STU</td>\n",
       "      <td>2</td>\n",
       "      <td>310.0</td>\n",
       "      <td>Studio suite, non-smoking</td>\n",
       "    </tr>\n",
       "    <tr>\n",
       "      <th>7</th>\n",
       "      <td>1</td>\n",
       "      <td>202</td>\n",
       "      <td>STU</td>\n",
       "      <td>2</td>\n",
       "      <td>310.0</td>\n",
       "      <td>Studio suite, non-smoking</td>\n",
       "    </tr>\n",
       "    <tr>\n",
       "      <th>8</th>\n",
       "      <td>1</td>\n",
       "      <td>203</td>\n",
       "      <td>STU</td>\n",
       "      <td>2</td>\n",
       "      <td>310.0</td>\n",
       "      <td>Studio suite, non-smoking</td>\n",
       "    </tr>\n",
       "    <tr>\n",
       "      <th>9</th>\n",
       "      <td>1</td>\n",
       "      <td>204</td>\n",
       "      <td>STU</td>\n",
       "      <td>2</td>\n",
       "      <td>310.0</td>\n",
       "      <td>Studio suite, non-smoking</td>\n",
       "    </tr>\n",
       "  </tbody>\n",
       "</table>\n",
       "</div>"
      ],
      "text/plain": [
       "   HOTEL_ID  ROOM_NUM ROOM_TYPE_CODE  OCCUPANCY   RATE  \\\n",
       "0         1       101              K          3  230.0   \n",
       "1         1       102              K          3  230.0   \n",
       "2         1       103              K          3  230.0   \n",
       "3         1       104              K          3  230.0   \n",
       "4         1       105              K          3  230.0   \n",
       "5         1       106              K          3  230.0   \n",
       "6         1       201            STU          2  310.0   \n",
       "7         1       202            STU          2  310.0   \n",
       "8         1       203            STU          2  310.0   \n",
       "9         1       204            STU          2  310.0   \n",
       "\n",
       "                 DESCRIPTION  \n",
       "0         King room, smoking  \n",
       "1         King room, smoking  \n",
       "2         King room, smoking  \n",
       "3         King room, smoking  \n",
       "4         King room, smoking  \n",
       "5         King room, smoking  \n",
       "6  Studio suite, non-smoking  \n",
       "7  Studio suite, non-smoking  \n",
       "8  Studio suite, non-smoking  \n",
       "9  Studio suite, non-smoking  "
      ]
     },
     "execution_count": 50,
     "metadata": {},
     "output_type": "execute_result"
    }
   ],
   "source": [
    "# check inserted records\n",
    "df = pd.read_sql('SELECT * from room', con=conn_b)\n",
    "df.head(10) # show 10 rows only"
   ]
  },
  {
   "cell_type": "markdown",
   "metadata": {},
   "source": [
    "#### Membership table data"
   ]
  },
  {
   "cell_type": "code",
   "execution_count": 51,
   "metadata": {
    "collapsed": true
   },
   "outputs": [],
   "source": [
    "# declare list of tuples for the data\n",
    "membership_data = [\n",
    "    ('RED', 'Red Standard', 2000, 0.5, 'Welcome drinks'),\n",
    "    ('BRO', 'Bronze Elite', 5000, 2, 'Dinner for 2'),\n",
    "    ('SIL', 'Silver Elite', 10000, 5, 'Dinner for 2, Theatre tickets'),\n",
    "    ('GOL', 'Gold Elite', 25000, 8, 'Butler service'),\n",
    "    ('PLA', 'Platinum Elite', 50000, 12, 'Butler service, valet, tickets')\n",
    "]\n",
    "\n",
    "# insert data into table\n",
    "insert_rows(cur_b, conn_b, 'membership', membership_data)"
   ]
  },
  {
   "cell_type": "code",
   "execution_count": 52,
   "metadata": {},
   "outputs": [
    {
     "data": {
      "text/html": [
       "<div>\n",
       "<style>\n",
       "    .dataframe thead tr:only-child th {\n",
       "        text-align: right;\n",
       "    }\n",
       "\n",
       "    .dataframe thead th {\n",
       "        text-align: left;\n",
       "    }\n",
       "\n",
       "    .dataframe tbody tr th {\n",
       "        vertical-align: top;\n",
       "    }\n",
       "</style>\n",
       "<table border=\"1\" class=\"dataframe\">\n",
       "  <thead>\n",
       "    <tr style=\"text-align: right;\">\n",
       "      <th></th>\n",
       "      <th>MEMBER_TIER_CODE</th>\n",
       "      <th>MEMBER_TIER_NAME</th>\n",
       "      <th>TIER_CREDIT</th>\n",
       "      <th>DISCOUNT</th>\n",
       "      <th>OTHER_REWARD</th>\n",
       "    </tr>\n",
       "  </thead>\n",
       "  <tbody>\n",
       "    <tr>\n",
       "      <th>0</th>\n",
       "      <td>RED</td>\n",
       "      <td>Red Standard</td>\n",
       "      <td>2000</td>\n",
       "      <td>0.5</td>\n",
       "      <td>Welcome drinks</td>\n",
       "    </tr>\n",
       "    <tr>\n",
       "      <th>1</th>\n",
       "      <td>BRO</td>\n",
       "      <td>Bronze Elite</td>\n",
       "      <td>5000</td>\n",
       "      <td>2.0</td>\n",
       "      <td>Dinner for 2</td>\n",
       "    </tr>\n",
       "    <tr>\n",
       "      <th>2</th>\n",
       "      <td>SIL</td>\n",
       "      <td>Silver Elite</td>\n",
       "      <td>10000</td>\n",
       "      <td>5.0</td>\n",
       "      <td>Dinner for 2, Theatre tickets</td>\n",
       "    </tr>\n",
       "    <tr>\n",
       "      <th>3</th>\n",
       "      <td>GOL</td>\n",
       "      <td>Gold Elite</td>\n",
       "      <td>25000</td>\n",
       "      <td>8.0</td>\n",
       "      <td>Butler service</td>\n",
       "    </tr>\n",
       "    <tr>\n",
       "      <th>4</th>\n",
       "      <td>PLA</td>\n",
       "      <td>Platinum Elite</td>\n",
       "      <td>50000</td>\n",
       "      <td>12.0</td>\n",
       "      <td>Butler service, valet, tickets</td>\n",
       "    </tr>\n",
       "  </tbody>\n",
       "</table>\n",
       "</div>"
      ],
      "text/plain": [
       "  MEMBER_TIER_CODE MEMBER_TIER_NAME  TIER_CREDIT  DISCOUNT  \\\n",
       "0              RED     Red Standard         2000       0.5   \n",
       "1              BRO     Bronze Elite         5000       2.0   \n",
       "2              SIL     Silver Elite        10000       5.0   \n",
       "3              GOL       Gold Elite        25000       8.0   \n",
       "4              PLA   Platinum Elite        50000      12.0   \n",
       "\n",
       "                     OTHER_REWARD  \n",
       "0                  Welcome drinks  \n",
       "1                    Dinner for 2  \n",
       "2   Dinner for 2, Theatre tickets  \n",
       "3                  Butler service  \n",
       "4  Butler service, valet, tickets  "
      ]
     },
     "execution_count": 52,
     "metadata": {},
     "output_type": "execute_result"
    }
   ],
   "source": [
    "# check inserted records\n",
    "df = pd.read_sql('SELECT * from membership', con=conn_b)\n",
    "df"
   ]
  },
  {
   "cell_type": "markdown",
   "metadata": {},
   "source": [
    "#### Customer table data"
   ]
  },
  {
   "cell_type": "code",
   "execution_count": 53,
   "metadata": {
    "collapsed": true
   },
   "outputs": [],
   "source": [
    "# declare list of tuples for the data\n",
    "customer_data = [\n",
    "    (1, 'Malcolm', 'Leja', 'Mr', 'SIL', 11000, '03-2477-9133', 'malcom@leja.com.au'),\n",
    "    (2, 'Claudia', 'Gawrych', 'Ms', 'BRO', 6500, '02-4246-3092', 'claudia@gmail.com'),\n",
    "    (3, 'Eliseo', 'Mikovec', 'Mr', 'RED', 3800, '02-9829-2371', 'emikovec@mikovec.com.au'),\n",
    "    (4, 'Colene', 'Tolbent', 'Ms', 'GOL', 25500, '02-4376-1104', 'colene.tolbent@tolbent.net.au'),\n",
    "    (5, 'Chester', 'Dollins', 'Mr', 'PLA', 80000, '02-1622-6412', 'chester_dollins@gmail.com'),\n",
    "    (6, 'Armando', 'Barkley', 'Mr', 'GOL', 48000, '07-8371-4719', 'armando.barkley@yahoo.com'),\n",
    "    (7, 'Tamie', 'Hollimon', 'Ms', 'BRO', 7800, '03-2444-8291', 'tamie@hollimon.com.au'),\n",
    "    (8, 'Dylan', 'Chaleun', 'Mr', 'SIL', 15500, '08-7915-5110', 'dylan_chaleun@hotmail.com'),\n",
    "    (9, 'John', 'Smith', 'Mr', 'SIL', 15500, '08-7915-8889', 'john.smith@hotmail.com'),\n",
    "    (10, 'Jon', 'Smith', 'Mr', 'PLA', 65000, '08-7915-9999', 'jon_smith@hotmail.com'),\n",
    "    (11, 'Jon', 'Smithson', 'Mr', 'GOL', 48000, '08-7915-1111', 'jon_smithson@hotmail.com')\n",
    "]\n",
    "\n",
    "# insert data into table\n",
    "insert_rows(cur_b, conn_b, 'customer', customer_data)"
   ]
  },
  {
   "cell_type": "code",
   "execution_count": 54,
   "metadata": {},
   "outputs": [
    {
     "data": {
      "text/html": [
       "<div>\n",
       "<style>\n",
       "    .dataframe thead tr:only-child th {\n",
       "        text-align: right;\n",
       "    }\n",
       "\n",
       "    .dataframe thead th {\n",
       "        text-align: left;\n",
       "    }\n",
       "\n",
       "    .dataframe tbody tr th {\n",
       "        vertical-align: top;\n",
       "    }\n",
       "</style>\n",
       "<table border=\"1\" class=\"dataframe\">\n",
       "  <thead>\n",
       "    <tr style=\"text-align: right;\">\n",
       "      <th></th>\n",
       "      <th>CUST_ID</th>\n",
       "      <th>FIRST_NAME</th>\n",
       "      <th>LAST_NAME</th>\n",
       "      <th>TITLE</th>\n",
       "      <th>MEMBER_TIER_CODE</th>\n",
       "      <th>MEMBER_CREDIT</th>\n",
       "      <th>CONTACT_NUM</th>\n",
       "      <th>CONTACT_EMAIL</th>\n",
       "    </tr>\n",
       "  </thead>\n",
       "  <tbody>\n",
       "    <tr>\n",
       "      <th>0</th>\n",
       "      <td>1</td>\n",
       "      <td>Malcolm</td>\n",
       "      <td>Leja</td>\n",
       "      <td>Mr</td>\n",
       "      <td>SIL</td>\n",
       "      <td>11000</td>\n",
       "      <td>03-2477-9133</td>\n",
       "      <td>malcom@leja.com.au</td>\n",
       "    </tr>\n",
       "    <tr>\n",
       "      <th>1</th>\n",
       "      <td>2</td>\n",
       "      <td>Claudia</td>\n",
       "      <td>Gawrych</td>\n",
       "      <td>Ms</td>\n",
       "      <td>BRO</td>\n",
       "      <td>6500</td>\n",
       "      <td>02-4246-3092</td>\n",
       "      <td>claudia@gmail.com</td>\n",
       "    </tr>\n",
       "    <tr>\n",
       "      <th>2</th>\n",
       "      <td>3</td>\n",
       "      <td>Eliseo</td>\n",
       "      <td>Mikovec</td>\n",
       "      <td>Mr</td>\n",
       "      <td>RED</td>\n",
       "      <td>3800</td>\n",
       "      <td>02-9829-2371</td>\n",
       "      <td>emikovec@mikovec.com.au</td>\n",
       "    </tr>\n",
       "    <tr>\n",
       "      <th>3</th>\n",
       "      <td>4</td>\n",
       "      <td>Colene</td>\n",
       "      <td>Tolbent</td>\n",
       "      <td>Ms</td>\n",
       "      <td>GOL</td>\n",
       "      <td>25500</td>\n",
       "      <td>02-4376-1104</td>\n",
       "      <td>colene.tolbent@tolbent.net.au</td>\n",
       "    </tr>\n",
       "    <tr>\n",
       "      <th>4</th>\n",
       "      <td>5</td>\n",
       "      <td>Chester</td>\n",
       "      <td>Dollins</td>\n",
       "      <td>Mr</td>\n",
       "      <td>PLA</td>\n",
       "      <td>80000</td>\n",
       "      <td>02-1622-6412</td>\n",
       "      <td>chester_dollins@gmail.com</td>\n",
       "    </tr>\n",
       "    <tr>\n",
       "      <th>5</th>\n",
       "      <td>6</td>\n",
       "      <td>Armando</td>\n",
       "      <td>Barkley</td>\n",
       "      <td>Mr</td>\n",
       "      <td>GOL</td>\n",
       "      <td>48000</td>\n",
       "      <td>07-8371-4719</td>\n",
       "      <td>armando.barkley@yahoo.com</td>\n",
       "    </tr>\n",
       "    <tr>\n",
       "      <th>6</th>\n",
       "      <td>7</td>\n",
       "      <td>Tamie</td>\n",
       "      <td>Hollimon</td>\n",
       "      <td>Ms</td>\n",
       "      <td>BRO</td>\n",
       "      <td>7800</td>\n",
       "      <td>03-2444-8291</td>\n",
       "      <td>tamie@hollimon.com.au</td>\n",
       "    </tr>\n",
       "    <tr>\n",
       "      <th>7</th>\n",
       "      <td>8</td>\n",
       "      <td>Dylan</td>\n",
       "      <td>Chaleun</td>\n",
       "      <td>Mr</td>\n",
       "      <td>SIL</td>\n",
       "      <td>15500</td>\n",
       "      <td>08-7915-5110</td>\n",
       "      <td>dylan_chaleun@hotmail.com</td>\n",
       "    </tr>\n",
       "    <tr>\n",
       "      <th>8</th>\n",
       "      <td>9</td>\n",
       "      <td>John</td>\n",
       "      <td>Smith</td>\n",
       "      <td>Mr</td>\n",
       "      <td>SIL</td>\n",
       "      <td>15500</td>\n",
       "      <td>08-7915-8889</td>\n",
       "      <td>john.smith@hotmail.com</td>\n",
       "    </tr>\n",
       "    <tr>\n",
       "      <th>9</th>\n",
       "      <td>10</td>\n",
       "      <td>Jon</td>\n",
       "      <td>Smith</td>\n",
       "      <td>Mr</td>\n",
       "      <td>PLA</td>\n",
       "      <td>65000</td>\n",
       "      <td>08-7915-9999</td>\n",
       "      <td>jon_smith@hotmail.com</td>\n",
       "    </tr>\n",
       "    <tr>\n",
       "      <th>10</th>\n",
       "      <td>11</td>\n",
       "      <td>Jon</td>\n",
       "      <td>Smithson</td>\n",
       "      <td>Mr</td>\n",
       "      <td>GOL</td>\n",
       "      <td>48000</td>\n",
       "      <td>08-7915-1111</td>\n",
       "      <td>jon_smithson@hotmail.com</td>\n",
       "    </tr>\n",
       "  </tbody>\n",
       "</table>\n",
       "</div>"
      ],
      "text/plain": [
       "    CUST_ID FIRST_NAME LAST_NAME TITLE MEMBER_TIER_CODE  MEMBER_CREDIT  \\\n",
       "0         1    Malcolm      Leja    Mr              SIL          11000   \n",
       "1         2    Claudia   Gawrych    Ms              BRO           6500   \n",
       "2         3     Eliseo   Mikovec    Mr              RED           3800   \n",
       "3         4     Colene   Tolbent    Ms              GOL          25500   \n",
       "4         5    Chester   Dollins    Mr              PLA          80000   \n",
       "5         6    Armando   Barkley    Mr              GOL          48000   \n",
       "6         7      Tamie  Hollimon    Ms              BRO           7800   \n",
       "7         8      Dylan   Chaleun    Mr              SIL          15500   \n",
       "8         9       John     Smith    Mr              SIL          15500   \n",
       "9        10        Jon     Smith    Mr              PLA          65000   \n",
       "10       11        Jon  Smithson    Mr              GOL          48000   \n",
       "\n",
       "     CONTACT_NUM                  CONTACT_EMAIL  \n",
       "0   03-2477-9133             malcom@leja.com.au  \n",
       "1   02-4246-3092              claudia@gmail.com  \n",
       "2   02-9829-2371        emikovec@mikovec.com.au  \n",
       "3   02-4376-1104  colene.tolbent@tolbent.net.au  \n",
       "4   02-1622-6412      chester_dollins@gmail.com  \n",
       "5   07-8371-4719      armando.barkley@yahoo.com  \n",
       "6   03-2444-8291          tamie@hollimon.com.au  \n",
       "7   08-7915-5110      dylan_chaleun@hotmail.com  \n",
       "8   08-7915-8889         john.smith@hotmail.com  \n",
       "9   08-7915-9999          jon_smith@hotmail.com  \n",
       "10  08-7915-1111       jon_smithson@hotmail.com  "
      ]
     },
     "execution_count": 54,
     "metadata": {},
     "output_type": "execute_result"
    }
   ],
   "source": [
    "# check inserted records\n",
    "df = pd.read_sql('SELECT * from customer', con=conn_b)\n",
    "df"
   ]
  },
  {
   "cell_type": "markdown",
   "metadata": {},
   "source": [
    "#### Booking table data\n",
    "Note that the total amount values are initially 0.00. They will be updated by the trigger that computes the total amount when records on the booked_room table are inserted"
   ]
  },
  {
   "cell_type": "code",
   "execution_count": 55,
   "metadata": {
    "collapsed": true
   },
   "outputs": [],
   "source": [
    "# declare list of tuples for the data\n",
    "booking_data = [\n",
    "    (1, 1, 'Malcolm Leja', '03-2477-9133', 'malcom@leja.com.au', 0.00, 'Pending'),\n",
    "    (2, 2, 'Claudia Gawrych', '02-4246-3092', 'claudia@gmail.com', 0.00, 'Pending'),\n",
    "    (3, 3, 'Eliseo Mikovec', '02-9829-2371', 'emikovec@mikovec.com.au', 0.00, 'Pending'),\n",
    "    (4, 4, 'Colene Tolbent', '02-4376-1104', 'colene.tolbent@tolbent.net.au', 0.00, 'Pending'),\n",
    "    (5, 5, 'Chester Dollins', '02-1622-6412', 'chester_dollins@gmail.com', 0.00, 'Pending'),\n",
    "    (6, 6, 'Armando Barkley', '07-8371-4719', 'armando.barkley@yahoo.com', 0.00, 'Pending'),\n",
    "    (7, 7, 'Tamie Hollimon', '03-2444-8291', 'tamie@hollimon.com.au', 0.00, 'Pending'),\n",
    "    (8, 8, 'Dylan Chaleun', '08-7915-5110', 'dylan_chaleun@hotmail.com', 0.00, 'Pending')\n",
    "]\n",
    "\n",
    "# insert data into table\n",
    "insert_rows(cur_b, conn_b, 'booking', booking_data)"
   ]
  },
  {
   "cell_type": "code",
   "execution_count": 56,
   "metadata": {
    "scrolled": false
   },
   "outputs": [
    {
     "data": {
      "text/html": [
       "<div>\n",
       "<style>\n",
       "    .dataframe thead tr:only-child th {\n",
       "        text-align: right;\n",
       "    }\n",
       "\n",
       "    .dataframe thead th {\n",
       "        text-align: left;\n",
       "    }\n",
       "\n",
       "    .dataframe tbody tr th {\n",
       "        vertical-align: top;\n",
       "    }\n",
       "</style>\n",
       "<table border=\"1\" class=\"dataframe\">\n",
       "  <thead>\n",
       "    <tr style=\"text-align: right;\">\n",
       "      <th></th>\n",
       "      <th>BOOKING_ID</th>\n",
       "      <th>CUST_ID</th>\n",
       "      <th>CONTACT_NAME</th>\n",
       "      <th>CONTACT_NUM</th>\n",
       "      <th>CONTACT_EMAIL</th>\n",
       "      <th>TOTAL_AMOUNT</th>\n",
       "      <th>PAYMENT_STATUS</th>\n",
       "    </tr>\n",
       "  </thead>\n",
       "  <tbody>\n",
       "    <tr>\n",
       "      <th>0</th>\n",
       "      <td>1</td>\n",
       "      <td>1</td>\n",
       "      <td>Malcolm Leja</td>\n",
       "      <td>03-2477-9133</td>\n",
       "      <td>malcom@leja.com.au</td>\n",
       "      <td>0.0</td>\n",
       "      <td>Pending</td>\n",
       "    </tr>\n",
       "    <tr>\n",
       "      <th>1</th>\n",
       "      <td>2</td>\n",
       "      <td>2</td>\n",
       "      <td>Claudia Gawrych</td>\n",
       "      <td>02-4246-3092</td>\n",
       "      <td>claudia@gmail.com</td>\n",
       "      <td>0.0</td>\n",
       "      <td>Pending</td>\n",
       "    </tr>\n",
       "    <tr>\n",
       "      <th>2</th>\n",
       "      <td>3</td>\n",
       "      <td>3</td>\n",
       "      <td>Eliseo Mikovec</td>\n",
       "      <td>02-9829-2371</td>\n",
       "      <td>emikovec@mikovec.com.au</td>\n",
       "      <td>0.0</td>\n",
       "      <td>Pending</td>\n",
       "    </tr>\n",
       "    <tr>\n",
       "      <th>3</th>\n",
       "      <td>4</td>\n",
       "      <td>4</td>\n",
       "      <td>Colene Tolbent</td>\n",
       "      <td>02-4376-1104</td>\n",
       "      <td>colene.tolbent@tolbent.net.au</td>\n",
       "      <td>0.0</td>\n",
       "      <td>Pending</td>\n",
       "    </tr>\n",
       "    <tr>\n",
       "      <th>4</th>\n",
       "      <td>5</td>\n",
       "      <td>5</td>\n",
       "      <td>Chester Dollins</td>\n",
       "      <td>02-1622-6412</td>\n",
       "      <td>chester_dollins@gmail.com</td>\n",
       "      <td>0.0</td>\n",
       "      <td>Pending</td>\n",
       "    </tr>\n",
       "    <tr>\n",
       "      <th>5</th>\n",
       "      <td>6</td>\n",
       "      <td>6</td>\n",
       "      <td>Armando Barkley</td>\n",
       "      <td>07-8371-4719</td>\n",
       "      <td>armando.barkley@yahoo.com</td>\n",
       "      <td>0.0</td>\n",
       "      <td>Pending</td>\n",
       "    </tr>\n",
       "    <tr>\n",
       "      <th>6</th>\n",
       "      <td>7</td>\n",
       "      <td>7</td>\n",
       "      <td>Tamie Hollimon</td>\n",
       "      <td>03-2444-8291</td>\n",
       "      <td>tamie@hollimon.com.au</td>\n",
       "      <td>0.0</td>\n",
       "      <td>Pending</td>\n",
       "    </tr>\n",
       "    <tr>\n",
       "      <th>7</th>\n",
       "      <td>8</td>\n",
       "      <td>8</td>\n",
       "      <td>Dylan Chaleun</td>\n",
       "      <td>08-7915-5110</td>\n",
       "      <td>dylan_chaleun@hotmail.com</td>\n",
       "      <td>0.0</td>\n",
       "      <td>Pending</td>\n",
       "    </tr>\n",
       "  </tbody>\n",
       "</table>\n",
       "</div>"
      ],
      "text/plain": [
       "   BOOKING_ID  CUST_ID     CONTACT_NAME   CONTACT_NUM  \\\n",
       "0           1        1     Malcolm Leja  03-2477-9133   \n",
       "1           2        2  Claudia Gawrych  02-4246-3092   \n",
       "2           3        3   Eliseo Mikovec  02-9829-2371   \n",
       "3           4        4   Colene Tolbent  02-4376-1104   \n",
       "4           5        5  Chester Dollins  02-1622-6412   \n",
       "5           6        6  Armando Barkley  07-8371-4719   \n",
       "6           7        7   Tamie Hollimon  03-2444-8291   \n",
       "7           8        8    Dylan Chaleun  08-7915-5110   \n",
       "\n",
       "                   CONTACT_EMAIL  TOTAL_AMOUNT PAYMENT_STATUS  \n",
       "0             malcom@leja.com.au           0.0        Pending  \n",
       "1              claudia@gmail.com           0.0        Pending  \n",
       "2        emikovec@mikovec.com.au           0.0        Pending  \n",
       "3  colene.tolbent@tolbent.net.au           0.0        Pending  \n",
       "4      chester_dollins@gmail.com           0.0        Pending  \n",
       "5      armando.barkley@yahoo.com           0.0        Pending  \n",
       "6          tamie@hollimon.com.au           0.0        Pending  \n",
       "7      dylan_chaleun@hotmail.com           0.0        Pending  "
      ]
     },
     "execution_count": 56,
     "metadata": {},
     "output_type": "execute_result"
    }
   ],
   "source": [
    "# check inserted records\n",
    "df = pd.read_sql('SELECT * from booking', con=conn_b)\n",
    "df"
   ]
  },
  {
   "cell_type": "markdown",
   "metadata": {},
   "source": [
    "#### Booked_Room table data"
   ]
  },
  {
   "cell_type": "code",
   "execution_count": 57,
   "metadata": {
    "collapsed": true
   },
   "outputs": [],
   "source": [
    "# declare list of tuples for the data\n",
    "booked_room_data = [\n",
    "    (1, 1, 101, 2, '2017-10-01', '2017-10-05'),\n",
    "    (2, 1, 201, 2, '2017-11-01', '2017-11-05'),\n",
    "    (2, 1, 201, 2, '2017-11-06', '2017-11-07'),\n",
    "    (3, 2, 102, 2, '2017-11-10', '2017-11-15'),\n",
    "    (3, 2, 103, 2, '2017-11-10', '2017-11-15'),\n",
    "    (4, 2, 105, 2, '2017-11-01', '2017-11-03'),\n",
    "    (4, 3, 105, 2, '2017-11-04', '2017-11-06'),\n",
    "    (4, 4, 105, 2, '2017-11-07', '2017-11-10'),\n",
    "    (5, 3, 206, 2, '2017-12-01', '2017-12-10'),\n",
    "    (5, 4, 206, 2, '2017-12-11', '2017-12-20'),\n",
    "    (5, 5, 206, 2, '2017-12-21', '2017-12-30'),\n",
    "    (6, 4, 204, 2, '2017-12-20', '2017-12-26'),\n",
    "    (6, 4, 205, 2, '2017-12-20', '2017-12-26'),\n",
    "    (7, 1, 201, 2, '2017-12-20', '2017-12-26'),\n",
    "    (7, 1, 202, 2, '2017-12-20', '2017-12-26'),\n",
    "    (7, 6, 201, 2, '2017-12-20', '2017-12-26'),\n",
    "    (7, 6, 202, 2, '2017-12-20', '2017-12-26'),\n",
    "    (8, 6, 203, 2, '2017-10-20', '2017-10-26'),\n",
    "    (8, 6, 206, 2, '2017-10-20', '2017-10-26')\n",
    "]\n",
    "\n",
    "# insert data into table\n",
    "insert_rows(cur_b, conn_b, 'booked_room', booked_room_data, None, 'YYYY-MM-DD')"
   ]
  },
  {
   "cell_type": "code",
   "execution_count": 58,
   "metadata": {
    "scrolled": true
   },
   "outputs": [
    {
     "data": {
      "text/html": [
       "<div>\n",
       "<style>\n",
       "    .dataframe thead tr:only-child th {\n",
       "        text-align: right;\n",
       "    }\n",
       "\n",
       "    .dataframe thead th {\n",
       "        text-align: left;\n",
       "    }\n",
       "\n",
       "    .dataframe tbody tr th {\n",
       "        vertical-align: top;\n",
       "    }\n",
       "</style>\n",
       "<table border=\"1\" class=\"dataframe\">\n",
       "  <thead>\n",
       "    <tr style=\"text-align: right;\">\n",
       "      <th></th>\n",
       "      <th>BOOKING_ID</th>\n",
       "      <th>HOTEL_ID</th>\n",
       "      <th>ROOM_NUM</th>\n",
       "      <th>GUEST_NUM</th>\n",
       "      <th>CHECKIN_DATE</th>\n",
       "      <th>CHECKOUT_DATE</th>\n",
       "    </tr>\n",
       "  </thead>\n",
       "  <tbody>\n",
       "    <tr>\n",
       "      <th>0</th>\n",
       "      <td>1</td>\n",
       "      <td>1</td>\n",
       "      <td>101</td>\n",
       "      <td>2</td>\n",
       "      <td>2017-10-01</td>\n",
       "      <td>2017-10-05</td>\n",
       "    </tr>\n",
       "    <tr>\n",
       "      <th>1</th>\n",
       "      <td>2</td>\n",
       "      <td>1</td>\n",
       "      <td>201</td>\n",
       "      <td>2</td>\n",
       "      <td>2017-11-01</td>\n",
       "      <td>2017-11-05</td>\n",
       "    </tr>\n",
       "    <tr>\n",
       "      <th>2</th>\n",
       "      <td>2</td>\n",
       "      <td>1</td>\n",
       "      <td>201</td>\n",
       "      <td>2</td>\n",
       "      <td>2017-11-06</td>\n",
       "      <td>2017-11-07</td>\n",
       "    </tr>\n",
       "    <tr>\n",
       "      <th>3</th>\n",
       "      <td>3</td>\n",
       "      <td>2</td>\n",
       "      <td>102</td>\n",
       "      <td>2</td>\n",
       "      <td>2017-11-10</td>\n",
       "      <td>2017-11-15</td>\n",
       "    </tr>\n",
       "    <tr>\n",
       "      <th>4</th>\n",
       "      <td>3</td>\n",
       "      <td>2</td>\n",
       "      <td>103</td>\n",
       "      <td>2</td>\n",
       "      <td>2017-11-10</td>\n",
       "      <td>2017-11-15</td>\n",
       "    </tr>\n",
       "    <tr>\n",
       "      <th>5</th>\n",
       "      <td>4</td>\n",
       "      <td>2</td>\n",
       "      <td>105</td>\n",
       "      <td>2</td>\n",
       "      <td>2017-11-01</td>\n",
       "      <td>2017-11-03</td>\n",
       "    </tr>\n",
       "    <tr>\n",
       "      <th>6</th>\n",
       "      <td>4</td>\n",
       "      <td>3</td>\n",
       "      <td>105</td>\n",
       "      <td>2</td>\n",
       "      <td>2017-11-04</td>\n",
       "      <td>2017-11-06</td>\n",
       "    </tr>\n",
       "    <tr>\n",
       "      <th>7</th>\n",
       "      <td>4</td>\n",
       "      <td>4</td>\n",
       "      <td>105</td>\n",
       "      <td>2</td>\n",
       "      <td>2017-11-07</td>\n",
       "      <td>2017-11-10</td>\n",
       "    </tr>\n",
       "    <tr>\n",
       "      <th>8</th>\n",
       "      <td>5</td>\n",
       "      <td>3</td>\n",
       "      <td>206</td>\n",
       "      <td>2</td>\n",
       "      <td>2017-12-01</td>\n",
       "      <td>2017-12-10</td>\n",
       "    </tr>\n",
       "    <tr>\n",
       "      <th>9</th>\n",
       "      <td>5</td>\n",
       "      <td>4</td>\n",
       "      <td>206</td>\n",
       "      <td>2</td>\n",
       "      <td>2017-12-11</td>\n",
       "      <td>2017-12-20</td>\n",
       "    </tr>\n",
       "  </tbody>\n",
       "</table>\n",
       "</div>"
      ],
      "text/plain": [
       "   BOOKING_ID  HOTEL_ID  ROOM_NUM  GUEST_NUM CHECKIN_DATE CHECKOUT_DATE\n",
       "0           1         1       101          2   2017-10-01    2017-10-05\n",
       "1           2         1       201          2   2017-11-01    2017-11-05\n",
       "2           2         1       201          2   2017-11-06    2017-11-07\n",
       "3           3         2       102          2   2017-11-10    2017-11-15\n",
       "4           3         2       103          2   2017-11-10    2017-11-15\n",
       "5           4         2       105          2   2017-11-01    2017-11-03\n",
       "6           4         3       105          2   2017-11-04    2017-11-06\n",
       "7           4         4       105          2   2017-11-07    2017-11-10\n",
       "8           5         3       206          2   2017-12-01    2017-12-10\n",
       "9           5         4       206          2   2017-12-11    2017-12-20"
      ]
     },
     "execution_count": 58,
     "metadata": {},
     "output_type": "execute_result"
    }
   ],
   "source": [
    "# check inserted records\n",
    "df = pd.read_sql('SELECT * from booked_room', con=conn_b)\n",
    "df.head(10) # show 10 rows only"
   ]
  },
  {
   "cell_type": "markdown",
   "metadata": {},
   "source": [
    "After Booked_Room records are inserted, the total amounts in the Booking table were updated by a trigger, as shown below:"
   ]
  },
  {
   "cell_type": "code",
   "execution_count": 59,
   "metadata": {},
   "outputs": [
    {
     "data": {
      "text/html": [
       "<div>\n",
       "<style>\n",
       "    .dataframe thead tr:only-child th {\n",
       "        text-align: right;\n",
       "    }\n",
       "\n",
       "    .dataframe thead th {\n",
       "        text-align: left;\n",
       "    }\n",
       "\n",
       "    .dataframe tbody tr th {\n",
       "        vertical-align: top;\n",
       "    }\n",
       "</style>\n",
       "<table border=\"1\" class=\"dataframe\">\n",
       "  <thead>\n",
       "    <tr style=\"text-align: right;\">\n",
       "      <th></th>\n",
       "      <th>BOOKING_ID</th>\n",
       "      <th>CUST_ID</th>\n",
       "      <th>CONTACT_NAME</th>\n",
       "      <th>CONTACT_NUM</th>\n",
       "      <th>CONTACT_EMAIL</th>\n",
       "      <th>TOTAL_AMOUNT</th>\n",
       "      <th>PAYMENT_STATUS</th>\n",
       "    </tr>\n",
       "  </thead>\n",
       "  <tbody>\n",
       "    <tr>\n",
       "      <th>0</th>\n",
       "      <td>1</td>\n",
       "      <td>1</td>\n",
       "      <td>Malcolm Leja</td>\n",
       "      <td>03-2477-9133</td>\n",
       "      <td>malcom@leja.com.au</td>\n",
       "      <td>218.50</td>\n",
       "      <td>Pending</td>\n",
       "    </tr>\n",
       "    <tr>\n",
       "      <th>1</th>\n",
       "      <td>2</td>\n",
       "      <td>2</td>\n",
       "      <td>Claudia Gawrych</td>\n",
       "      <td>02-4246-3092</td>\n",
       "      <td>claudia@gmail.com</td>\n",
       "      <td>607.60</td>\n",
       "      <td>Pending</td>\n",
       "    </tr>\n",
       "    <tr>\n",
       "      <th>2</th>\n",
       "      <td>3</td>\n",
       "      <td>3</td>\n",
       "      <td>Eliseo Mikovec</td>\n",
       "      <td>02-9829-2371</td>\n",
       "      <td>emikovec@mikovec.com.au</td>\n",
       "      <td>378.10</td>\n",
       "      <td>Pending</td>\n",
       "    </tr>\n",
       "    <tr>\n",
       "      <th>3</th>\n",
       "      <td>4</td>\n",
       "      <td>4</td>\n",
       "      <td>Colene Tolbent</td>\n",
       "      <td>02-4376-1104</td>\n",
       "      <td>colene.tolbent@tolbent.net.au</td>\n",
       "      <td>488.06</td>\n",
       "      <td>Pending</td>\n",
       "    </tr>\n",
       "    <tr>\n",
       "      <th>4</th>\n",
       "      <td>5</td>\n",
       "      <td>5</td>\n",
       "      <td>Chester Dollins</td>\n",
       "      <td>02-1622-6412</td>\n",
       "      <td>chester_dollins@gmail.com</td>\n",
       "      <td>774.84</td>\n",
       "      <td>Pending</td>\n",
       "    </tr>\n",
       "    <tr>\n",
       "      <th>5</th>\n",
       "      <td>6</td>\n",
       "      <td>6</td>\n",
       "      <td>Armando Barkley</td>\n",
       "      <td>07-8371-4719</td>\n",
       "      <td>armando.barkley@yahoo.com</td>\n",
       "      <td>542.80</td>\n",
       "      <td>Pending</td>\n",
       "    </tr>\n",
       "    <tr>\n",
       "      <th>6</th>\n",
       "      <td>7</td>\n",
       "      <td>7</td>\n",
       "      <td>Tamie Hollimon</td>\n",
       "      <td>03-2444-8291</td>\n",
       "      <td>tamie@hollimon.com.au</td>\n",
       "      <td>1372.98</td>\n",
       "      <td>Pending</td>\n",
       "    </tr>\n",
       "    <tr>\n",
       "      <th>7</th>\n",
       "      <td>8</td>\n",
       "      <td>8</td>\n",
       "      <td>Dylan Chaleun</td>\n",
       "      <td>08-7915-5110</td>\n",
       "      <td>dylan_chaleun@hotmail.com</td>\n",
       "      <td>741.96</td>\n",
       "      <td>Pending</td>\n",
       "    </tr>\n",
       "  </tbody>\n",
       "</table>\n",
       "</div>"
      ],
      "text/plain": [
       "   BOOKING_ID  CUST_ID     CONTACT_NAME   CONTACT_NUM  \\\n",
       "0           1        1     Malcolm Leja  03-2477-9133   \n",
       "1           2        2  Claudia Gawrych  02-4246-3092   \n",
       "2           3        3   Eliseo Mikovec  02-9829-2371   \n",
       "3           4        4   Colene Tolbent  02-4376-1104   \n",
       "4           5        5  Chester Dollins  02-1622-6412   \n",
       "5           6        6  Armando Barkley  07-8371-4719   \n",
       "6           7        7   Tamie Hollimon  03-2444-8291   \n",
       "7           8        8    Dylan Chaleun  08-7915-5110   \n",
       "\n",
       "                   CONTACT_EMAIL  TOTAL_AMOUNT PAYMENT_STATUS  \n",
       "0             malcom@leja.com.au        218.50        Pending  \n",
       "1              claudia@gmail.com        607.60        Pending  \n",
       "2        emikovec@mikovec.com.au        378.10        Pending  \n",
       "3  colene.tolbent@tolbent.net.au        488.06        Pending  \n",
       "4      chester_dollins@gmail.com        774.84        Pending  \n",
       "5      armando.barkley@yahoo.com        542.80        Pending  \n",
       "6          tamie@hollimon.com.au       1372.98        Pending  \n",
       "7      dylan_chaleun@hotmail.com        741.96        Pending  "
      ]
     },
     "execution_count": 59,
     "metadata": {},
     "output_type": "execute_result"
    }
   ],
   "source": [
    "# check inserted records\n",
    "df = pd.read_sql('SELECT * from booking', con=conn_b)\n",
    "df"
   ]
  },
  {
   "cell_type": "markdown",
   "metadata": {},
   "source": [
    "#### Payment table data"
   ]
  },
  {
   "cell_type": "code",
   "execution_count": 60,
   "metadata": {
    "collapsed": true
   },
   "outputs": [],
   "source": [
    "# declare list of tuples for the data\n",
    "payment_data = [\n",
    "    (1, '2017-09-29', 'Credit Card', 1000.00),\n",
    "    (1, '2017-09-30', 'Credit Card', 500.00),\n",
    "    (2, '2017-10-29', 'BPay', 1000.00),\n",
    "    (2, '2017-10-30', 'Credit Card', 200.50),\n",
    "    (3, '2017-11-01', 'BPay', 2500.00),\n",
    "    (4, '2017-11-10', 'PayPal', 1150.00),\n",
    "    (5, '2017-11-20', 'Credit Card', 1600.00),\n",
    "    (5, '2017-11-25', 'PayPal', 1500.00)\n",
    "]\n",
    "\n",
    "# insert data into table\n",
    "insert_rows(cur_b, conn_b, 'payment', payment_data, \n",
    "            'booking_id, payment_date, payment_method, payment_amount',\n",
    "            'YYYY-MM-DD')"
   ]
  },
  {
   "cell_type": "code",
   "execution_count": 61,
   "metadata": {},
   "outputs": [
    {
     "data": {
      "text/html": [
       "<div>\n",
       "<style>\n",
       "    .dataframe thead tr:only-child th {\n",
       "        text-align: right;\n",
       "    }\n",
       "\n",
       "    .dataframe thead th {\n",
       "        text-align: left;\n",
       "    }\n",
       "\n",
       "    .dataframe tbody tr th {\n",
       "        vertical-align: top;\n",
       "    }\n",
       "</style>\n",
       "<table border=\"1\" class=\"dataframe\">\n",
       "  <thead>\n",
       "    <tr style=\"text-align: right;\">\n",
       "      <th></th>\n",
       "      <th>PAYMENT_ID</th>\n",
       "      <th>BOOKING_ID</th>\n",
       "      <th>PAYMENT_DATE</th>\n",
       "      <th>PAYMENT_METHOD</th>\n",
       "      <th>PAYMENT_AMOUNT</th>\n",
       "    </tr>\n",
       "  </thead>\n",
       "  <tbody>\n",
       "    <tr>\n",
       "      <th>0</th>\n",
       "      <td>1</td>\n",
       "      <td>1</td>\n",
       "      <td>2017-09-29</td>\n",
       "      <td>Credit Card</td>\n",
       "      <td>1000.0</td>\n",
       "    </tr>\n",
       "    <tr>\n",
       "      <th>1</th>\n",
       "      <td>2</td>\n",
       "      <td>1</td>\n",
       "      <td>2017-09-30</td>\n",
       "      <td>Credit Card</td>\n",
       "      <td>500.0</td>\n",
       "    </tr>\n",
       "    <tr>\n",
       "      <th>2</th>\n",
       "      <td>3</td>\n",
       "      <td>2</td>\n",
       "      <td>2017-10-29</td>\n",
       "      <td>BPay</td>\n",
       "      <td>1000.0</td>\n",
       "    </tr>\n",
       "    <tr>\n",
       "      <th>3</th>\n",
       "      <td>4</td>\n",
       "      <td>2</td>\n",
       "      <td>2017-10-30</td>\n",
       "      <td>Credit Card</td>\n",
       "      <td>200.5</td>\n",
       "    </tr>\n",
       "    <tr>\n",
       "      <th>4</th>\n",
       "      <td>5</td>\n",
       "      <td>3</td>\n",
       "      <td>2017-11-01</td>\n",
       "      <td>BPay</td>\n",
       "      <td>2500.0</td>\n",
       "    </tr>\n",
       "    <tr>\n",
       "      <th>5</th>\n",
       "      <td>6</td>\n",
       "      <td>4</td>\n",
       "      <td>2017-11-10</td>\n",
       "      <td>PayPal</td>\n",
       "      <td>1150.0</td>\n",
       "    </tr>\n",
       "    <tr>\n",
       "      <th>6</th>\n",
       "      <td>7</td>\n",
       "      <td>5</td>\n",
       "      <td>2017-11-20</td>\n",
       "      <td>Credit Card</td>\n",
       "      <td>1600.0</td>\n",
       "    </tr>\n",
       "    <tr>\n",
       "      <th>7</th>\n",
       "      <td>8</td>\n",
       "      <td>5</td>\n",
       "      <td>2017-11-25</td>\n",
       "      <td>PayPal</td>\n",
       "      <td>1500.0</td>\n",
       "    </tr>\n",
       "  </tbody>\n",
       "</table>\n",
       "</div>"
      ],
      "text/plain": [
       "   PAYMENT_ID  BOOKING_ID PAYMENT_DATE PAYMENT_METHOD  PAYMENT_AMOUNT\n",
       "0           1           1   2017-09-29    Credit Card          1000.0\n",
       "1           2           1   2017-09-30    Credit Card           500.0\n",
       "2           3           2   2017-10-29           BPay          1000.0\n",
       "3           4           2   2017-10-30    Credit Card           200.5\n",
       "4           5           3   2017-11-01           BPay          2500.0\n",
       "5           6           4   2017-11-10         PayPal          1150.0\n",
       "6           7           5   2017-11-20    Credit Card          1600.0\n",
       "7           8           5   2017-11-25         PayPal          1500.0"
      ]
     },
     "execution_count": 61,
     "metadata": {},
     "output_type": "execute_result"
    }
   ],
   "source": [
    "# check inserted records\n",
    "df = pd.read_sql('SELECT * from payment', con=conn_b)\n",
    "df"
   ]
  },
  {
   "cell_type": "markdown",
   "metadata": {},
   "source": [
    "Note that after the payment records were added, the Booking table was updated by a trigger and the payment status was set to 'Received' for those bookings with payments<br/>\n",
    "See below:"
   ]
  },
  {
   "cell_type": "code",
   "execution_count": 62,
   "metadata": {},
   "outputs": [
    {
     "data": {
      "text/html": [
       "<div>\n",
       "<style>\n",
       "    .dataframe thead tr:only-child th {\n",
       "        text-align: right;\n",
       "    }\n",
       "\n",
       "    .dataframe thead th {\n",
       "        text-align: left;\n",
       "    }\n",
       "\n",
       "    .dataframe tbody tr th {\n",
       "        vertical-align: top;\n",
       "    }\n",
       "</style>\n",
       "<table border=\"1\" class=\"dataframe\">\n",
       "  <thead>\n",
       "    <tr style=\"text-align: right;\">\n",
       "      <th></th>\n",
       "      <th>BOOKING_ID</th>\n",
       "      <th>CUST_ID</th>\n",
       "      <th>CONTACT_NAME</th>\n",
       "      <th>CONTACT_NUM</th>\n",
       "      <th>CONTACT_EMAIL</th>\n",
       "      <th>TOTAL_AMOUNT</th>\n",
       "      <th>PAYMENT_STATUS</th>\n",
       "    </tr>\n",
       "  </thead>\n",
       "  <tbody>\n",
       "    <tr>\n",
       "      <th>0</th>\n",
       "      <td>1</td>\n",
       "      <td>1</td>\n",
       "      <td>Malcolm Leja</td>\n",
       "      <td>03-2477-9133</td>\n",
       "      <td>malcom@leja.com.au</td>\n",
       "      <td>218.50</td>\n",
       "      <td>Received</td>\n",
       "    </tr>\n",
       "    <tr>\n",
       "      <th>1</th>\n",
       "      <td>2</td>\n",
       "      <td>2</td>\n",
       "      <td>Claudia Gawrych</td>\n",
       "      <td>02-4246-3092</td>\n",
       "      <td>claudia@gmail.com</td>\n",
       "      <td>607.60</td>\n",
       "      <td>Received</td>\n",
       "    </tr>\n",
       "    <tr>\n",
       "      <th>2</th>\n",
       "      <td>3</td>\n",
       "      <td>3</td>\n",
       "      <td>Eliseo Mikovec</td>\n",
       "      <td>02-9829-2371</td>\n",
       "      <td>emikovec@mikovec.com.au</td>\n",
       "      <td>378.10</td>\n",
       "      <td>Received</td>\n",
       "    </tr>\n",
       "    <tr>\n",
       "      <th>3</th>\n",
       "      <td>4</td>\n",
       "      <td>4</td>\n",
       "      <td>Colene Tolbent</td>\n",
       "      <td>02-4376-1104</td>\n",
       "      <td>colene.tolbent@tolbent.net.au</td>\n",
       "      <td>488.06</td>\n",
       "      <td>Received</td>\n",
       "    </tr>\n",
       "    <tr>\n",
       "      <th>4</th>\n",
       "      <td>5</td>\n",
       "      <td>5</td>\n",
       "      <td>Chester Dollins</td>\n",
       "      <td>02-1622-6412</td>\n",
       "      <td>chester_dollins@gmail.com</td>\n",
       "      <td>774.84</td>\n",
       "      <td>Received</td>\n",
       "    </tr>\n",
       "    <tr>\n",
       "      <th>5</th>\n",
       "      <td>6</td>\n",
       "      <td>6</td>\n",
       "      <td>Armando Barkley</td>\n",
       "      <td>07-8371-4719</td>\n",
       "      <td>armando.barkley@yahoo.com</td>\n",
       "      <td>542.80</td>\n",
       "      <td>Pending</td>\n",
       "    </tr>\n",
       "    <tr>\n",
       "      <th>6</th>\n",
       "      <td>7</td>\n",
       "      <td>7</td>\n",
       "      <td>Tamie Hollimon</td>\n",
       "      <td>03-2444-8291</td>\n",
       "      <td>tamie@hollimon.com.au</td>\n",
       "      <td>1372.98</td>\n",
       "      <td>Pending</td>\n",
       "    </tr>\n",
       "    <tr>\n",
       "      <th>7</th>\n",
       "      <td>8</td>\n",
       "      <td>8</td>\n",
       "      <td>Dylan Chaleun</td>\n",
       "      <td>08-7915-5110</td>\n",
       "      <td>dylan_chaleun@hotmail.com</td>\n",
       "      <td>741.96</td>\n",
       "      <td>Pending</td>\n",
       "    </tr>\n",
       "  </tbody>\n",
       "</table>\n",
       "</div>"
      ],
      "text/plain": [
       "   BOOKING_ID  CUST_ID     CONTACT_NAME   CONTACT_NUM  \\\n",
       "0           1        1     Malcolm Leja  03-2477-9133   \n",
       "1           2        2  Claudia Gawrych  02-4246-3092   \n",
       "2           3        3   Eliseo Mikovec  02-9829-2371   \n",
       "3           4        4   Colene Tolbent  02-4376-1104   \n",
       "4           5        5  Chester Dollins  02-1622-6412   \n",
       "5           6        6  Armando Barkley  07-8371-4719   \n",
       "6           7        7   Tamie Hollimon  03-2444-8291   \n",
       "7           8        8    Dylan Chaleun  08-7915-5110   \n",
       "\n",
       "                   CONTACT_EMAIL  TOTAL_AMOUNT PAYMENT_STATUS  \n",
       "0             malcom@leja.com.au        218.50       Received  \n",
       "1              claudia@gmail.com        607.60       Received  \n",
       "2        emikovec@mikovec.com.au        378.10       Received  \n",
       "3  colene.tolbent@tolbent.net.au        488.06       Received  \n",
       "4      chester_dollins@gmail.com        774.84       Received  \n",
       "5      armando.barkley@yahoo.com        542.80        Pending  \n",
       "6          tamie@hollimon.com.au       1372.98        Pending  \n",
       "7      dylan_chaleun@hotmail.com        741.96        Pending  "
      ]
     },
     "execution_count": 62,
     "metadata": {},
     "output_type": "execute_result"
    }
   ],
   "source": [
    "# check inserted records\n",
    "df = pd.read_sql('SELECT * from booking', con=conn_b)\n",
    "df"
   ]
  },
  {
   "cell_type": "markdown",
   "metadata": {},
   "source": [
    "# Task 2- Oracle Stored Procedure (max 2 marks)\n",
    "Create an Oracle Stored Procedure for updating the contact email attribute in the Hotel table. Make sure to keep the query results after you call them. Show your code works as expected."
   ]
  },
  {
   "cell_type": "code",
   "execution_count": 63,
   "metadata": {
    "collapsed": true
   },
   "outputs": [],
   "source": [
    "cur_a.execute('''\n",
    "CREATE OR REPLACE PROCEDURE updateContactEmail (\n",
    "    p_contactEmail IN hotel.contact_email%TYPE,\n",
    "    p_hotelName IN hotel.hotel_name%TYPE)\n",
    "IS\n",
    "BEGIN\n",
    "    UPDATE hotel SET contact_email=p_contactEmail WHERE hotel_name=p_hotelName;\n",
    "    COMMIT;\n",
    "END;\n",
    "''')"
   ]
  },
  {
   "cell_type": "markdown",
   "metadata": {},
   "source": [
    "Let's first check out the current contact email for a specific hotel, \"Hyatt Regency Sydney\""
   ]
  },
  {
   "cell_type": "code",
   "execution_count": 64,
   "metadata": {},
   "outputs": [
    {
     "data": {
      "text/html": [
       "<div>\n",
       "<style>\n",
       "    .dataframe thead tr:only-child th {\n",
       "        text-align: right;\n",
       "    }\n",
       "\n",
       "    .dataframe thead th {\n",
       "        text-align: left;\n",
       "    }\n",
       "\n",
       "    .dataframe tbody tr th {\n",
       "        vertical-align: top;\n",
       "    }\n",
       "</style>\n",
       "<table border=\"1\" class=\"dataframe\">\n",
       "  <thead>\n",
       "    <tr style=\"text-align: right;\">\n",
       "      <th></th>\n",
       "      <th>HOTEL_NAME</th>\n",
       "      <th>CONTACT_EMAIL</th>\n",
       "    </tr>\n",
       "  </thead>\n",
       "  <tbody>\n",
       "    <tr>\n",
       "      <th>0</th>\n",
       "      <td>Hyatt Regency Sydney</td>\n",
       "      <td>reservation@hyattsyd.com</td>\n",
       "    </tr>\n",
       "  </tbody>\n",
       "</table>\n",
       "</div>"
      ],
      "text/plain": [
       "             HOTEL_NAME             CONTACT_EMAIL\n",
       "0  Hyatt Regency Sydney  reservation@hyattsyd.com"
      ]
     },
     "execution_count": 64,
     "metadata": {},
     "output_type": "execute_result"
    }
   ],
   "source": [
    "df = pd.read_sql('SELECT hotel_name, contact_email FROM hotel WHERE hotel_name=\\'Hyatt Regency Sydney\\'', con=conn_a)\n",
    "df"
   ]
  },
  {
   "cell_type": "markdown",
   "metadata": {},
   "source": [
    "Now, let's call the stored procedure to update the contact email and set a new email address"
   ]
  },
  {
   "cell_type": "code",
   "execution_count": 65,
   "metadata": {},
   "outputs": [
    {
     "data": {
      "text/plain": [
       "['contact@sydney.hyatt.com', 'Hyatt Regency Sydney']"
      ]
     },
     "execution_count": 65,
     "metadata": {},
     "output_type": "execute_result"
    }
   ],
   "source": [
    "cur_a.callproc('updateContactEmail', \n",
    "               ('contact@sydney.hyatt.com', 'Hyatt Regency Sydney'))"
   ]
  },
  {
   "cell_type": "markdown",
   "metadata": {},
   "source": [
    "Finally, let's rerun the same query to show the hotel and its updated email address"
   ]
  },
  {
   "cell_type": "code",
   "execution_count": 66,
   "metadata": {},
   "outputs": [
    {
     "data": {
      "text/html": [
       "<div>\n",
       "<style>\n",
       "    .dataframe thead tr:only-child th {\n",
       "        text-align: right;\n",
       "    }\n",
       "\n",
       "    .dataframe thead th {\n",
       "        text-align: left;\n",
       "    }\n",
       "\n",
       "    .dataframe tbody tr th {\n",
       "        vertical-align: top;\n",
       "    }\n",
       "</style>\n",
       "<table border=\"1\" class=\"dataframe\">\n",
       "  <thead>\n",
       "    <tr style=\"text-align: right;\">\n",
       "      <th></th>\n",
       "      <th>HOTEL_NAME</th>\n",
       "      <th>CONTACT_EMAIL</th>\n",
       "    </tr>\n",
       "  </thead>\n",
       "  <tbody>\n",
       "    <tr>\n",
       "      <th>0</th>\n",
       "      <td>Hyatt Regency Sydney</td>\n",
       "      <td>contact@sydney.hyatt.com</td>\n",
       "    </tr>\n",
       "  </tbody>\n",
       "</table>\n",
       "</div>"
      ],
      "text/plain": [
       "             HOTEL_NAME             CONTACT_EMAIL\n",
       "0  Hyatt Regency Sydney  contact@sydney.hyatt.com"
      ]
     },
     "execution_count": 66,
     "metadata": {},
     "output_type": "execute_result"
    }
   ],
   "source": [
    "df = pd.read_sql('SELECT hotel_name, contact_email FROM hotel WHERE hotel_name=\\'Hyatt Regency Sydney\\'', con=conn_a)\n",
    "df"
   ]
  },
  {
   "cell_type": "markdown",
   "metadata": {},
   "source": [
    "# Task 3 – Triggers (max 3 marks)\n",
    "Oracle Triggers are used to implement referential integrity across those tables that have relationships but are located across FIT5148A and FIT5148B. These triggers need to consider all the possible operations (insert, update, and delete). "
   ]
  },
  {
   "cell_type": "markdown",
   "metadata": {
    "collapsed": true
   },
   "source": [
    "#### Room Table\n",
    "A trigger will be added to the **Room** table so that during a new **insert** or an **update**, a check will be done if the hotel_id passed is valid by checking if it exists in the **Hotel** table."
   ]
  },
  {
   "cell_type": "code",
   "execution_count": 67,
   "metadata": {
    "collapsed": true
   },
   "outputs": [],
   "source": [
    "# trigger to check if hotel_id set in the room table is valid by checking if it exists in the hotel table\n",
    "# this is called for both the INSERT and UPDATE actions on the room table\n",
    "cur_b.execute('''\n",
    "CREATE OR REPLACE TRIGGER room_trigger_biu\n",
    "BEFORE INSERT OR UPDATE ON room\n",
    "FOR EACH ROW\n",
    "DECLARE \n",
    "    hotelIdCount INTEGER;\n",
    "BEGIN\n",
    "    -- check if hotel_id argument exists in the hotel table\n",
    "    SELECT COUNT(1) INTO hotelIdCount FROM hotel@FIT5148A WHERE hotel_id=:new.hotel_id;\n",
    "    -- raise an error if hotel_id does not exist in the hotel table\n",
    "    IF(hotelIdCount < 1) THEN\n",
    "        RAISE_APPLICATION_ERROR(-20000, 'Integrity constraint violated: Invalid Hotel Id');\n",
    "    END IF;    \n",
    "END;\n",
    "''')\n",
    "conn_b.commit()"
   ]
  },
  {
   "cell_type": "markdown",
   "metadata": {},
   "source": [
    "#### Hotel Table\n",
    "Two triggers will be added on the **Hotel** table.<br/>\n",
    "When an **update** or **delete** is done on the Hotel table, a check will be done if the hotel_id being updated is used in the **Room** table."
   ]
  },
  {
   "cell_type": "code",
   "execution_count": 68,
   "metadata": {
    "collapsed": true
   },
   "outputs": [],
   "source": [
    "# trigger to check if a record in the room table refers to a hotel_id for a record being deleted in the hotel table\n",
    "cur_a.execute('''\n",
    "CREATE OR REPLACE TRIGGER hotel_trigger_bd\n",
    "BEFORE DELETE ON hotel\n",
    "FOR EACH ROW\n",
    "DECLARE \n",
    "    hotelIdCount INTEGER;\n",
    "BEGIN\n",
    "    -- check if hotel_id for record being deleted is used in the room table\n",
    "    SELECT COUNT(1) INTO hotelIdCount FROM room@FIT5148B WHERE hotel_id=:old.hotel_id;\n",
    "    -- raise an error if hotel_id is used.\n",
    "    IF(hotelIdCount >= 1) THEN\n",
    "        RAISE_APPLICATION_ERROR(-20000, 'Integrity constraint violated: Hotel Id being deleted is used.');\n",
    "    END IF;    \n",
    "END;\n",
    "''')\n",
    "conn_a.commit()"
   ]
  },
  {
   "cell_type": "code",
   "execution_count": 69,
   "metadata": {
    "collapsed": true
   },
   "outputs": [],
   "source": [
    "# trigger to check if a record in the room table refers to a hotel_id being replaced in the hotel table\n",
    "cur_a.execute('''\n",
    "CREATE OR REPLACE TRIGGER hotel_trigger_bu\n",
    "BEFORE UPDATE ON hotel\n",
    "FOR EACH ROW\n",
    "DECLARE \n",
    "    hotelIdCount INTEGER;\n",
    "BEGIN\n",
    "    IF (:old.hotel_id != :new.hotel_id) THEN\n",
    "        -- check if hotel_id for record being deleted is used in the room table\n",
    "        SELECT COUNT(1) INTO hotelIdCount FROM room@FIT5148B WHERE hotel_id=:old.hotel_id;\n",
    "        -- raise an error if hotel_id is used.\n",
    "        IF(hotelIdCount >= 1) THEN\n",
    "            RAISE_APPLICATION_ERROR(-20000, 'Integrity constraint violated: Hotel Id being modified is used.');\n",
    "        END IF;\n",
    "    END IF;\n",
    "END;\n",
    "''')\n",
    "conn_a.commit()"
   ]
  },
  {
   "cell_type": "markdown",
   "metadata": {},
   "source": [
    "*Sample test cases:*<br/>\n",
    "Case 1. Inserting a new record into the room table where the hotel_id is invalid ---> a custom error is raised by the trigger with message \"**Integrity constraint violated: Invalid Hotel Id**\""
   ]
  },
  {
   "cell_type": "code",
   "execution_count": 70,
   "metadata": {},
   "outputs": [
    {
     "name": "stdout",
     "output_type": "stream",
     "text": [
      "Exception:  ORA-20000: Integrity constraint violated: Invalid Hotel Id\n",
      "ORA-06512: at \"S28037537.ROOM_TRIGGER_BIU\", line 8\n",
      "ORA-04088: error during execution of trigger 'S28037537.ROOM_TRIGGER_BIU'\n"
     ]
    }
   ],
   "source": [
    "try:\n",
    "    cur_b.execute('''INSERT INTO room (hotel_id, room_num, room_type_code, occupancy, rate, description) VALUES (99, 106, 'K', 3, 230.00, 'King room, smoking')''')\n",
    "except Exception as e:\n",
    "    print('Exception: ', e)"
   ]
  },
  {
   "cell_type": "markdown",
   "metadata": {},
   "source": [
    "Case 2: Updating an existing record in the room table with an invalid hotel_id --> a custom error is raised by the trigger with message \"**Integrity constraint violated: Invalid Hotel Id**\""
   ]
  },
  {
   "cell_type": "code",
   "execution_count": 71,
   "metadata": {},
   "outputs": [
    {
     "name": "stdout",
     "output_type": "stream",
     "text": [
      "Exception:  ORA-20000: Integrity constraint violated: Invalid Hotel Id\n",
      "ORA-06512: at \"S28037537.ROOM_TRIGGER_BIU\", line 8\n",
      "ORA-04088: error during execution of trigger 'S28037537.ROOM_TRIGGER_BIU'\n"
     ]
    }
   ],
   "source": [
    "try:\n",
    "    cur_b.execute('UPDATE room set hotel_id=99 WHERE hotel_id=1')\n",
    "except Exception as e:\n",
    "    print('Exception: ', e)"
   ]
  },
  {
   "cell_type": "markdown",
   "metadata": {},
   "source": [
    "Case 3: Changing the hotel_id in the hotel table when records in the room table refer to it ---> a custom error is raised by the trigger with message \"**Integrity constraint violated: Hotel Id being modified is used.**\""
   ]
  },
  {
   "cell_type": "code",
   "execution_count": 72,
   "metadata": {},
   "outputs": [
    {
     "name": "stdout",
     "output_type": "stream",
     "text": [
      "Exception:  ORA-20000: Integrity constraint violated: Hotel Id being modified is used.\n",
      "ORA-06512: at \"S28037537.HOTEL_TRIGGER_BU\", line 9\n",
      "ORA-04088: error during execution of trigger 'S28037537.HOTEL_TRIGGER_BU'\n"
     ]
    }
   ],
   "source": [
    "try:\n",
    "    cur_a.execute('UPDATE hotel set hotel_id=99 WHERE hotel_id=1')\n",
    "except Exception as e:\n",
    "    print('Exception: ', e)"
   ]
  },
  {
   "cell_type": "markdown",
   "metadata": {},
   "source": [
    "Case 4: Deleting a hotel record from the hotel table that is referenced by atleast one record in the room table ---> a custom error is raised by the trigger with message \"**Integrity constraint violated: Hotel Id being deleted is used.**\""
   ]
  },
  {
   "cell_type": "code",
   "execution_count": 73,
   "metadata": {},
   "outputs": [
    {
     "name": "stdout",
     "output_type": "stream",
     "text": [
      "Exception:  ORA-20000: Integrity constraint violated: Hotel Id being deleted is used.\n",
      "ORA-06512: at \"S28037537.HOTEL_TRIGGER_BD\", line 8\n",
      "ORA-04088: error during execution of trigger 'S28037537.HOTEL_TRIGGER_BD'\n"
     ]
    }
   ],
   "source": [
    "try:\n",
    "    cur_a.execute('DELETE FROM hotel WHERE hotel_id=1')\n",
    "except Exception as e:\n",
    "    print('Exception: ', e)"
   ]
  },
  {
   "cell_type": "markdown",
   "metadata": {},
   "source": [
    "# Task 4- Fragmentation (max 10 marks)\n"
   ]
  },
  {
   "cell_type": "markdown",
   "metadata": {},
   "source": [
    "## Horizontal \n",
    "Discuss your assumptions, user application and design here.\n",
    "Please provide the lists of **simple predicates** and **minterm predicates** that you used."
   ]
  },
  {
   "cell_type": "markdown",
   "metadata": {
    "collapsed": true
   },
   "source": [
    "A candidate relation/table for Horizontal Fragmentation is the **Customer** table.<br/>\n",
    "Sample rows displayed below:"
   ]
  },
  {
   "cell_type": "code",
   "execution_count": 74,
   "metadata": {},
   "outputs": [
    {
     "data": {
      "text/html": [
       "<div>\n",
       "<style>\n",
       "    .dataframe thead tr:only-child th {\n",
       "        text-align: right;\n",
       "    }\n",
       "\n",
       "    .dataframe thead th {\n",
       "        text-align: left;\n",
       "    }\n",
       "\n",
       "    .dataframe tbody tr th {\n",
       "        vertical-align: top;\n",
       "    }\n",
       "</style>\n",
       "<table border=\"1\" class=\"dataframe\">\n",
       "  <thead>\n",
       "    <tr style=\"text-align: right;\">\n",
       "      <th></th>\n",
       "      <th>CUST_ID</th>\n",
       "      <th>FIRST_NAME</th>\n",
       "      <th>LAST_NAME</th>\n",
       "      <th>TITLE</th>\n",
       "      <th>MEMBER_TIER_CODE</th>\n",
       "      <th>MEMBER_CREDIT</th>\n",
       "      <th>CONTACT_NUM</th>\n",
       "      <th>CONTACT_EMAIL</th>\n",
       "    </tr>\n",
       "  </thead>\n",
       "  <tbody>\n",
       "    <tr>\n",
       "      <th>0</th>\n",
       "      <td>3</td>\n",
       "      <td>Eliseo</td>\n",
       "      <td>Mikovec</td>\n",
       "      <td>Mr</td>\n",
       "      <td>RED</td>\n",
       "      <td>6300</td>\n",
       "      <td>02-9829-2371</td>\n",
       "      <td>emikovec@mikovec.com.au</td>\n",
       "    </tr>\n",
       "    <tr>\n",
       "      <th>1</th>\n",
       "      <td>1</td>\n",
       "      <td>Malcolm</td>\n",
       "      <td>Leja</td>\n",
       "      <td>Mr</td>\n",
       "      <td>SIL</td>\n",
       "      <td>12500</td>\n",
       "      <td>03-2477-9133</td>\n",
       "      <td>malcom@leja.com.au</td>\n",
       "    </tr>\n",
       "    <tr>\n",
       "      <th>2</th>\n",
       "      <td>9</td>\n",
       "      <td>John</td>\n",
       "      <td>Smith</td>\n",
       "      <td>Mr</td>\n",
       "      <td>SIL</td>\n",
       "      <td>15500</td>\n",
       "      <td>08-7915-8889</td>\n",
       "      <td>john.smith@hotmail.com</td>\n",
       "    </tr>\n",
       "    <tr>\n",
       "      <th>3</th>\n",
       "      <td>8</td>\n",
       "      <td>Dylan</td>\n",
       "      <td>Chaleun</td>\n",
       "      <td>Mr</td>\n",
       "      <td>SIL</td>\n",
       "      <td>15500</td>\n",
       "      <td>08-7915-5110</td>\n",
       "      <td>dylan_chaleun@hotmail.com</td>\n",
       "    </tr>\n",
       "    <tr>\n",
       "      <th>4</th>\n",
       "      <td>6</td>\n",
       "      <td>Armando</td>\n",
       "      <td>Barkley</td>\n",
       "      <td>Mr</td>\n",
       "      <td>GOL</td>\n",
       "      <td>48000</td>\n",
       "      <td>07-8371-4719</td>\n",
       "      <td>armando.barkley@yahoo.com</td>\n",
       "    </tr>\n",
       "    <tr>\n",
       "      <th>5</th>\n",
       "      <td>11</td>\n",
       "      <td>Jon</td>\n",
       "      <td>Smithson</td>\n",
       "      <td>Mr</td>\n",
       "      <td>GOL</td>\n",
       "      <td>48000</td>\n",
       "      <td>08-7915-1111</td>\n",
       "      <td>jon_smithson@hotmail.com</td>\n",
       "    </tr>\n",
       "    <tr>\n",
       "      <th>6</th>\n",
       "      <td>10</td>\n",
       "      <td>Jon</td>\n",
       "      <td>Smith</td>\n",
       "      <td>Mr</td>\n",
       "      <td>PLA</td>\n",
       "      <td>65000</td>\n",
       "      <td>08-7915-9999</td>\n",
       "      <td>jon_smith@hotmail.com</td>\n",
       "    </tr>\n",
       "    <tr>\n",
       "      <th>7</th>\n",
       "      <td>5</td>\n",
       "      <td>Chester</td>\n",
       "      <td>Dollins</td>\n",
       "      <td>Mr</td>\n",
       "      <td>PLA</td>\n",
       "      <td>83100</td>\n",
       "      <td>02-1622-6412</td>\n",
       "      <td>chester_dollins@gmail.com</td>\n",
       "    </tr>\n",
       "    <tr>\n",
       "      <th>8</th>\n",
       "      <td>2</td>\n",
       "      <td>Claudia</td>\n",
       "      <td>Gawrych</td>\n",
       "      <td>Ms</td>\n",
       "      <td>BRO</td>\n",
       "      <td>7701</td>\n",
       "      <td>02-4246-3092</td>\n",
       "      <td>claudia@gmail.com</td>\n",
       "    </tr>\n",
       "    <tr>\n",
       "      <th>9</th>\n",
       "      <td>7</td>\n",
       "      <td>Tamie</td>\n",
       "      <td>Hollimon</td>\n",
       "      <td>Ms</td>\n",
       "      <td>BRO</td>\n",
       "      <td>7800</td>\n",
       "      <td>03-2444-8291</td>\n",
       "      <td>tamie@hollimon.com.au</td>\n",
       "    </tr>\n",
       "    <tr>\n",
       "      <th>10</th>\n",
       "      <td>4</td>\n",
       "      <td>Colene</td>\n",
       "      <td>Tolbent</td>\n",
       "      <td>Ms</td>\n",
       "      <td>GOL</td>\n",
       "      <td>26650</td>\n",
       "      <td>02-4376-1104</td>\n",
       "      <td>colene.tolbent@tolbent.net.au</td>\n",
       "    </tr>\n",
       "  </tbody>\n",
       "</table>\n",
       "</div>"
      ],
      "text/plain": [
       "    CUST_ID FIRST_NAME LAST_NAME TITLE MEMBER_TIER_CODE  MEMBER_CREDIT  \\\n",
       "0         3     Eliseo   Mikovec    Mr              RED           6300   \n",
       "1         1    Malcolm      Leja    Mr              SIL          12500   \n",
       "2         9       John     Smith    Mr              SIL          15500   \n",
       "3         8      Dylan   Chaleun    Mr              SIL          15500   \n",
       "4         6    Armando   Barkley    Mr              GOL          48000   \n",
       "5        11        Jon  Smithson    Mr              GOL          48000   \n",
       "6        10        Jon     Smith    Mr              PLA          65000   \n",
       "7         5    Chester   Dollins    Mr              PLA          83100   \n",
       "8         2    Claudia   Gawrych    Ms              BRO           7701   \n",
       "9         7      Tamie  Hollimon    Ms              BRO           7800   \n",
       "10        4     Colene   Tolbent    Ms              GOL          26650   \n",
       "\n",
       "     CONTACT_NUM                  CONTACT_EMAIL  \n",
       "0   02-9829-2371        emikovec@mikovec.com.au  \n",
       "1   03-2477-9133             malcom@leja.com.au  \n",
       "2   08-7915-8889         john.smith@hotmail.com  \n",
       "3   08-7915-5110      dylan_chaleun@hotmail.com  \n",
       "4   07-8371-4719      armando.barkley@yahoo.com  \n",
       "5   08-7915-1111       jon_smithson@hotmail.com  \n",
       "6   08-7915-9999          jon_smith@hotmail.com  \n",
       "7   02-1622-6412      chester_dollins@gmail.com  \n",
       "8   02-4246-3092              claudia@gmail.com  \n",
       "9   03-2444-8291          tamie@hollimon.com.au  \n",
       "10  02-4376-1104  colene.tolbent@tolbent.net.au  "
      ]
     },
     "execution_count": 74,
     "metadata": {},
     "output_type": "execute_result"
    }
   ],
   "source": [
    "df = pd.read_sql('SELECT * FROM customer ORDER BY title, member_credit', con=conn_b)\n",
    "df"
   ]
  },
  {
   "cell_type": "markdown",
   "metadata": {},
   "source": [
    "#### Simple Predicates\n",
    "##### Application 1\n",
    "Suppose that because of different targeted marketing initiatives, one application differentiates between male and female customers.<br/>\n",
    "A proxy for the gender is the **title** column. (Mr = male, Ms = female)<br/>\n",
    "<br/>\n",
    "For this application, the simple predicates that would be used are the following:<br>\n",
    "<br/>\n",
    "$p_1$: title = 'Mr'<br/>\n",
    "$p_2$: title = 'Ms'"
   ]
  },
  {
   "cell_type": "markdown",
   "metadata": {},
   "source": [
    "##### Application 2\n",
    "The second application is interested in membership credits.<br/>\n",
    "Those with credits greater than or equal to 25000 ('Gold' or higher membership) are processed at one site, while those with less than 25000 are managed at another.<br/>\n",
    "<br/>\n",
    "For this application, the simple predicate are:<br/>\n",
    "<br/>\n",
    "$p_3:$ member_credit >= 25000<br/>\n",
    "$p_4:$ member_credit < 25000"
   ]
  },
  {
   "cell_type": "markdown",
   "metadata": {},
   "source": [
    "#### Minterm Predicates\n",
    "The following are minterm predicates that can be defined based on the simple predicates:<br/>\n",
    "<br/>\n",
    "$m_1$: title = 'Mr' $\\wedge$ member_credit >= 25000 <br/>\n",
    "$m_2$: title = 'Mr' $\\wedge$ NOT(member_credit >= 25000) <br/>\n",
    "$m_3$: title = 'Ms' $\\wedge$ member_credit >= 25000 <br/>\n",
    "$m_4$: title = 'Ms' $\\wedge$ NOT(member_credit >= 25000) <br/>\n",
    "$m_5$: NOT(title = 'Mr') $\\wedge$ member_credit >= 25000 <br/>\n",
    "$m_6$: NOT(title = 'Mr') $\\wedge$ NOT(member_credit >= 25000) <br/>\n",
    "$m_7$: NOT(title = 'Ms') $\\wedge$ member_credit >= 25000 <br/>\n",
    "$m_8$: NOT(title = 'Ms') $\\wedge$ NOT(member_credit >= 25000) <br/>\n",
    "$m_9$: title = 'Mr' $\\wedge$ member_credit < 25000 <br/>\n",
    "$m_{10}$: title = 'Mr' $\\wedge$ NOT(member_credit < 25000) <br/>\n",
    "$m_{11}$: title = 'Ms' $\\wedge$ member_credit < 25000 <br/>\n",
    "$m_{12}$: title = 'Ms' $\\wedge$ NOT(member_credit < 25000) <br/>\n",
    "$m_{13}$: NOT(title = 'Mr') $\\wedge$ member_credit < 25000 <br/>\n",
    "$m_{14}$: NOT(title = 'Mr') $\\wedge$ NOT(member_credit < 25000) <br/>\n",
    "$m_{15}$: NOT(title = 'Ms') $\\wedge$ member_credit < 25000 <br/>\n",
    "$m_{16}$: NOT(title = 'Ms') $\\wedge$ NOT(member_credit < 25000) <br/>\n",
    "<br/>\n",
    "After eliminating duplicates, we are left with the following minterm predicates:<br/>\n",
    "<br/>\n",
    "$m_1$: title = 'Mr' $\\wedge$ member_credit >= 25000 <br/>\n",
    "$m_2$: title = 'Mr' $\\wedge$ member_credit < 25000 <br/>\n",
    "$m_3$: title = 'Ms' $\\wedge$ member_credit >= 25000 <br/>\n",
    "$m_4$: title = 'Ms' $\\wedge$ member_credit < 25000 <br/>"
   ]
  },
  {
   "cell_type": "markdown",
   "metadata": {},
   "source": [
    "### Horizontal - Populate Tables\n",
    "For horizontal fragmentation, we'll distribute the customer table into two fragments, separating based on the title value."
   ]
  },
  {
   "cell_type": "code",
   "execution_count": 75,
   "metadata": {
    "collapsed": true
   },
   "outputs": [],
   "source": [
    "# drop tables if they exist.\n",
    "drop_table(cur_a, 'customer_male')\n",
    "drop_table(cur_b, 'customer_female')"
   ]
  },
  {
   "cell_type": "code",
   "execution_count": 76,
   "metadata": {
    "collapsed": true
   },
   "outputs": [],
   "source": [
    "# We put the male customers on FIT5148A\n",
    "cur_a.execute ('''\n",
    "CREATE TABLE customer_male \n",
    "AS (SELECT * from customer@FIT5148B WHERE title='Mr')''')\n",
    "conn_a.commit()"
   ]
  },
  {
   "cell_type": "code",
   "execution_count": 77,
   "metadata": {},
   "outputs": [
    {
     "data": {
      "text/html": [
       "<div>\n",
       "<style>\n",
       "    .dataframe thead tr:only-child th {\n",
       "        text-align: right;\n",
       "    }\n",
       "\n",
       "    .dataframe thead th {\n",
       "        text-align: left;\n",
       "    }\n",
       "\n",
       "    .dataframe tbody tr th {\n",
       "        vertical-align: top;\n",
       "    }\n",
       "</style>\n",
       "<table border=\"1\" class=\"dataframe\">\n",
       "  <thead>\n",
       "    <tr style=\"text-align: right;\">\n",
       "      <th></th>\n",
       "      <th>CUST_ID</th>\n",
       "      <th>FIRST_NAME</th>\n",
       "      <th>LAST_NAME</th>\n",
       "      <th>TITLE</th>\n",
       "      <th>MEMBER_TIER_CODE</th>\n",
       "      <th>MEMBER_CREDIT</th>\n",
       "      <th>CONTACT_NUM</th>\n",
       "      <th>CONTACT_EMAIL</th>\n",
       "    </tr>\n",
       "  </thead>\n",
       "  <tbody>\n",
       "    <tr>\n",
       "      <th>0</th>\n",
       "      <td>1</td>\n",
       "      <td>Malcolm</td>\n",
       "      <td>Leja</td>\n",
       "      <td>Mr</td>\n",
       "      <td>SIL</td>\n",
       "      <td>12500</td>\n",
       "      <td>03-2477-9133</td>\n",
       "      <td>malcom@leja.com.au</td>\n",
       "    </tr>\n",
       "    <tr>\n",
       "      <th>1</th>\n",
       "      <td>3</td>\n",
       "      <td>Eliseo</td>\n",
       "      <td>Mikovec</td>\n",
       "      <td>Mr</td>\n",
       "      <td>RED</td>\n",
       "      <td>6300</td>\n",
       "      <td>02-9829-2371</td>\n",
       "      <td>emikovec@mikovec.com.au</td>\n",
       "    </tr>\n",
       "    <tr>\n",
       "      <th>2</th>\n",
       "      <td>5</td>\n",
       "      <td>Chester</td>\n",
       "      <td>Dollins</td>\n",
       "      <td>Mr</td>\n",
       "      <td>PLA</td>\n",
       "      <td>83100</td>\n",
       "      <td>02-1622-6412</td>\n",
       "      <td>chester_dollins@gmail.com</td>\n",
       "    </tr>\n",
       "    <tr>\n",
       "      <th>3</th>\n",
       "      <td>6</td>\n",
       "      <td>Armando</td>\n",
       "      <td>Barkley</td>\n",
       "      <td>Mr</td>\n",
       "      <td>GOL</td>\n",
       "      <td>48000</td>\n",
       "      <td>07-8371-4719</td>\n",
       "      <td>armando.barkley@yahoo.com</td>\n",
       "    </tr>\n",
       "    <tr>\n",
       "      <th>4</th>\n",
       "      <td>8</td>\n",
       "      <td>Dylan</td>\n",
       "      <td>Chaleun</td>\n",
       "      <td>Mr</td>\n",
       "      <td>SIL</td>\n",
       "      <td>15500</td>\n",
       "      <td>08-7915-5110</td>\n",
       "      <td>dylan_chaleun@hotmail.com</td>\n",
       "    </tr>\n",
       "    <tr>\n",
       "      <th>5</th>\n",
       "      <td>9</td>\n",
       "      <td>John</td>\n",
       "      <td>Smith</td>\n",
       "      <td>Mr</td>\n",
       "      <td>SIL</td>\n",
       "      <td>15500</td>\n",
       "      <td>08-7915-8889</td>\n",
       "      <td>john.smith@hotmail.com</td>\n",
       "    </tr>\n",
       "    <tr>\n",
       "      <th>6</th>\n",
       "      <td>10</td>\n",
       "      <td>Jon</td>\n",
       "      <td>Smith</td>\n",
       "      <td>Mr</td>\n",
       "      <td>PLA</td>\n",
       "      <td>65000</td>\n",
       "      <td>08-7915-9999</td>\n",
       "      <td>jon_smith@hotmail.com</td>\n",
       "    </tr>\n",
       "    <tr>\n",
       "      <th>7</th>\n",
       "      <td>11</td>\n",
       "      <td>Jon</td>\n",
       "      <td>Smithson</td>\n",
       "      <td>Mr</td>\n",
       "      <td>GOL</td>\n",
       "      <td>48000</td>\n",
       "      <td>08-7915-1111</td>\n",
       "      <td>jon_smithson@hotmail.com</td>\n",
       "    </tr>\n",
       "  </tbody>\n",
       "</table>\n",
       "</div>"
      ],
      "text/plain": [
       "   CUST_ID FIRST_NAME LAST_NAME TITLE MEMBER_TIER_CODE  MEMBER_CREDIT  \\\n",
       "0        1    Malcolm      Leja    Mr              SIL          12500   \n",
       "1        3     Eliseo   Mikovec    Mr              RED           6300   \n",
       "2        5    Chester   Dollins    Mr              PLA          83100   \n",
       "3        6    Armando   Barkley    Mr              GOL          48000   \n",
       "4        8      Dylan   Chaleun    Mr              SIL          15500   \n",
       "5        9       John     Smith    Mr              SIL          15500   \n",
       "6       10        Jon     Smith    Mr              PLA          65000   \n",
       "7       11        Jon  Smithson    Mr              GOL          48000   \n",
       "\n",
       "    CONTACT_NUM              CONTACT_EMAIL  \n",
       "0  03-2477-9133         malcom@leja.com.au  \n",
       "1  02-9829-2371    emikovec@mikovec.com.au  \n",
       "2  02-1622-6412  chester_dollins@gmail.com  \n",
       "3  07-8371-4719  armando.barkley@yahoo.com  \n",
       "4  08-7915-5110  dylan_chaleun@hotmail.com  \n",
       "5  08-7915-8889     john.smith@hotmail.com  \n",
       "6  08-7915-9999      jon_smith@hotmail.com  \n",
       "7  08-7915-1111   jon_smithson@hotmail.com  "
      ]
     },
     "execution_count": 77,
     "metadata": {},
     "output_type": "execute_result"
    }
   ],
   "source": [
    "# check out records\n",
    "df = pd.read_sql('SELECT * FROM customer_male', con=conn_a)\n",
    "df"
   ]
  },
  {
   "cell_type": "code",
   "execution_count": 78,
   "metadata": {
    "collapsed": true
   },
   "outputs": [],
   "source": [
    "# We put the female customers on FIT5148B\n",
    "cur_b.execute ('''\n",
    "CREATE TABLE customer_female \n",
    "AS (SELECT * from customer WHERE title='Ms')''')\n",
    "conn_b.commit()"
   ]
  },
  {
   "cell_type": "code",
   "execution_count": 79,
   "metadata": {},
   "outputs": [
    {
     "data": {
      "text/html": [
       "<div>\n",
       "<style>\n",
       "    .dataframe thead tr:only-child th {\n",
       "        text-align: right;\n",
       "    }\n",
       "\n",
       "    .dataframe thead th {\n",
       "        text-align: left;\n",
       "    }\n",
       "\n",
       "    .dataframe tbody tr th {\n",
       "        vertical-align: top;\n",
       "    }\n",
       "</style>\n",
       "<table border=\"1\" class=\"dataframe\">\n",
       "  <thead>\n",
       "    <tr style=\"text-align: right;\">\n",
       "      <th></th>\n",
       "      <th>CUST_ID</th>\n",
       "      <th>FIRST_NAME</th>\n",
       "      <th>LAST_NAME</th>\n",
       "      <th>TITLE</th>\n",
       "      <th>MEMBER_TIER_CODE</th>\n",
       "      <th>MEMBER_CREDIT</th>\n",
       "      <th>CONTACT_NUM</th>\n",
       "      <th>CONTACT_EMAIL</th>\n",
       "    </tr>\n",
       "  </thead>\n",
       "  <tbody>\n",
       "    <tr>\n",
       "      <th>0</th>\n",
       "      <td>2</td>\n",
       "      <td>Claudia</td>\n",
       "      <td>Gawrych</td>\n",
       "      <td>Ms</td>\n",
       "      <td>BRO</td>\n",
       "      <td>7701</td>\n",
       "      <td>02-4246-3092</td>\n",
       "      <td>claudia@gmail.com</td>\n",
       "    </tr>\n",
       "    <tr>\n",
       "      <th>1</th>\n",
       "      <td>4</td>\n",
       "      <td>Colene</td>\n",
       "      <td>Tolbent</td>\n",
       "      <td>Ms</td>\n",
       "      <td>GOL</td>\n",
       "      <td>26650</td>\n",
       "      <td>02-4376-1104</td>\n",
       "      <td>colene.tolbent@tolbent.net.au</td>\n",
       "    </tr>\n",
       "    <tr>\n",
       "      <th>2</th>\n",
       "      <td>7</td>\n",
       "      <td>Tamie</td>\n",
       "      <td>Hollimon</td>\n",
       "      <td>Ms</td>\n",
       "      <td>BRO</td>\n",
       "      <td>7800</td>\n",
       "      <td>03-2444-8291</td>\n",
       "      <td>tamie@hollimon.com.au</td>\n",
       "    </tr>\n",
       "  </tbody>\n",
       "</table>\n",
       "</div>"
      ],
      "text/plain": [
       "   CUST_ID FIRST_NAME LAST_NAME TITLE MEMBER_TIER_CODE  MEMBER_CREDIT  \\\n",
       "0        2    Claudia   Gawrych    Ms              BRO           7701   \n",
       "1        4     Colene   Tolbent    Ms              GOL          26650   \n",
       "2        7      Tamie  Hollimon    Ms              BRO           7800   \n",
       "\n",
       "    CONTACT_NUM                  CONTACT_EMAIL  \n",
       "0  02-4246-3092              claudia@gmail.com  \n",
       "1  02-4376-1104  colene.tolbent@tolbent.net.au  \n",
       "2  03-2444-8291          tamie@hollimon.com.au  "
      ]
     },
     "execution_count": 79,
     "metadata": {},
     "output_type": "execute_result"
    }
   ],
   "source": [
    "# check out records\n",
    "df = pd.read_sql('SELECT * FROM customer_female', con=conn_b)\n",
    "df"
   ]
  },
  {
   "cell_type": "markdown",
   "metadata": {},
   "source": [
    "## Vertical \n",
    "Discuss your assumptions, user application and design here. Please provide four queries, Usage Matrix, Access Frequency Matrix for two sites of **FIT5148A** and **FIT5148B**, and **Attribute Affinity Matrix** of all the attributes."
   ]
  },
  {
   "cell_type": "markdown",
   "metadata": {},
   "source": [
    "For Vertical Fragmentation, let us consider the **Booking** table.<br/>\n",
    "Sample rows below:"
   ]
  },
  {
   "cell_type": "code",
   "execution_count": 80,
   "metadata": {},
   "outputs": [
    {
     "data": {
      "text/html": [
       "<div>\n",
       "<style>\n",
       "    .dataframe thead tr:only-child th {\n",
       "        text-align: right;\n",
       "    }\n",
       "\n",
       "    .dataframe thead th {\n",
       "        text-align: left;\n",
       "    }\n",
       "\n",
       "    .dataframe tbody tr th {\n",
       "        vertical-align: top;\n",
       "    }\n",
       "</style>\n",
       "<table border=\"1\" class=\"dataframe\">\n",
       "  <thead>\n",
       "    <tr style=\"text-align: right;\">\n",
       "      <th></th>\n",
       "      <th>BOOKING_ID</th>\n",
       "      <th>CUST_ID</th>\n",
       "      <th>CONTACT_NAME</th>\n",
       "      <th>CONTACT_NUM</th>\n",
       "      <th>CONTACT_EMAIL</th>\n",
       "      <th>TOTAL_AMOUNT</th>\n",
       "      <th>PAYMENT_STATUS</th>\n",
       "    </tr>\n",
       "  </thead>\n",
       "  <tbody>\n",
       "    <tr>\n",
       "      <th>0</th>\n",
       "      <td>1</td>\n",
       "      <td>1</td>\n",
       "      <td>Malcolm Leja</td>\n",
       "      <td>03-2477-9133</td>\n",
       "      <td>malcom@leja.com.au</td>\n",
       "      <td>218.50</td>\n",
       "      <td>Received</td>\n",
       "    </tr>\n",
       "    <tr>\n",
       "      <th>1</th>\n",
       "      <td>2</td>\n",
       "      <td>2</td>\n",
       "      <td>Claudia Gawrych</td>\n",
       "      <td>02-4246-3092</td>\n",
       "      <td>claudia@gmail.com</td>\n",
       "      <td>607.60</td>\n",
       "      <td>Received</td>\n",
       "    </tr>\n",
       "    <tr>\n",
       "      <th>2</th>\n",
       "      <td>3</td>\n",
       "      <td>3</td>\n",
       "      <td>Eliseo Mikovec</td>\n",
       "      <td>02-9829-2371</td>\n",
       "      <td>emikovec@mikovec.com.au</td>\n",
       "      <td>378.10</td>\n",
       "      <td>Received</td>\n",
       "    </tr>\n",
       "    <tr>\n",
       "      <th>3</th>\n",
       "      <td>4</td>\n",
       "      <td>4</td>\n",
       "      <td>Colene Tolbent</td>\n",
       "      <td>02-4376-1104</td>\n",
       "      <td>colene.tolbent@tolbent.net.au</td>\n",
       "      <td>488.06</td>\n",
       "      <td>Received</td>\n",
       "    </tr>\n",
       "    <tr>\n",
       "      <th>4</th>\n",
       "      <td>5</td>\n",
       "      <td>5</td>\n",
       "      <td>Chester Dollins</td>\n",
       "      <td>02-1622-6412</td>\n",
       "      <td>chester_dollins@gmail.com</td>\n",
       "      <td>774.84</td>\n",
       "      <td>Received</td>\n",
       "    </tr>\n",
       "    <tr>\n",
       "      <th>5</th>\n",
       "      <td>6</td>\n",
       "      <td>6</td>\n",
       "      <td>Armando Barkley</td>\n",
       "      <td>07-8371-4719</td>\n",
       "      <td>armando.barkley@yahoo.com</td>\n",
       "      <td>542.80</td>\n",
       "      <td>Pending</td>\n",
       "    </tr>\n",
       "    <tr>\n",
       "      <th>6</th>\n",
       "      <td>7</td>\n",
       "      <td>7</td>\n",
       "      <td>Tamie Hollimon</td>\n",
       "      <td>03-2444-8291</td>\n",
       "      <td>tamie@hollimon.com.au</td>\n",
       "      <td>1372.98</td>\n",
       "      <td>Pending</td>\n",
       "    </tr>\n",
       "    <tr>\n",
       "      <th>7</th>\n",
       "      <td>8</td>\n",
       "      <td>8</td>\n",
       "      <td>Dylan Chaleun</td>\n",
       "      <td>08-7915-5110</td>\n",
       "      <td>dylan_chaleun@hotmail.com</td>\n",
       "      <td>741.96</td>\n",
       "      <td>Pending</td>\n",
       "    </tr>\n",
       "  </tbody>\n",
       "</table>\n",
       "</div>"
      ],
      "text/plain": [
       "   BOOKING_ID  CUST_ID     CONTACT_NAME   CONTACT_NUM  \\\n",
       "0           1        1     Malcolm Leja  03-2477-9133   \n",
       "1           2        2  Claudia Gawrych  02-4246-3092   \n",
       "2           3        3   Eliseo Mikovec  02-9829-2371   \n",
       "3           4        4   Colene Tolbent  02-4376-1104   \n",
       "4           5        5  Chester Dollins  02-1622-6412   \n",
       "5           6        6  Armando Barkley  07-8371-4719   \n",
       "6           7        7   Tamie Hollimon  03-2444-8291   \n",
       "7           8        8    Dylan Chaleun  08-7915-5110   \n",
       "\n",
       "                   CONTACT_EMAIL  TOTAL_AMOUNT PAYMENT_STATUS  \n",
       "0             malcom@leja.com.au        218.50       Received  \n",
       "1              claudia@gmail.com        607.60       Received  \n",
       "2        emikovec@mikovec.com.au        378.10       Received  \n",
       "3  colene.tolbent@tolbent.net.au        488.06       Received  \n",
       "4      chester_dollins@gmail.com        774.84       Received  \n",
       "5      armando.barkley@yahoo.com        542.80        Pending  \n",
       "6          tamie@hollimon.com.au       1372.98        Pending  \n",
       "7      dylan_chaleun@hotmail.com        741.96        Pending  "
      ]
     },
     "execution_count": 80,
     "metadata": {},
     "output_type": "execute_result"
    }
   ],
   "source": [
    "df = pd.read_sql('SELECT * FROM booking', con=conn_b)\n",
    "df.head(15)"
   ]
  },
  {
   "cell_type": "markdown",
   "metadata": {},
   "source": [
    "The following are the applications and SQL queries run against the Booking table:<br/>\n",
    "<br/>\n",
    "$q_1$: Find the contact and contact number for a particular booking id:<br/>\n",
    "<br/>\n",
    "SELECT contact_name, contact_num<br/>\n",
    "FROM booking<br/>\n",
    "WHERE booking_id = *value*<br/>\n",
    "<br/>\n",
    "$q_2$: Find the total revenue (total amount in Received status):<br/>\n",
    "<br/>\n",
    "SELECT SUM(total_amount)<br/>\n",
    "FROM booking<br/>\n",
    "WHERE payment_status='Received'<br/>\n",
    "<br/>\n",
    "$q_3$: Find contact info for bookings in Pending status<br/>\n",
    "<br/>\n",
    "SELECT contact_name, contact_num<br/>\n",
    "FROM booking<br/>\n",
    "WHERE payment_status='Pending'<br/>\n",
    "<br/>\n",
    "$q_4$: Find bookings where total amount is above a threshold value<br/>\n",
    "<br/>\n",
    "SELECT \\*<br/>\n",
    "FROM booking<br/>\n",
    "WHERE total_amount > *value*<br/>\n"
   ]
  },
  {
   "cell_type": "markdown",
   "metadata": {},
   "source": [
    "The attributes are:<br/>\n",
    "$A_1$ = contact_name<br/>\n",
    "$A_2$ = contact_num<br/>\n",
    "$A_3$ = total_amount<br/>\n",
    "$A_4$ = payment_status.<br/>\n",
    "<br/>\n",
    "The **Attribute usage values** are defined in matrix form<br/>:\n",
    "![attrib_usage_values](./attrib_usage_values.png)"
   ]
  },
  {
   "cell_type": "markdown",
   "metadata": {},
   "source": [
    "**Access Frequencies** - let's assume that the access frequencies for 3 sites are:<br/>\n",
    "<br/>\n",
    "$acc_1(q_1)$ = 10 $acc_2(q_1)$ = 20 $acc_3(q_1)$ = 10<br/>\n",
    "$acc_1(q_2)$ = 15 $acc_2(q_2)$ = 15 $acc_3(q_2)$ = 15<br/>\n",
    "$acc_1(q_3)$ = 5 $acc_2(q_3)$ = 0 $acc_3(q_3)$ = 20<br/>\n",
    "$acc_1(q_4)$ = 1 $acc_2(q_4)$ = 0 $acc_3(q_4)$ = 0<br/>\n",
    "<br/>\n",
    "In matrix form:<br/>\n",
    "note: S1, S2, S3 represent the 3 sites<br/>\n",
    "<br/>\n",
    "![access_frequencies](./access_frequencies.png)"
   ]
  },
  {
   "cell_type": "markdown",
   "metadata": {},
   "source": [
    "**Attribute Affinity Matrix (AA)** calculation:<br/>\n",
    "<br/>\n",
    "Given the Attribute usage values and Access frequencies, the Attribute Affinity Matrix can be calculated as:<br/>\n",
    "<br/>\n",
    "![attrib_affinity_matrix](./attrib_affinity_matrix.png)"
   ]
  },
  {
   "cell_type": "markdown",
   "metadata": {},
   "source": [
    "### Vertical - Populate Tables "
   ]
  },
  {
   "cell_type": "markdown",
   "metadata": {
    "collapsed": true
   },
   "source": [
    "We assume that A1 (contact_name) and A2 (contact_num) (and the rest of contact-related info) have more affinity with each other<br/>\n",
    "and that A3 (total_amount) and A4 (payment_status) have more affinity with each other.<br/>\n",
    "So we will fragment the table vertically based on these assumptions and distribute them between two locations."
   ]
  },
  {
   "cell_type": "code",
   "execution_count": 81,
   "metadata": {
    "collapsed": true
   },
   "outputs": [],
   "source": [
    "# drop tables if they exist.\n",
    "drop_table(cur_a, 'booking_contacts')\n",
    "drop_table(cur_b, 'booking_amounts')"
   ]
  },
  {
   "cell_type": "code",
   "execution_count": 82,
   "metadata": {
    "collapsed": true
   },
   "outputs": [],
   "source": [
    "# We put the contact related data on FIT5148A\n",
    "cur_a.execute ('''\n",
    "CREATE TABLE booking_contacts\n",
    "AS (SELECT booking_id, cust_id, contact_name, contact_num, contact_email from booking@FIT5148B)''')\n",
    "conn_a.commit()"
   ]
  },
  {
   "cell_type": "code",
   "execution_count": 83,
   "metadata": {},
   "outputs": [
    {
     "data": {
      "text/html": [
       "<div>\n",
       "<style>\n",
       "    .dataframe thead tr:only-child th {\n",
       "        text-align: right;\n",
       "    }\n",
       "\n",
       "    .dataframe thead th {\n",
       "        text-align: left;\n",
       "    }\n",
       "\n",
       "    .dataframe tbody tr th {\n",
       "        vertical-align: top;\n",
       "    }\n",
       "</style>\n",
       "<table border=\"1\" class=\"dataframe\">\n",
       "  <thead>\n",
       "    <tr style=\"text-align: right;\">\n",
       "      <th></th>\n",
       "      <th>BOOKING_ID</th>\n",
       "      <th>CUST_ID</th>\n",
       "      <th>CONTACT_NAME</th>\n",
       "      <th>CONTACT_NUM</th>\n",
       "      <th>CONTACT_EMAIL</th>\n",
       "    </tr>\n",
       "  </thead>\n",
       "  <tbody>\n",
       "    <tr>\n",
       "      <th>0</th>\n",
       "      <td>1</td>\n",
       "      <td>1</td>\n",
       "      <td>Malcolm Leja</td>\n",
       "      <td>03-2477-9133</td>\n",
       "      <td>malcom@leja.com.au</td>\n",
       "    </tr>\n",
       "    <tr>\n",
       "      <th>1</th>\n",
       "      <td>2</td>\n",
       "      <td>2</td>\n",
       "      <td>Claudia Gawrych</td>\n",
       "      <td>02-4246-3092</td>\n",
       "      <td>claudia@gmail.com</td>\n",
       "    </tr>\n",
       "    <tr>\n",
       "      <th>2</th>\n",
       "      <td>3</td>\n",
       "      <td>3</td>\n",
       "      <td>Eliseo Mikovec</td>\n",
       "      <td>02-9829-2371</td>\n",
       "      <td>emikovec@mikovec.com.au</td>\n",
       "    </tr>\n",
       "    <tr>\n",
       "      <th>3</th>\n",
       "      <td>4</td>\n",
       "      <td>4</td>\n",
       "      <td>Colene Tolbent</td>\n",
       "      <td>02-4376-1104</td>\n",
       "      <td>colene.tolbent@tolbent.net.au</td>\n",
       "    </tr>\n",
       "    <tr>\n",
       "      <th>4</th>\n",
       "      <td>5</td>\n",
       "      <td>5</td>\n",
       "      <td>Chester Dollins</td>\n",
       "      <td>02-1622-6412</td>\n",
       "      <td>chester_dollins@gmail.com</td>\n",
       "    </tr>\n",
       "    <tr>\n",
       "      <th>5</th>\n",
       "      <td>6</td>\n",
       "      <td>6</td>\n",
       "      <td>Armando Barkley</td>\n",
       "      <td>07-8371-4719</td>\n",
       "      <td>armando.barkley@yahoo.com</td>\n",
       "    </tr>\n",
       "    <tr>\n",
       "      <th>6</th>\n",
       "      <td>7</td>\n",
       "      <td>7</td>\n",
       "      <td>Tamie Hollimon</td>\n",
       "      <td>03-2444-8291</td>\n",
       "      <td>tamie@hollimon.com.au</td>\n",
       "    </tr>\n",
       "    <tr>\n",
       "      <th>7</th>\n",
       "      <td>8</td>\n",
       "      <td>8</td>\n",
       "      <td>Dylan Chaleun</td>\n",
       "      <td>08-7915-5110</td>\n",
       "      <td>dylan_chaleun@hotmail.com</td>\n",
       "    </tr>\n",
       "  </tbody>\n",
       "</table>\n",
       "</div>"
      ],
      "text/plain": [
       "   BOOKING_ID  CUST_ID     CONTACT_NAME   CONTACT_NUM  \\\n",
       "0           1        1     Malcolm Leja  03-2477-9133   \n",
       "1           2        2  Claudia Gawrych  02-4246-3092   \n",
       "2           3        3   Eliseo Mikovec  02-9829-2371   \n",
       "3           4        4   Colene Tolbent  02-4376-1104   \n",
       "4           5        5  Chester Dollins  02-1622-6412   \n",
       "5           6        6  Armando Barkley  07-8371-4719   \n",
       "6           7        7   Tamie Hollimon  03-2444-8291   \n",
       "7           8        8    Dylan Chaleun  08-7915-5110   \n",
       "\n",
       "                   CONTACT_EMAIL  \n",
       "0             malcom@leja.com.au  \n",
       "1              claudia@gmail.com  \n",
       "2        emikovec@mikovec.com.au  \n",
       "3  colene.tolbent@tolbent.net.au  \n",
       "4      chester_dollins@gmail.com  \n",
       "5      armando.barkley@yahoo.com  \n",
       "6          tamie@hollimon.com.au  \n",
       "7      dylan_chaleun@hotmail.com  "
      ]
     },
     "execution_count": 83,
     "metadata": {},
     "output_type": "execute_result"
    }
   ],
   "source": [
    "# check out records\n",
    "df = pd.read_sql('SELECT * FROM booking_contacts', con=conn_a)\n",
    "df"
   ]
  },
  {
   "cell_type": "code",
   "execution_count": 84,
   "metadata": {
    "collapsed": true
   },
   "outputs": [],
   "source": [
    "# We put the payment amount related data on FIT5148B\n",
    "cur_b.execute ('''\n",
    "CREATE TABLE booking_amounts\n",
    "AS (SELECT booking_id, total_amount, payment_status from booking)''')\n",
    "conn_b.commit()"
   ]
  },
  {
   "cell_type": "code",
   "execution_count": 85,
   "metadata": {},
   "outputs": [
    {
     "data": {
      "text/html": [
       "<div>\n",
       "<style>\n",
       "    .dataframe thead tr:only-child th {\n",
       "        text-align: right;\n",
       "    }\n",
       "\n",
       "    .dataframe thead th {\n",
       "        text-align: left;\n",
       "    }\n",
       "\n",
       "    .dataframe tbody tr th {\n",
       "        vertical-align: top;\n",
       "    }\n",
       "</style>\n",
       "<table border=\"1\" class=\"dataframe\">\n",
       "  <thead>\n",
       "    <tr style=\"text-align: right;\">\n",
       "      <th></th>\n",
       "      <th>BOOKING_ID</th>\n",
       "      <th>TOTAL_AMOUNT</th>\n",
       "      <th>PAYMENT_STATUS</th>\n",
       "    </tr>\n",
       "  </thead>\n",
       "  <tbody>\n",
       "    <tr>\n",
       "      <th>0</th>\n",
       "      <td>1</td>\n",
       "      <td>218.50</td>\n",
       "      <td>Received</td>\n",
       "    </tr>\n",
       "    <tr>\n",
       "      <th>1</th>\n",
       "      <td>2</td>\n",
       "      <td>607.60</td>\n",
       "      <td>Received</td>\n",
       "    </tr>\n",
       "    <tr>\n",
       "      <th>2</th>\n",
       "      <td>3</td>\n",
       "      <td>378.10</td>\n",
       "      <td>Received</td>\n",
       "    </tr>\n",
       "    <tr>\n",
       "      <th>3</th>\n",
       "      <td>4</td>\n",
       "      <td>488.06</td>\n",
       "      <td>Received</td>\n",
       "    </tr>\n",
       "    <tr>\n",
       "      <th>4</th>\n",
       "      <td>5</td>\n",
       "      <td>774.84</td>\n",
       "      <td>Received</td>\n",
       "    </tr>\n",
       "    <tr>\n",
       "      <th>5</th>\n",
       "      <td>6</td>\n",
       "      <td>542.80</td>\n",
       "      <td>Pending</td>\n",
       "    </tr>\n",
       "    <tr>\n",
       "      <th>6</th>\n",
       "      <td>7</td>\n",
       "      <td>1372.98</td>\n",
       "      <td>Pending</td>\n",
       "    </tr>\n",
       "    <tr>\n",
       "      <th>7</th>\n",
       "      <td>8</td>\n",
       "      <td>741.96</td>\n",
       "      <td>Pending</td>\n",
       "    </tr>\n",
       "  </tbody>\n",
       "</table>\n",
       "</div>"
      ],
      "text/plain": [
       "   BOOKING_ID  TOTAL_AMOUNT PAYMENT_STATUS\n",
       "0           1        218.50       Received\n",
       "1           2        607.60       Received\n",
       "2           3        378.10       Received\n",
       "3           4        488.06       Received\n",
       "4           5        774.84       Received\n",
       "5           6        542.80        Pending\n",
       "6           7       1372.98        Pending\n",
       "7           8        741.96        Pending"
      ]
     },
     "execution_count": 85,
     "metadata": {},
     "output_type": "execute_result"
    }
   ],
   "source": [
    "# check out records\n",
    "df = pd.read_sql('SELECT * FROM booking_amounts', con=conn_b)\n",
    "df"
   ]
  },
  {
   "cell_type": "markdown",
   "metadata": {},
   "source": [
    "**Note 1:** You should implement both types of fragments on the database such that they are populated with original tables’ data. Use different and meaningful names for each fragment. \n",
    "\n",
    "**Note 2:** Two implemented fragments CANNOT be in the same location. \n",
    "\n",
    "**Note 3:** Provide your assumptions, user applications and queries, lists of predicates and minterm predicates, specified matrices and your SQL code to create fragments on two locations.\n"
   ]
  },
  {
   "cell_type": "markdown",
   "metadata": {},
   "source": [
    "# Task 5 – ETL Demonstration (max 7 marks)"
   ]
  },
  {
   "cell_type": "markdown",
   "metadata": {},
   "source": [
    "## 5.1 \n",
    "Search hotels (Hotel table) by city. Your code should work properly when the queried city is not listed (0.5 mark)"
   ]
  },
  {
   "cell_type": "code",
   "execution_count": 86,
   "metadata": {
    "collapsed": true
   },
   "outputs": [],
   "source": [
    "def get_hotels_by_city(city):\n",
    "    cur_a.execute('SELECT hotel_name FROM hotel WHERE city=\\'{}\\''.format(city)) \n",
    "    rows = cur_a.fetchall()\n",
    "    if (len(rows) > 0):\n",
    "        print('Hotels for {}:'.format(city))\n",
    "        i = 0\n",
    "        for row in rows:\n",
    "            i += 1\n",
    "            print('{}. {}'.format(i, row[0]))\n",
    "    else:\n",
    "        print('No hotel found for {}'.format(city))"
   ]
  },
  {
   "cell_type": "markdown",
   "metadata": {},
   "source": [
    "Sample of a search for hotels for a city in the database:"
   ]
  },
  {
   "cell_type": "code",
   "execution_count": 87,
   "metadata": {},
   "outputs": [
    {
     "name": "stdout",
     "output_type": "stream",
     "text": [
      "Hotels for Sydney:\n",
      "1. ParkRoyal Darling Harbour\n",
      "2. Hyatt Regency Sydney\n"
     ]
    }
   ],
   "source": [
    "get_hotels_by_city('Sydney')"
   ]
  },
  {
   "cell_type": "markdown",
   "metadata": {},
   "source": [
    "Sample of a search for hotels for a city NOT in the database:"
   ]
  },
  {
   "cell_type": "code",
   "execution_count": 88,
   "metadata": {},
   "outputs": [
    {
     "name": "stdout",
     "output_type": "stream",
     "text": [
      "No hotel found for Darwin\n"
     ]
    }
   ],
   "source": [
    "get_hotels_by_city('Darwin')"
   ]
  },
  {
   "cell_type": "markdown",
   "metadata": {},
   "source": [
    "## 5.2 \n",
    "Update (Room table) the type of a room. Your code should work properly when the new room type is invalid. (0.5 mark)"
   ]
  },
  {
   "cell_type": "code",
   "execution_count": 89,
   "metadata": {
    "collapsed": true
   },
   "outputs": [],
   "source": [
    "def update_room_type(hotel_name, room_num, new_room_type):\n",
    "    # get the room_type_code given the room type name\n",
    "    cur_b.execute('SELECT room_type_code FROM room_type where room_type_name=\\'{}\\''.format(new_room_type))\n",
    "    room_type_row = cur_b.fetchone()\n",
    "    if (room_type_row):\n",
    "        # get the hotel id given the hotel name\n",
    "        cur_a.execute('SELECT hotel_id FROM hotel where hotel_name=\\'{}\\''.format(hotel_name))\n",
    "        hotel_row = cur_a.fetchone()\n",
    "        if (hotel_row):\n",
    "            # update the room table with the new room type code\n",
    "            room_type_code = room_type_row[0]\n",
    "            hotel_id = hotel_row[0]\n",
    "            cur_b.execute('UPDATE room SET room_type_code=\\'{}\\' WHERE hotel_id={} AND room_num={}'.format(\n",
    "                room_type_code, hotel_id, room_num))\n",
    "            conn_b.commit()\n",
    "        else:\n",
    "            print('Hotel name passed is invalid.')\n",
    "    else:\n",
    "        print('Room type passed is invalid.')"
   ]
  },
  {
   "cell_type": "markdown",
   "metadata": {},
   "source": [
    "Here's a valid sample which updates the room type of a room in Hilton Brisbane hotel.<br/>\n",
    "First, show the current room type:"
   ]
  },
  {
   "cell_type": "code",
   "execution_count": 90,
   "metadata": {
    "collapsed": true
   },
   "outputs": [],
   "source": [
    "# declare a function to show room info\n",
    "def show_room_info(hotel_name, room_num):\n",
    "    df = pd.read_sql('''\n",
    "        SELECT h.hotel_name, r.room_num, rt.room_type_name \n",
    "        FROM hotel@FIT5148A h \n",
    "            INNER JOIN room r ON h.hotel_id=r.hotel_id \n",
    "            INNER JOIN room_type rt ON r.room_type_code=rt.room_type_code\n",
    "        WHERE h.hotel_name=\\'{}\\' AND r.room_num={}'''.format(hotel_name, room_num), \n",
    "                     con=conn_b)\n",
    "    print(df)"
   ]
  },
  {
   "cell_type": "markdown",
   "metadata": {},
   "source": [
    "For this sample, we will work on 'Hilton Brisbane', room # 105."
   ]
  },
  {
   "cell_type": "code",
   "execution_count": 91,
   "metadata": {},
   "outputs": [
    {
     "name": "stdout",
     "output_type": "stream",
     "text": [
      "        HOTEL_NAME  ROOM_NUM ROOM_TYPE_NAME\n",
      "0  Hilton Brisbane       105    Single room\n"
     ]
    }
   ],
   "source": [
    "show_room_info('Hilton Brisbane', 105)"
   ]
  },
  {
   "cell_type": "markdown",
   "metadata": {},
   "source": [
    "Next, run the function to update the room type"
   ]
  },
  {
   "cell_type": "code",
   "execution_count": 92,
   "metadata": {
    "collapsed": true
   },
   "outputs": [],
   "source": [
    "update_room_type('Hilton Brisbane', 105, 'Queen room')"
   ]
  },
  {
   "cell_type": "markdown",
   "metadata": {},
   "source": [
    "Then, display the updated room details which show the updated room type:"
   ]
  },
  {
   "cell_type": "code",
   "execution_count": 93,
   "metadata": {},
   "outputs": [
    {
     "name": "stdout",
     "output_type": "stream",
     "text": [
      "        HOTEL_NAME  ROOM_NUM ROOM_TYPE_NAME\n",
      "0  Hilton Brisbane       105     Queen room\n"
     ]
    }
   ],
   "source": [
    "show_room_info('Hilton Brisbane', 105)"
   ]
  },
  {
   "cell_type": "markdown",
   "metadata": {},
   "source": [
    "Here is a sample case where the passed room type is invalid (because the room type argument passed is not defined in the **room_type** table)"
   ]
  },
  {
   "cell_type": "code",
   "execution_count": 94,
   "metadata": {},
   "outputs": [
    {
     "name": "stdout",
     "output_type": "stream",
     "text": [
      "Room type passed is invalid.\n"
     ]
    }
   ],
   "source": [
    "update_room_type('Hilton Brisbane', 105, 'Dining room')"
   ]
  },
  {
   "cell_type": "markdown",
   "metadata": {},
   "source": [
    "Run the query again to show that the room type was not updated"
   ]
  },
  {
   "cell_type": "code",
   "execution_count": 95,
   "metadata": {},
   "outputs": [
    {
     "name": "stdout",
     "output_type": "stream",
     "text": [
      "        HOTEL_NAME  ROOM_NUM ROOM_TYPE_NAME\n",
      "0  Hilton Brisbane       105     Queen room\n"
     ]
    }
   ],
   "source": [
    "show_room_info('Hilton Brisbane', 105)"
   ]
  },
  {
   "cell_type": "markdown",
   "metadata": {},
   "source": [
    "## 5.3 \n",
    "Search eligible membership by available credits (i.e. tier credits <= available credits) and return results sorted based guest names. Show your code works properly when there are guests with similar surname. (1 mark)"
   ]
  },
  {
   "cell_type": "code",
   "execution_count": 96,
   "metadata": {
    "collapsed": true
   },
   "outputs": [],
   "source": [
    "def search_eligible_members(tier):\n",
    "    cur_b.execute('''SELECT first_name, last_name \n",
    "        FROM customer \n",
    "        WHERE member_credit > \n",
    "            (SELECT tier_credit FROM membership WHERE member_tier_name=\\'{}\\')'''.format(tier))\n",
    "    rows = cur_b.fetchall()\n",
    "    if (len(rows) > 0):\n",
    "        print('Eligible customers for {} membership:'.format(tier))\n",
    "        i = 0\n",
    "        for row in rows:\n",
    "            i += 1\n",
    "            print('{}. {} {}'.format(i, row[0], row[1]))\n",
    "    else:\n",
    "        print('No eligible customers for {} membership'.format(city))    "
   ]
  },
  {
   "cell_type": "markdown",
   "metadata": {},
   "source": [
    "To illustrate, we'll find out who are eligible members for **Platinum Elite**.<br/>\n",
    "First, we'll check out the minimum credits for this tier."
   ]
  },
  {
   "cell_type": "code",
   "execution_count": 97,
   "metadata": {},
   "outputs": [
    {
     "data": {
      "text/html": [
       "<div>\n",
       "<style>\n",
       "    .dataframe thead tr:only-child th {\n",
       "        text-align: right;\n",
       "    }\n",
       "\n",
       "    .dataframe thead th {\n",
       "        text-align: left;\n",
       "    }\n",
       "\n",
       "    .dataframe tbody tr th {\n",
       "        vertical-align: top;\n",
       "    }\n",
       "</style>\n",
       "<table border=\"1\" class=\"dataframe\">\n",
       "  <thead>\n",
       "    <tr style=\"text-align: right;\">\n",
       "      <th></th>\n",
       "      <th>MEMBER_TIER_NAME</th>\n",
       "      <th>TIER_CREDIT</th>\n",
       "    </tr>\n",
       "  </thead>\n",
       "  <tbody>\n",
       "    <tr>\n",
       "      <th>0</th>\n",
       "      <td>Platinum Elite</td>\n",
       "      <td>50000</td>\n",
       "    </tr>\n",
       "  </tbody>\n",
       "</table>\n",
       "</div>"
      ],
      "text/plain": [
       "  MEMBER_TIER_NAME  TIER_CREDIT\n",
       "0   Platinum Elite        50000"
      ]
     },
     "execution_count": 97,
     "metadata": {},
     "output_type": "execute_result"
    }
   ],
   "source": [
    "df = pd.read_sql('SELECT member_tier_name, tier_credit FROM membership WHERE member_tier_name=\\'Platinum Elite\\'', con=conn_b)\n",
    "df"
   ]
  },
  {
   "cell_type": "markdown",
   "metadata": {},
   "source": [
    "Next, we run the function to get eligible customers:"
   ]
  },
  {
   "cell_type": "code",
   "execution_count": 98,
   "metadata": {},
   "outputs": [
    {
     "name": "stdout",
     "output_type": "stream",
     "text": [
      "Eligible customers for Platinum Elite membership:\n",
      "1. Chester Dollins\n",
      "2. Jon Smith\n"
     ]
    }
   ],
   "source": [
    "search_eligible_members('Platinum Elite')"
   ]
  },
  {
   "cell_type": "markdown",
   "metadata": {},
   "source": [
    "The following query illustrates that the code above works for customers with similar surnames. <br/>\n",
    "There are three customers with similar names but only one of them was eligible."
   ]
  },
  {
   "cell_type": "code",
   "execution_count": 99,
   "metadata": {},
   "outputs": [
    {
     "data": {
      "text/html": [
       "<div>\n",
       "<style>\n",
       "    .dataframe thead tr:only-child th {\n",
       "        text-align: right;\n",
       "    }\n",
       "\n",
       "    .dataframe thead th {\n",
       "        text-align: left;\n",
       "    }\n",
       "\n",
       "    .dataframe tbody tr th {\n",
       "        vertical-align: top;\n",
       "    }\n",
       "</style>\n",
       "<table border=\"1\" class=\"dataframe\">\n",
       "  <thead>\n",
       "    <tr style=\"text-align: right;\">\n",
       "      <th></th>\n",
       "      <th>FIRST_NAME</th>\n",
       "      <th>LAST_NAME</th>\n",
       "      <th>MEMBER_CREDIT</th>\n",
       "    </tr>\n",
       "  </thead>\n",
       "  <tbody>\n",
       "    <tr>\n",
       "      <th>0</th>\n",
       "      <td>John</td>\n",
       "      <td>Smith</td>\n",
       "      <td>15500</td>\n",
       "    </tr>\n",
       "    <tr>\n",
       "      <th>1</th>\n",
       "      <td>Jon</td>\n",
       "      <td>Smith</td>\n",
       "      <td>65000</td>\n",
       "    </tr>\n",
       "    <tr>\n",
       "      <th>2</th>\n",
       "      <td>Jon</td>\n",
       "      <td>Smithson</td>\n",
       "      <td>48000</td>\n",
       "    </tr>\n",
       "  </tbody>\n",
       "</table>\n",
       "</div>"
      ],
      "text/plain": [
       "  FIRST_NAME LAST_NAME  MEMBER_CREDIT\n",
       "0       John     Smith          15500\n",
       "1        Jon     Smith          65000\n",
       "2        Jon  Smithson          48000"
      ]
     },
     "execution_count": 99,
     "metadata": {},
     "output_type": "execute_result"
    }
   ],
   "source": [
    "df = pd.read_sql('SELECT first_name, last_name, member_credit FROM customer WHERE last_name LIKE \\'Smith%\\'', con=conn_b)\n",
    "df"
   ]
  },
  {
   "cell_type": "markdown",
   "metadata": {},
   "source": [
    "## 5.4 \n",
    "Provide a search query that searches available room by check-in and check-out date, room type, occupancy, and rate range. Only show 10 items. Also make sure the code provide appropriate output if it cannot not find any available room.  (2 marks)"
   ]
  },
  {
   "cell_type": "markdown",
   "metadata": {},
   "source": [
    "For this task, we will create two Views.<br/>\n",
    "**all_rooms** - view containing all hotel rooms that combine data from the **hotel** and **room** tables.<br/>\n",
    "**confirmed_booked_rooms** - view containing booked rooms that have not been *Cancelled*"
   ]
  },
  {
   "cell_type": "code",
   "execution_count": 100,
   "metadata": {
    "collapsed": true
   },
   "outputs": [],
   "source": [
    "cur_b.execute('''\n",
    "CREATE OR REPLACE VIEW all_rooms AS\n",
    "    SELECT h.hotel_id, h.hotel_name, r.room_num, r.room_type_code, r.occupancy, r.rate \n",
    "    FROM room r INNER JOIN hotel@FIT5148A h ON h.hotel_id=r.hotel_id''')"
   ]
  },
  {
   "cell_type": "code",
   "execution_count": 101,
   "metadata": {
    "collapsed": true
   },
   "outputs": [],
   "source": [
    "cur_b.execute('''\n",
    "CREATE OR REPLACE VIEW confirmed_booked_rooms AS\n",
    "    SELECT * from booked_room \n",
    "    WHERE booking_id IN (\n",
    "        SELECT booking_id FROM booking WHERE payment_status != 'Cancelled')''')"
   ]
  },
  {
   "cell_type": "code",
   "execution_count": 102,
   "metadata": {
    "collapsed": true
   },
   "outputs": [],
   "source": [
    "conn_b.commit()"
   ]
  },
  {
   "cell_type": "code",
   "execution_count": 103,
   "metadata": {
    "collapsed": true
   },
   "outputs": [],
   "source": [
    "# function for searching for available rooms\n",
    "def find_available_room(checkin_date, checkout_date, room_type_code, occupancy, min_rate, max_rate):\n",
    "    sql = '''\n",
    "        SELECT a.hotel_id, a.hotel_name, a.room_num, a.room_type_code, a.occupancy \n",
    "        FROM all_rooms a\n",
    "        WHERE a.occupancy={0}\n",
    "        AND a.room_type_code='{1}'\n",
    "        AND a.rate BETWEEN {2} and {3}\n",
    "        AND NOT EXISTS \n",
    "            (SELECT c.* FROM confirmed_booked_rooms c \n",
    "             WHERE c.hotel_id=a.hotel_id AND c.room_num=a.room_num\n",
    "             AND ((c.checkin_date <= TO_DATE('{4}', 'YYYY-MM-DD') AND c.checkout_date >= TO_DATE('{4}', 'YYYY-MM-DD'))\n",
    "                  OR\n",
    "                  (c.checkin_date <= TO_DATE('{5}', 'YYYY-MM-DD') AND c.checkout_date >= TO_DATE('{5}', 'YYYY-MM-DD')))\n",
    "            )\n",
    "        ORDER BY a.hotel_id, a.room_num\n",
    "    '''.format(occupancy, room_type_code, min_rate, max_rate, checkin_date, checkout_date)\n",
    "    \n",
    "    df = pd.read_sql(sql, con=conn_b)\n",
    "    if (not df.empty):\n",
    "        print('Available rooms:\\n')\n",
    "        print(df.head(10))  # show only 10 rows\n",
    "    else:\n",
    "        print('No room available for specified criteria.')"
   ]
  },
  {
   "cell_type": "markdown",
   "metadata": {},
   "source": [
    "Here are sample cases for searches with different criteria:"
   ]
  },
  {
   "cell_type": "code",
   "execution_count": 104,
   "metadata": {},
   "outputs": [
    {
     "name": "stdout",
     "output_type": "stream",
     "text": [
      "Available rooms:\n",
      "\n",
      "   HOTEL_ID               HOTEL_NAME  ROOM_NUM ROOM_TYPE_CODE  OCCUPANCY\n",
      "0         3  InterContinental Rialto       201              K          2\n",
      "1         3  InterContinental Rialto       202              K          2\n",
      "2         3  InterContinental Rialto       203              K          2\n",
      "3         3  InterContinental Rialto       204              K          2\n",
      "4         3  InterContinental Rialto       205              K          2\n",
      "5         3  InterContinental Rialto       206              K          2\n"
     ]
    }
   ],
   "source": [
    "# King (K), occupancy=2, rate from $200 to $300 for specified date\n",
    "find_available_room('2017-11-01', '2017-11-10', 'K', 2, 200, 300)"
   ]
  },
  {
   "cell_type": "code",
   "execution_count": 105,
   "metadata": {},
   "outputs": [
    {
     "name": "stdout",
     "output_type": "stream",
     "text": [
      "Available rooms:\n",
      "\n",
      "   HOTEL_ID        HOTEL_NAME  ROOM_NUM ROOM_TYPE_CODE  OCCUPANCY\n",
      "0         4  Vibe Savoy Hotel       201            STU          2\n",
      "1         4  Vibe Savoy Hotel       202            STU          2\n",
      "2         4  Vibe Savoy Hotel       203            STU          2\n"
     ]
    }
   ],
   "source": [
    "# Studio (STU), occupancy=2, rate from $200 to $300 for specified date\n",
    "find_available_room('2017-12-20', '2017-12-26', 'STU', 2, 200, 300)"
   ]
  },
  {
   "cell_type": "code",
   "execution_count": 106,
   "metadata": {},
   "outputs": [
    {
     "name": "stdout",
     "output_type": "stream",
     "text": [
      "Available rooms:\n",
      "\n",
      "   HOTEL_ID                 HOTEL_NAME  ROOM_NUM ROOM_TYPE_CODE  OCCUPANCY\n",
      "0         1  ParkRoyal Darling Harbour       203            STU          2\n",
      "1         1  ParkRoyal Darling Harbour       204            STU          2\n",
      "2         1  ParkRoyal Darling Harbour       205            STU          2\n",
      "3         1  ParkRoyal Darling Harbour       206            STU          2\n",
      "4         6   Novotel Surfers Paradise       203            STU          2\n",
      "5         6   Novotel Surfers Paradise       204            STU          2\n",
      "6         6   Novotel Surfers Paradise       205            STU          2\n",
      "7         6   Novotel Surfers Paradise       206            STU          2\n"
     ]
    }
   ],
   "source": [
    "# We will have different options if we increased the rate range\n",
    "# Studio (STU), occupancy=2, rate from $300 to $400 for specified date\n",
    "find_available_room('2017-12-20', '2017-12-26', 'STU', 2, 300, 400)"
   ]
  },
  {
   "cell_type": "code",
   "execution_count": 107,
   "metadata": {},
   "outputs": [
    {
     "name": "stdout",
     "output_type": "stream",
     "text": [
      "Available rooms:\n",
      "\n",
      "   HOTEL_ID                 HOTEL_NAME  ROOM_NUM ROOM_TYPE_CODE  OCCUPANCY\n",
      "0         1  ParkRoyal Darling Harbour       201            STU          2\n",
      "1         1  ParkRoyal Darling Harbour       202            STU          2\n",
      "2         1  ParkRoyal Darling Harbour       203            STU          2\n",
      "3         1  ParkRoyal Darling Harbour       204            STU          2\n",
      "4         1  ParkRoyal Darling Harbour       205            STU          2\n",
      "5         1  ParkRoyal Darling Harbour       206            STU          2\n",
      "6         6   Novotel Surfers Paradise       201            STU          2\n",
      "7         6   Novotel Surfers Paradise       202            STU          2\n",
      "8         6   Novotel Surfers Paradise       203            STU          2\n",
      "9         6   Novotel Surfers Paradise       204            STU          2\n"
     ]
    }
   ],
   "source": [
    "# And if we avoid the dates near Christmas, even more rooms become available \n",
    "# Studio (STU), occupancy=2, rate from $300 to $400 for specified date\n",
    "find_available_room('2017-12-01', '2017-12-06', 'STU', 2, 300, 400)"
   ]
  },
  {
   "cell_type": "markdown",
   "metadata": {},
   "source": [
    "## 5.5 \n",
    "Make a payment, show the updates, cancell it, and show the final status. After a payment is made/cancelled, membership credits should be awarded to/deducted from the user accordingly. Payment status of booking should be updated correspondingly as well.  (2 marks)"
   ]
  },
  {
   "cell_type": "markdown",
   "metadata": {},
   "source": [
    "This requirement is already taken care of by the configured trigger on the **payment** table.<br/>\n",
    "<br/>\n",
    "When a payment is made, membership credits are added to the customer and the payment status of the booking is set to 'Received'\n",
    "<br/>\n",
    "When a payment is cancelled, membership credits are deducted from the customer credit and payment status of the booking is set to 'Cancelled'.<br/>\n",
    "<br/>\n",
    "Following is an illustration:<br/>\n",
    "We will work on booking_id = 8 for customer \"Dylan Chaleun\" (cust_id = 8)"
   ]
  },
  {
   "cell_type": "code",
   "execution_count": 108,
   "metadata": {},
   "outputs": [
    {
     "data": {
      "text/html": [
       "<div>\n",
       "<style>\n",
       "    .dataframe thead tr:only-child th {\n",
       "        text-align: right;\n",
       "    }\n",
       "\n",
       "    .dataframe thead th {\n",
       "        text-align: left;\n",
       "    }\n",
       "\n",
       "    .dataframe tbody tr th {\n",
       "        vertical-align: top;\n",
       "    }\n",
       "</style>\n",
       "<table border=\"1\" class=\"dataframe\">\n",
       "  <thead>\n",
       "    <tr style=\"text-align: right;\">\n",
       "      <th></th>\n",
       "      <th>BOOKING_ID</th>\n",
       "      <th>CUST_ID</th>\n",
       "      <th>TOTAL_AMOUNT</th>\n",
       "      <th>PAYMENT_STATUS</th>\n",
       "    </tr>\n",
       "  </thead>\n",
       "  <tbody>\n",
       "    <tr>\n",
       "      <th>0</th>\n",
       "      <td>8</td>\n",
       "      <td>8</td>\n",
       "      <td>741.96</td>\n",
       "      <td>Pending</td>\n",
       "    </tr>\n",
       "  </tbody>\n",
       "</table>\n",
       "</div>"
      ],
      "text/plain": [
       "   BOOKING_ID  CUST_ID  TOTAL_AMOUNT PAYMENT_STATUS\n",
       "0           8        8        741.96        Pending"
      ]
     },
     "execution_count": 108,
     "metadata": {},
     "output_type": "execute_result"
    }
   ],
   "source": [
    "# current state showing booking status\n",
    "df = pd.read_sql('SELECT booking_id, cust_id, total_amount, payment_status FROM booking WHERE booking_id=8', con=conn_b)\n",
    "df"
   ]
  },
  {
   "cell_type": "code",
   "execution_count": 109,
   "metadata": {},
   "outputs": [
    {
     "data": {
      "text/html": [
       "<div>\n",
       "<style>\n",
       "    .dataframe thead tr:only-child th {\n",
       "        text-align: right;\n",
       "    }\n",
       "\n",
       "    .dataframe thead th {\n",
       "        text-align: left;\n",
       "    }\n",
       "\n",
       "    .dataframe tbody tr th {\n",
       "        vertical-align: top;\n",
       "    }\n",
       "</style>\n",
       "<table border=\"1\" class=\"dataframe\">\n",
       "  <thead>\n",
       "    <tr style=\"text-align: right;\">\n",
       "      <th></th>\n",
       "      <th>CUST_ID</th>\n",
       "      <th>FIRST_NAME</th>\n",
       "      <th>LAST_NAME</th>\n",
       "      <th>MEMBER_CREDIT</th>\n",
       "    </tr>\n",
       "  </thead>\n",
       "  <tbody>\n",
       "    <tr>\n",
       "      <th>0</th>\n",
       "      <td>8</td>\n",
       "      <td>Dylan</td>\n",
       "      <td>Chaleun</td>\n",
       "      <td>15500</td>\n",
       "    </tr>\n",
       "  </tbody>\n",
       "</table>\n",
       "</div>"
      ],
      "text/plain": [
       "   CUST_ID FIRST_NAME LAST_NAME  MEMBER_CREDIT\n",
       "0        8      Dylan   Chaleun          15500"
      ]
     },
     "execution_count": 109,
     "metadata": {},
     "output_type": "execute_result"
    }
   ],
   "source": [
    "# current state showing customer credits\n",
    "df = pd.read_sql('SELECT cust_id, first_name, last_name, member_credit FROM customer WHERE cust_id=8', con=conn_b)\n",
    "df"
   ]
  },
  {
   "cell_type": "markdown",
   "metadata": {},
   "source": [
    "** 5.5.1. Payment **<br/>\n",
    "Now, make a payment by inserting a record into the **payment** table for the booking id"
   ]
  },
  {
   "cell_type": "code",
   "execution_count": 110,
   "metadata": {
    "collapsed": true
   },
   "outputs": [],
   "source": [
    "cur_b.execute('''\n",
    "INSERT INTO payment (booking_id, payment_date, payment_method, payment_amount)\n",
    "VALUES (8, TO_DATE('2017-09-10', 'YYYY-MM-DD'), 'BPay', 741.96)\n",
    "''')\n",
    "conn_b.commit()"
   ]
  },
  {
   "cell_type": "markdown",
   "metadata": {},
   "source": [
    "Now check the booking and customer records\n",
    "- Payment_Status updated to 'Received'\n",
    "- member_credits has increased"
   ]
  },
  {
   "cell_type": "code",
   "execution_count": 111,
   "metadata": {},
   "outputs": [
    {
     "data": {
      "text/html": [
       "<div>\n",
       "<style>\n",
       "    .dataframe thead tr:only-child th {\n",
       "        text-align: right;\n",
       "    }\n",
       "\n",
       "    .dataframe thead th {\n",
       "        text-align: left;\n",
       "    }\n",
       "\n",
       "    .dataframe tbody tr th {\n",
       "        vertical-align: top;\n",
       "    }\n",
       "</style>\n",
       "<table border=\"1\" class=\"dataframe\">\n",
       "  <thead>\n",
       "    <tr style=\"text-align: right;\">\n",
       "      <th></th>\n",
       "      <th>BOOKING_ID</th>\n",
       "      <th>CUST_ID</th>\n",
       "      <th>TOTAL_AMOUNT</th>\n",
       "      <th>PAYMENT_STATUS</th>\n",
       "    </tr>\n",
       "  </thead>\n",
       "  <tbody>\n",
       "    <tr>\n",
       "      <th>0</th>\n",
       "      <td>8</td>\n",
       "      <td>8</td>\n",
       "      <td>741.96</td>\n",
       "      <td>Received</td>\n",
       "    </tr>\n",
       "  </tbody>\n",
       "</table>\n",
       "</div>"
      ],
      "text/plain": [
       "   BOOKING_ID  CUST_ID  TOTAL_AMOUNT PAYMENT_STATUS\n",
       "0           8        8        741.96       Received"
      ]
     },
     "execution_count": 111,
     "metadata": {},
     "output_type": "execute_result"
    }
   ],
   "source": [
    "# current state showing booking status\n",
    "df = pd.read_sql('SELECT booking_id, cust_id, total_amount, payment_status FROM booking WHERE booking_id=8', con=conn_b)\n",
    "df"
   ]
  },
  {
   "cell_type": "code",
   "execution_count": 112,
   "metadata": {},
   "outputs": [
    {
     "data": {
      "text/html": [
       "<div>\n",
       "<style>\n",
       "    .dataframe thead tr:only-child th {\n",
       "        text-align: right;\n",
       "    }\n",
       "\n",
       "    .dataframe thead th {\n",
       "        text-align: left;\n",
       "    }\n",
       "\n",
       "    .dataframe tbody tr th {\n",
       "        vertical-align: top;\n",
       "    }\n",
       "</style>\n",
       "<table border=\"1\" class=\"dataframe\">\n",
       "  <thead>\n",
       "    <tr style=\"text-align: right;\">\n",
       "      <th></th>\n",
       "      <th>CUST_ID</th>\n",
       "      <th>FIRST_NAME</th>\n",
       "      <th>LAST_NAME</th>\n",
       "      <th>MEMBER_CREDIT</th>\n",
       "    </tr>\n",
       "  </thead>\n",
       "  <tbody>\n",
       "    <tr>\n",
       "      <th>0</th>\n",
       "      <td>8</td>\n",
       "      <td>Dylan</td>\n",
       "      <td>Chaleun</td>\n",
       "      <td>16242</td>\n",
       "    </tr>\n",
       "  </tbody>\n",
       "</table>\n",
       "</div>"
      ],
      "text/plain": [
       "   CUST_ID FIRST_NAME LAST_NAME  MEMBER_CREDIT\n",
       "0        8      Dylan   Chaleun          16242"
      ]
     },
     "execution_count": 112,
     "metadata": {},
     "output_type": "execute_result"
    }
   ],
   "source": [
    "# current state showing customer credits\n",
    "df = pd.read_sql('SELECT cust_id, first_name, last_name, member_credit FROM customer WHERE cust_id=8', con=conn_b)\n",
    "df"
   ]
  },
  {
   "cell_type": "markdown",
   "metadata": {},
   "source": [
    "** 5.5.2. Cancel Payment **<br/>\n",
    "Now, make cancel the payment by inserting a debit (negative amount) into the **payment** table for the booking id"
   ]
  },
  {
   "cell_type": "code",
   "execution_count": 113,
   "metadata": {
    "collapsed": true
   },
   "outputs": [],
   "source": [
    "cur_b.execute('''\n",
    "INSERT INTO payment (booking_id, payment_date, payment_method, payment_amount)\n",
    "VALUES (8, TO_DATE('2017-09-10', 'YYYY-MM-DD'), 'BPay', -741.96)\n",
    "''')\n",
    "conn_b.commit()"
   ]
  },
  {
   "cell_type": "markdown",
   "metadata": {},
   "source": [
    "Now check the booking and customer records\n",
    "- Payment_Status updated to 'Cancelled'\n",
    "- member_credits have decreased"
   ]
  },
  {
   "cell_type": "code",
   "execution_count": 114,
   "metadata": {},
   "outputs": [
    {
     "data": {
      "text/html": [
       "<div>\n",
       "<style>\n",
       "    .dataframe thead tr:only-child th {\n",
       "        text-align: right;\n",
       "    }\n",
       "\n",
       "    .dataframe thead th {\n",
       "        text-align: left;\n",
       "    }\n",
       "\n",
       "    .dataframe tbody tr th {\n",
       "        vertical-align: top;\n",
       "    }\n",
       "</style>\n",
       "<table border=\"1\" class=\"dataframe\">\n",
       "  <thead>\n",
       "    <tr style=\"text-align: right;\">\n",
       "      <th></th>\n",
       "      <th>BOOKING_ID</th>\n",
       "      <th>CUST_ID</th>\n",
       "      <th>TOTAL_AMOUNT</th>\n",
       "      <th>PAYMENT_STATUS</th>\n",
       "    </tr>\n",
       "  </thead>\n",
       "  <tbody>\n",
       "    <tr>\n",
       "      <th>0</th>\n",
       "      <td>8</td>\n",
       "      <td>8</td>\n",
       "      <td>741.96</td>\n",
       "      <td>Cancelled</td>\n",
       "    </tr>\n",
       "  </tbody>\n",
       "</table>\n",
       "</div>"
      ],
      "text/plain": [
       "   BOOKING_ID  CUST_ID  TOTAL_AMOUNT PAYMENT_STATUS\n",
       "0           8        8        741.96      Cancelled"
      ]
     },
     "execution_count": 114,
     "metadata": {},
     "output_type": "execute_result"
    }
   ],
   "source": [
    "# current state showing booking status\n",
    "df = pd.read_sql('SELECT booking_id, cust_id, total_amount, payment_status FROM booking WHERE booking_id=8', con=conn_b)\n",
    "df"
   ]
  },
  {
   "cell_type": "code",
   "execution_count": 115,
   "metadata": {},
   "outputs": [
    {
     "data": {
      "text/html": [
       "<div>\n",
       "<style>\n",
       "    .dataframe thead tr:only-child th {\n",
       "        text-align: right;\n",
       "    }\n",
       "\n",
       "    .dataframe thead th {\n",
       "        text-align: left;\n",
       "    }\n",
       "\n",
       "    .dataframe tbody tr th {\n",
       "        vertical-align: top;\n",
       "    }\n",
       "</style>\n",
       "<table border=\"1\" class=\"dataframe\">\n",
       "  <thead>\n",
       "    <tr style=\"text-align: right;\">\n",
       "      <th></th>\n",
       "      <th>CUST_ID</th>\n",
       "      <th>FIRST_NAME</th>\n",
       "      <th>LAST_NAME</th>\n",
       "      <th>MEMBER_CREDIT</th>\n",
       "    </tr>\n",
       "  </thead>\n",
       "  <tbody>\n",
       "    <tr>\n",
       "      <th>0</th>\n",
       "      <td>8</td>\n",
       "      <td>Dylan</td>\n",
       "      <td>Chaleun</td>\n",
       "      <td>15500</td>\n",
       "    </tr>\n",
       "  </tbody>\n",
       "</table>\n",
       "</div>"
      ],
      "text/plain": [
       "   CUST_ID FIRST_NAME LAST_NAME  MEMBER_CREDIT\n",
       "0        8      Dylan   Chaleun          15500"
      ]
     },
     "execution_count": 115,
     "metadata": {},
     "output_type": "execute_result"
    }
   ],
   "source": [
    "# current state showing customer credits\n",
    "df = pd.read_sql('SELECT cust_id, first_name, last_name, member_credit FROM customer WHERE cust_id=8', con=conn_b)\n",
    "df"
   ]
  },
  {
   "cell_type": "markdown",
   "metadata": {},
   "source": [
    "## 5.6 \n",
    "Find the name and available credit  of the guest who booked the most number of rooms. (1 mark)\n",
    "Provide Python and SQL codes and results."
   ]
  },
  {
   "cell_type": "markdown",
   "metadata": {},
   "source": [
    "This task is interpreted as finding the customer who made the most bookings.<br/>\n",
    "As such, it is not enough to find the most number of rooms booked. We need to find out the one who made the most number of rooms booked for the most number of days.<br/>\n",
    "<br/>\n",
    "To help us with this, we can build a view with a derived column with the number of booked days, calculated by getting the difference in days between the checkout and checkin dates."
   ]
  },
  {
   "cell_type": "code",
   "execution_count": 116,
   "metadata": {
    "collapsed": true
   },
   "outputs": [],
   "source": [
    "cur_b.execute('''\n",
    "CREATE OR REPLACE VIEW confirmed_booked_days AS\n",
    "    SELECT b.cust_id, br.hotel_id, br.room_num, (br.checkout_date - br.checkin_date) as booked_days\n",
    "    FROM booking b INNER JOIN booked_room br ON b.booking_id=br.booking_id \n",
    "    WHERE b.payment_status != 'Cancelled'\n",
    "''')\n",
    "conn_b.commit()"
   ]
  },
  {
   "cell_type": "markdown",
   "metadata": {},
   "source": [
    "Then we can select records from this view, group them by customer id and summing up the calculated number of booked days.<br/>\n",
    "We sort the result by total number of booked days in descending order."
   ]
  },
  {
   "cell_type": "code",
   "execution_count": 117,
   "metadata": {},
   "outputs": [
    {
     "data": {
      "text/html": [
       "<div>\n",
       "<style>\n",
       "    .dataframe thead tr:only-child th {\n",
       "        text-align: right;\n",
       "    }\n",
       "\n",
       "    .dataframe thead th {\n",
       "        text-align: left;\n",
       "    }\n",
       "\n",
       "    .dataframe tbody tr th {\n",
       "        vertical-align: top;\n",
       "    }\n",
       "</style>\n",
       "<table border=\"1\" class=\"dataframe\">\n",
       "  <thead>\n",
       "    <tr style=\"text-align: right;\">\n",
       "      <th></th>\n",
       "      <th>CUST_ID</th>\n",
       "      <th>SUM_BOOKED_DAYS</th>\n",
       "    </tr>\n",
       "  </thead>\n",
       "  <tbody>\n",
       "    <tr>\n",
       "      <th>0</th>\n",
       "      <td>5</td>\n",
       "      <td>27</td>\n",
       "    </tr>\n",
       "    <tr>\n",
       "      <th>1</th>\n",
       "      <td>7</td>\n",
       "      <td>24</td>\n",
       "    </tr>\n",
       "    <tr>\n",
       "      <th>2</th>\n",
       "      <td>6</td>\n",
       "      <td>12</td>\n",
       "    </tr>\n",
       "    <tr>\n",
       "      <th>3</th>\n",
       "      <td>3</td>\n",
       "      <td>10</td>\n",
       "    </tr>\n",
       "    <tr>\n",
       "      <th>4</th>\n",
       "      <td>4</td>\n",
       "      <td>7</td>\n",
       "    </tr>\n",
       "    <tr>\n",
       "      <th>5</th>\n",
       "      <td>2</td>\n",
       "      <td>5</td>\n",
       "    </tr>\n",
       "    <tr>\n",
       "      <th>6</th>\n",
       "      <td>1</td>\n",
       "      <td>4</td>\n",
       "    </tr>\n",
       "  </tbody>\n",
       "</table>\n",
       "</div>"
      ],
      "text/plain": [
       "   CUST_ID  SUM_BOOKED_DAYS\n",
       "0        5               27\n",
       "1        7               24\n",
       "2        6               12\n",
       "3        3               10\n",
       "4        4                7\n",
       "5        2                5\n",
       "6        1                4"
      ]
     },
     "execution_count": 117,
     "metadata": {},
     "output_type": "execute_result"
    }
   ],
   "source": [
    "df = pd.read_sql('''\n",
    "SELECT cust_id, sum(booked_days) AS sum_booked_days \n",
    "FROM confirmed_booked_days\n",
    "GROUP by cust_id\n",
    "ORDER by sum_booked_days desc\n",
    "''', con=conn_b)\n",
    "df"
   ]
  },
  {
   "cell_type": "markdown",
   "metadata": {},
   "source": [
    "Finally, we combine a few SQL statements together to get the top customer who made the most bookings and his available credits."
   ]
  },
  {
   "cell_type": "code",
   "execution_count": 118,
   "metadata": {},
   "outputs": [
    {
     "data": {
      "text/html": [
       "<div>\n",
       "<style>\n",
       "    .dataframe thead tr:only-child th {\n",
       "        text-align: right;\n",
       "    }\n",
       "\n",
       "    .dataframe thead th {\n",
       "        text-align: left;\n",
       "    }\n",
       "\n",
       "    .dataframe tbody tr th {\n",
       "        vertical-align: top;\n",
       "    }\n",
       "</style>\n",
       "<table border=\"1\" class=\"dataframe\">\n",
       "  <thead>\n",
       "    <tr style=\"text-align: right;\">\n",
       "      <th></th>\n",
       "      <th>FIRST_NAME</th>\n",
       "      <th>LAST_NAME</th>\n",
       "      <th>MEMBER_CREDIT</th>\n",
       "    </tr>\n",
       "  </thead>\n",
       "  <tbody>\n",
       "    <tr>\n",
       "      <th>0</th>\n",
       "      <td>Chester</td>\n",
       "      <td>Dollins</td>\n",
       "      <td>83100</td>\n",
       "    </tr>\n",
       "  </tbody>\n",
       "</table>\n",
       "</div>"
      ],
      "text/plain": [
       "  FIRST_NAME LAST_NAME  MEMBER_CREDIT\n",
       "0    Chester   Dollins          83100"
      ]
     },
     "execution_count": 118,
     "metadata": {},
     "output_type": "execute_result"
    }
   ],
   "source": [
    "df = pd.read_sql('''\n",
    "    SELECT first_name, last_name, member_credit\n",
    "    FROM customer\n",
    "    WHERE cust_id IN\n",
    "        (SELECT cust_id FROM\n",
    "            (SELECT cust_id, sum(booked_days) AS sum_booked_days \n",
    "            FROM confirmed_booked_days\n",
    "            GROUP by cust_id\n",
    "            ORDER by sum_booked_days desc)\n",
    "        WHERE ROWNUM=1)\n",
    "''', con=conn_b)\n",
    "df"
   ]
  },
  {
   "cell_type": "markdown",
   "metadata": {},
   "source": [
    "**Notes:**\n",
    "* You need to prepopulate your tables such that you can demonstrate different scenarios when needed (eg, Task 5.3).\n",
    "* Make sure you provide your code, comments and the results of queries.\n",
    "* DO NOT create a database connection in each frame. There is a mark deduction (up to 3 marks) if you make multiple connections to the same database concurrently and if you do not CLOSE (2 marks) the connections properly.\n"
   ]
  },
  {
   "cell_type": "code",
   "execution_count": 119,
   "metadata": {
    "collapsed": true
   },
   "outputs": [],
   "source": [
    "# close cursors and connections\n",
    "cur_a.close()\n",
    "conn_a.close()\n",
    "\n",
    "cur_b.close()\n",
    "conn_b.close()"
   ]
  },
  {
   "cell_type": "markdown",
   "metadata": {},
   "source": [
    "Final reminders:\n",
    "* Providing SQL code, ER diagram, Python code and results in the Task order with numbered headings as specified in each requirement\n",
    "* PDF file of the last version of the Jupyter Notebook after all tasks are completed and executed (including all the results). You only need to perform **“Export as PDF”**.\n",
    "* **Submisssion delay**: 5% penalty per day including weekends. Submissions with one week delay will not be assessed\n",
    "* **Extensions**: You must submit a special consideration form and provide valid documentation such as a medical certificate prior to the submission deadline (NOT after). Please contact [MonashOnline.StudentSuccess](mailto:MonashOnline.StudentSuccess@monash.edu)\n",
    "* All the necessary files should be uploaded to Moodle as a zip file. Please use the following naming convention: ```FIT5148-A1-[StudentID].zip```. There is an effective **mark deduction** for missing documents, use of non-portable addresses, and non-standard file names."
   ]
  },
  {
   "cell_type": "code",
   "execution_count": null,
   "metadata": {
    "collapsed": true
   },
   "outputs": [],
   "source": []
  }
 ],
 "metadata": {
  "anaconda-cloud": {},
  "kernelspec": {
   "display_name": "Python 3",
   "language": "python",
   "name": "python3"
  },
  "language_info": {
   "codemirror_mode": {
    "name": "ipython",
    "version": 3
   },
   "file_extension": ".py",
   "mimetype": "text/x-python",
   "name": "python",
   "nbconvert_exporter": "python",
   "pygments_lexer": "ipython3",
   "version": "3.4.3"
  }
 },
 "nbformat": 4,
 "nbformat_minor": 1
}
